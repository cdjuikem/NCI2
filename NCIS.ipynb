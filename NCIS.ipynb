{
 "cells": [
  {
   "cell_type": "markdown",
   "id": "7c54a2cd-2df8-4e1c-9ae2-5a721c52dbe2",
   "metadata": {},
   "source": [
    "List of the 10 best search engines in 2024, ranked by popularity.-https://www.reliablesoft.net/top-10-search-engines-in-the-world/\n",
    "\n",
    "    \n",
    "Google: -https://news.google.com/home?hl=en-CA&gl=CA&ceid=CA:en\n",
    "\n",
    "Microsoft Bing: -https://www.bing.com/news\n",
    "\n",
    "Yahoo: -https://ca.news.yahoo.com/?guccounter=1\n",
    "\n",
    "Baidu: -https://www.baidu.com/s?ie=utf-8&f=8&rsv_bp=1&rsv_idx=1&tn=baidu&wd=news&fenlei=256&rsv_pq=0xf198e46b000dafa7&rsv_t=e82bDp7DoNzY6QDRdHuGeUcgMnZIicNq13fFntaqseTW5SIxarmFm29NiLXD&rqlang=en&rsv_dl=tb&rsv_enter=1&rsv_sug3=4&rsv_sug1=2&rsv_sug7=100&rsv_sug2=0&rsv_btype=i&inputT=1909&rsv_sug4=1908\n",
    "\n",
    "Yandex: -https://dzen.ru/news?issue_tld=com&utm_referrer=www.google.com&experiment=\n",
    "\n",
    "DuckDuckGo: -https://spreadprivacy.com/tag/duckduckgo/\n",
    "\n",
    "Ask.com: -https://www.ask.com/news\n",
    "\n",
    "Ecosia: -https://blog.ecosia.org/tag/news/\n",
    "\n",
    "Aol.com: -https://www.aol.com/news/\n",
    "\n",
    "Internet Archive: -https://archive.org/details/tvnews\n"
   ]
  },
  {
   "cell_type": "markdown",
   "id": "c79edc6c-69d7-418a-ac4e-bb8db3bf9df7",
   "metadata": {},
   "source": [
    "\n",
    " ### Google\n",
    " \n",
    " 9 Types of Maritime Crimes: -https://www.marineinsight.com/marine-safety/9-types-of-maritime-crimes/\n",
    " * Maritime Piracy\n",
    " * Unauthorized entry\n",
    " * Smuggling Exotic plants and animals\n",
    " *  Drug trafficking\n",
    " *  Illegal Carrying of Weapons and artiller\n",
    " *  Tax evasion\n",
    " *  Sailing or fishing in unauthorized  areas\n",
    " *  Discharging in Ocean Waters\n",
    " *  Human Trafficking"
   ]
  },
  {
   "cell_type": "markdown",
   "id": "4e92f1d4-a1d8-4d23-bf6d-f141159fce1d",
   "metadata": {},
   "source": [
    "**Illegal Carrying of Weapons and artiller**"
   ]
  },
  {
   "cell_type": "markdown",
   "id": "061d75a8-5933-422c-97e0-8a6d613f772e",
   "metadata": {},
   "source": [
    "I searched on the internet about `illegal carrying of weapons and artillery in the ocean,` but I did not find reasonable sources. The first five links did not include the word 'Ocean' in their title or context. In the rest of them (around 4 websites), they used `Oceania` word that is not related to ocean crime! Since Oceania is collective name for the islands scattered throughout most of the Pacific Ocean that contains it, there are a total of 14 countries that are within Oceania. These 14 countries include Australia, Papua New Guinea, New Zealand, Fiji, the Solomon Islands, Federated States Of Micronesia, Vanuatu, Samoa, Kiribati, Tonga, the Marshall Islands, Palau, Tuvalu, and Nauru). So it does give us biased information about those countries or islands, like the limited data. \n",
    "Based on my search, all commercial ships carrying all sorts of cargo sail routinely across and around the Pacific, Atlantic, and Indian Oceans, and there is no other way to get the goods produced in one country to all the world's consumers. In other terms, mentioning `oceania` is just referring to the Pacific Ocean without pointing to the other marine ways. \n",
    "I found a link that has uploaded a pdf about the kinds of weapons that are not related to our search. \n",
    "When I replaced the word ocean with `sea`, I found better results and the funny part is that it showed me the links that used the word `ocean`! Beside the word sea, it found the link that used `high sea`!"
   ]
  },
  {
   "cell_type": "code",
   "execution_count": 1,
   "id": "5113a5d0-2910-44de-b849-3887ff4282b4",
   "metadata": {},
   "outputs": [],
   "source": []
  },
  {
   "cell_type": "code",
   "execution_count": null,
   "id": "91f12a6d-a0c3-4674-b871-a2e02bebdda4",
   "metadata": {},
   "outputs": [],
   "source": []
  }
 ],
 "metadata": {
  "kernelspec": {
   "display_name": "Python 3 (ipykernel)",
   "language": "python",
   "name": "python3"
  },
  "language_info": {
   "codemirror_mode": {
    "name": "ipython",
    "version": 3
   },
   "file_extension": ".py",
   "mimetype": "text/x-python",
   "name": "python",
   "nbconvert_exporter": "python",
   "pygments_lexer": "ipython3",
   "version": "3.10.9"
  }
 },
 "nbformat": 4,
 "nbformat_minor": 5




**Google-incognito**
The first twenty links were found by searching the title 'Illegal Carrying of Weapons and Artillery on the Sea'.
* https://www.quora.com/Is-there-any-law-enforcement-on-the-open-ocean-What-are-the-guidelines-for-a-firearm
* https://www.huffpost.com/entry/firearms-on-the-boat-the_b_5148704
* https://www.theguardian.com/world/2013/jan/10/pirate-weapons-floating-armouries
* https://en.wikipedia.org/wiki/Overview_of_gun_laws_by_nation
* https://laws.justice.gc.ca/eng/regulations/SOR-98-462/FullText.html
* https://en.wikipedia.org/wiki/Arms_trafficking
* https://laws-lois.justice.gc.ca/eng/acts/c-46/page-15.html
* https://www.unodc.org/unodc/en/firearms-protocol/the-firearms-protocol.html
* https://www.fox35orlando.com/news/no-you-cant-carry-a-gun-wherever-you-want-in-florida-police-debunk-myths-about-new-permitless-carry-laws
* https://www.canada.ca/en/public-safety-canada/news/2023/12/legislation-to-reduce-gun-violence-receives-royal-assent.html
* https://www.cbc.ca/news/politics/trudeau-gun-control-measures-ban-1.5552131
* https://www.unodc.org/documents/data-and-analysis/Firearms/2020_REPORT_Global_Study_on_Firearms_Trafficking_2020_web.pdf
* https://www.canada.ca/en/public-safety-canada/news/2023/05/government-announces-strengthened-measures-to-prevent-gun-violence-and-ban-new-assault-style-firearms.html
* https://www.rcmp-grc.gc.ca/en/firearms/authorization-carry
* https://dnr.wisconsin.gov/emergency/concealedCarry.html
* https://www.newsnationnow.com/on-balance-with-leland-vittert/illinois-judge-migrants-guns/
* https://www.nraila.org/gun-laws/state-gun-laws/oklahoma/
* https://dec.ny.gov/things-to-do/hunting/regulations
* https://www.tsa.gov/travel/security-screening/whatcanibring/items/toy-guns-and-weapons
* https://www.google.com/search?q=illegal+carrying+of+weapons+and+artillery+on+the+sea&sca_esv=ee550f040f73c7f6&sca_upv=1&ei=BpZoZqnnIv7n0PEPzdys6AI&start=10&sa=N&ved=2ahUKEwipgtfZldSGAxX-MzQIHU0uCy0Q8tMDegQIBBAE&biw=1920&bih=993&dpr=2



}
