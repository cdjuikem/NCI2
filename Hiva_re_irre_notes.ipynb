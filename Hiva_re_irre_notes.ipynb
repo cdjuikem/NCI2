{
 "cells": [
  {
   "cell_type": "markdown",
   "id": "8f529899-c941-4784-b87f-5ff6e3e055ca",
   "metadata": {},
   "source": [
    "### How Google Search organizes information:\n",
    "\n",
    "- https://www.google.com/search/howsearchworks/how-search-works/organizing-information/\n",
    "\n",
    "  \n",
    "### How results are automatically generated in Google:\n",
    "\n",
    "- https://www.google.com/search/howsearchworks/how-search-works/ranking-results/\n",
    "\n",
    "  \n",
    "  **the key factors that help determine which results are returned for your query:**\n",
    "  \n",
    "      >>> Meaning of your query\n",
    "  \n",
    "          - To return relevant results, we first need to establish what you’re looking for ー the intent behind your query. To do this, we build language models to try to decipher how the relatively few words you enter into the search box match up to the most useful content available. This involves steps as seemingly simple as recognizing and correcting spelling mistakes, and extends to trying to our sophisticated synonym system that allows us to find relevant documents even if they don't contain the exact words you used. (depends on the date and the kind of queries)\n",
    "  \n",
    "      >>> Relevance of content\n",
    "  \n",
    "          - The most basic signal that information is relevant is when content contains the same keywords as your search query. For example, with webpages, if those keywords appear on the page, or if they appear in the headings or body of the text, the information might be more relevant. Beyond looking at keywords, our systems also analyze if content is relevant to a query in other ways. We also use aggregated and anonymized interaction data to assess whether search results are relevant to queries. \n",
    "  \n",
    "  \n",
    "      >>> Quality of content\n",
    "  \n",
    "          - After identifying relevant content, our systems aim to prioritize those that seem most helpful. To do this, they identify signals that can help determine which content demonstrates expertise, authoritativeness, and trustworthiness.\n",
    "  \n",
    "      >>> Usability of webpages\n",
    "  \n",
    "          - Our systems also consider the usability of content. When all things are relatively equal, content that people will find more accessible may perform better.\n",
    "\n",
    "\n",
    "  \n",
    "      >>> Context and settings\n",
    "  \n",
    "          - Information such as your location, past Search history, and Search settings all help us to ensure your results are what is most useful and relevant for you in that moment.\n",
    "  "
   ]
  },
  {
   "cell_type": "code",
   "execution_count": null,
   "id": "a5724d44-569b-4874-a947-3e2b3e14630b",
   "metadata": {},
   "outputs": [],
   "source": []
  },
  {
   "cell_type": "markdown",
   "id": "76952af7-c70e-4571-9505-86f6a7771288",
   "metadata": {},
   "source": [
    "What can be concluded here (**file:///Users/hivagheisari/Downloads/JosueGAlmarazRivera-Paper-SearchEngine.pdf**) is that the success of Google relies upon its continuous search algorithms improvement to achieve `high quality standards` specified in their public guidelines.\n",
    "\n",
    "Google guidline; what is the meaning of the high quality?( in terms of Google ) I think we can find the enswer in this link.\n",
    "\n",
    "* https://developers.google.com/search/docs/fundamentals/creating-helpful-content"
   ]
  },
  {
   "cell_type": "code",
   "execution_count": null,
   "id": "ab483668-1507-4440-a1cd-c2c067813c54",
   "metadata": {},
   "outputs": [],
   "source": []
  },
  {
   "cell_type": "markdown",
   "id": "48dbe809-4f7e-4a11-9e4d-aae8e1637356",
   "metadata": {},
   "source": [
    "- file:///Users/hivagheisari/Downloads/JosueGAlmarazRivera-Paper-SearchEngine.pdf\n",
    "\n",
    "While doing this search, Google ranking systems sort through these web pages to find the most relevant and useful\n",
    "results, in literally, a fraction of a second. This ranking considers factors such as:\n",
    "\n",
    "• The words of the query.\n",
    "\n",
    "• Relevance of the page.\n",
    "\n",
    "• Usability of the page.\n",
    "\n",
    "• User location and settings.\n",
    "\n",
    "• Expertise of sources.\n",
    "\n",
    "Not the same weight is applied to each of these factors. It varies depending on what we are looking for (i.e. the nature of the query). For instance, when we are searching current news topics, the freshness of the content matters the most. But finding and organizing information by crawling and indexing is not enough. Presenting this information in many useful formats (e.g. maps, images, videos) is something pretty\n",
    "important to also care about, because it helps users to find what they’re looking for quickly. This is what is known by Google as useful responses."
   ]
  },
  {
   "cell_type": "markdown",
   "id": "ae02e1d9-bf6f-4dc9-9e06-db6d4167a03d",
   "metadata": {},
   "source": [
    "### Fish_Catching"
   ]
  },
  {
   "cell_type": "markdown",
   "id": "aeec2d81-2ef7-450e-8841-b12c1a45192d",
   "metadata": {},
   "source": [
    "In our case, we need to find synonyms for relevant words and collocations.\n",
    "\n",
    "For irrelevant words, we can find some synonyms or related keywords that have a meaning that is far from the searched word. (or maybe antonym !!!) \n",
    "\n",
    "I mentioned some of them in `Hiva_scr_queries.ipynb`."
   ]
  },
  {
   "cell_type": "code",
   "execution_count": null,
   "id": "13f6ff57-267e-4330-8032-841a27cb7366",
   "metadata": {},
   "outputs": [],
   "source": []
  }
 ],
 "metadata": {
  "kernelspec": {
   "display_name": "Python 3 (ipykernel)",
   "language": "python",
   "name": "python3"
  },
  "language_info": {
   "codemirror_mode": {
    "name": "ipython",
    "version": 3
   },
   "file_extension": ".py",
   "mimetype": "text/x-python",
   "name": "python",
   "nbconvert_exporter": "python",
   "pygments_lexer": "ipython3",
   "version": "3.12.3"
  }
 },
 "nbformat": 4,
 "nbformat_minor": 5
}
