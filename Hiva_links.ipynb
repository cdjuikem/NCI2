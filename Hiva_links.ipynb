{
 "cells": [
  {
   "cell_type": "markdown",
   "id": "7c54a2cd-2df8-4e1c-9ae2-5a721c52dbe2",
   "metadata": {},
   "source": [
    "List of the 10 best search engines in 2024, ranked by popularity.-https://www.reliablesoft.net/top-10-search-engines-in-the-world/\n",
    "\n",
    "(engine, link of news)   \n",
    "Google: -https://news.google.com/home?hl=en-CA&gl=CA&ceid=CA:en\n",
    "\n",
    "Microsoft Bing: -https://www.bing.com/news\n",
    "\n",
    "Yahoo: -https://ca.news.yahoo.com/?guccounter=1\n",
    "\n",
    "Baidu: -https://www.baidu.com/s?ie=utf-8&f=8&rsv_bp=1&rsv_idx=1&tn=baidu&wd=news&fenlei=256&rsv_pq=0xf198e46b000dafa7&rsv_t=e82bDp7DoNzY6QDRdHuGeUcgMnZIicNq13fFntaqseTW5SIxarmFm29NiLXD&rqlang=en&rsv_dl=tb&rsv_enter=1&rsv_sug3=4&rsv_sug1=2&rsv_sug7=100&rsv_sug2=0&rsv_btype=i&inputT=1909&rsv_sug4=1908\n",
    "\n",
    "Yandex: -https://dzen.ru/news?issue_tld=com&utm_referrer=www.google.com&experiment=\n",
    "\n",
    "DuckDuckGo: -https://spreadprivacy.com/tag/duckduckgo/\n",
    "\n",
    "Ask.com: -https://www.ask.com/news\n",
    "\n",
    "Ecosia: -https://blog.ecosia.org/tag/news/\n",
    "\n",
    "Aol.com: -https://www.aol.com/news/\n",
    "\n",
    "Internet Archive: -https://archive.org/details/tvnews\n"
   ]
  },
  {
   "cell_type": "markdown",
   "id": "c79edc6c-69d7-418a-ac4e-bb8db3bf9df7",
   "metadata": {},
   "source": [
    "\n",
    " ### Google\n",
    " \n",
    " 9 Types of Maritime Crimes: -https://www.marineinsight.com/marine-safety/9-types-of-maritime-crimes/\n",
    " * Maritime Piracy\n",
    " * Unauthorized entry\n",
    " * Smuggling Exotic plants and animals\n",
    " *  Drug trafficking\n",
    " *  Illegal Carrying of Weapons and artiller\n",
    " *  Tax evasion\n",
    " *  Sailing or fishing in unauthorized  areas\n",
    " *  Discharging in Ocean Waters\n",
    " *  Human Trafficking"
   ]
  },
  {
   "cell_type": "markdown",
   "id": "4e92f1d4-a1d8-4d23-bf6d-f141159fce1d",
   "metadata": {},
   "source": [
    "**Illegal Carrying of Weapons and artiller**"
   ]
  },
  {
   "cell_type": "markdown",
   "id": "061d75a8-5933-422c-97e0-8a6d613f772e",
   "metadata": {},
   "source": [
    "I searched on the internet about `illegal carrying of weapons and artillery on the ocean,` but I did not find reasonable sources. The first five links did not include the word 'Ocean' in their title or context. In the rest of them (around 4 websites), they used `Oceania` word that is not related to ocean crime! Since Oceania is collective name for the islands scattered throughout most of the Pacific Ocean that contains it, there are a total of 14 countries that are within Oceania. These 14 countries include Australia, Papua New Guinea, New Zealand, Fiji, the Solomon Islands, Federated States Of Micronesia, Vanuatu, Samoa, Kiribati, Tonga, the Marshall Islands, Palau, Tuvalu, and Nauru). So it does give us biased information about those countries or islands, like the limited data. \n",
    "\n",
    "Based on my search, all commercial ships carrying all sorts of cargo sail routinely across and around the Pacific, Atlantic, and Indian Oceans, and there is no other way to get the goods produced in one country to all the world's consumers. In other terms, mentioning `oceania` is just referring to the Pacific Ocean without pointing to the other marine ways. \n",
    "\n",
    "I found a link that has uploaded a pdf about the kinds of weapons that are not related to our search. \n",
    "When I replaced the word ocean with `sea`, I found better results and the funny part is that it showed me the links that used the word `ocean`! Beside the word sea, it found the link that used `high sea`!"
   ]
  },
  {
   "cell_type": "markdown",
   "id": "98d4cdd1-0bdb-429d-aeb1-3ffda1018aad",
   "metadata": {},
   "source": [
    "**The first twenty links were found by searching the title 'Illegal Carrying of Weapons and Artillery on the Sea'.**\n",
    "\n",
    "* https://www.quora.com/Is-there-any-law-enforcement-on-the-open-ocean-What-are-the-guidelines-for-a-firearm\n",
    "* https://www.quora.com/Can-you-carry-a-gun-on-international-waters\n",
    "* https://www.huffpost.com/entry/firearms-on-the-boat-the_b_5148704\n",
    "* https://en.wikipedia.org/wiki/Overview_of_gun_laws_by_nation\n",
    "* https://www.theguardian.com/world/2013/jan/10/pirate-weapons-floating-armouries\n",
    "* https://en.wikipedia.org/wiki/Arms_trafficking\n",
    "* https://www.economist.com/the-americas/2023/10/05/the-caribbean-is-awash-with-illegal-american-guns\n",
    "* https://www.unodc.org/unodc/en/firearms-protocol/the-firearms-protocol.html\n",
    "* https://www.atf.gov/firearms/traveling-firearms\n",
    "* https://wisevoter.com/country-rankings/countries-where-guns-are-illegal/\n",
    "* https://www.cbc.ca/news/national-gun-trafficking-straw-buying-smuggling-firearms-1.5126228\n",
    "* https://www.unodc.org/documents/Maritime_crime/19-02073_Armouries_ebook.pdf\n",
    "* https://www.theguardian.com/us-news/2024/mar/14/haiti-gang-violence-us-guns-smuggling\n",
    "* https://tc.canada.ca/en/aviation/aviation-security/what-you-can-t-bring-plane\n",
    "* https://laws.justice.gc.ca/eng/regulations/SOR-98-462/FullText.html\n",
    "* https://thenationaldesk.com/news/nation-world/illegal-immigrants-can-carry-guns-under-second-amendment-federal-judge-rules-heriberto-carbajal-flores-chicago-district-judge-sharon-johnson-coleman-obama-ice-southern-border-2a-rights-illinois\n",
    "* https://www.canada.ca/en/public-safety-canada/news/2023/05/government-announces-strengthened-measures-to-prevent-gun-violence-and-ban-new-assault-style-firearms.html\n",
    "* https://www.usconcealedcarry.com/resources/federal-ccw-law/federally-banned-locations-for-carrying-firearms/\n",
    "* https://www.newsweek.com/undocumented-immigrants-have-right-own-guns-judge-rules-1880806\n",
    "* https://www.legis.la.gov/Legis/Law.aspx?d=78739\n",
    "* https://www.wired.com/2011/09/sea-mercs-gun-laws/\n",
    "\n",
    "  \n"
   ]
  },
  {
   "cell_type": "markdown",
   "id": "e12ab372-db2b-4385-8339-4c60f5c618a4",
   "metadata": {},
   "source": [
    "**11 Jun**\n",
    "\n",
    "-Based on our talk, we have to search in the form of incognito.\n",
    "\n",
    "-detailed-oriented questions.\n",
    "\n",
    "-table of words.\n",
    "\n"
   ]
  },
  {
   "cell_type": "markdown",
   "id": "28f008d2-01b9-43ca-8794-f89adaf918e8",
   "metadata": {},
   "source": [
    "**Google-incognito**\n",
    "The first twenty links were found by searching the title 'Illegal Carrying of Weapons and Artillery on the Sea'.\n",
    "* https://www.quora.com/Is-there-any-law-enforcement-on-the-open-ocean-What-are-the-guidelines-for-a-firearm\n",
    "* https://www.huffpost.com/entry/firearms-on-the-boat-the_b_5148704\n",
    "* https://www.theguardian.com/world/2013/jan/10/pirate-weapons-floating-armouries\n",
    "* https://en.wikipedia.org/wiki/Overview_of_gun_laws_by_nation\n",
    "* https://laws.justice.gc.ca/eng/regulations/SOR-98-462/FullText.html\n",
    "* https://en.wikipedia.org/wiki/Arms_trafficking\n",
    "* https://laws-lois.justice.gc.ca/eng/acts/c-46/page-15.html\n",
    "* https://www.unodc.org/unodc/en/firearms-protocol/the-firearms-protocol.html\n",
    "* https://www.fox35orlando.com/news/no-you-cant-carry-a-gun-wherever-you-want-in-florida-police-debunk-myths-about-new-permitless-carry-laws\n",
    "* https://www.canada.ca/en/public-safety-canada/news/2023/12/legislation-to-reduce-gun-violence-receives-royal-assent.html\n",
    "* https://www.cbc.ca/news/politics/trudeau-gun-control-measures-ban-1.5552131\n",
    "* https://www.unodc.org/documents/data-and-analysis/Firearms/2020_REPORT_Global_Study_on_Firearms_Trafficking_2020_web.pdf\n",
    "* https://www.canada.ca/en/public-safety-canada/news/2023/05/government-announces-strengthened-measures-to-prevent-gun-violence-and-ban-new-assault-style-firearms.html\n",
    "* https://www.rcmp-grc.gc.ca/en/firearms/authorization-carry\n",
    "* https://dnr.wisconsin.gov/emergency/concealedCarry.html\n",
    "* https://www.newsnationnow.com/on-balance-with-leland-vittert/illinois-judge-migrants-guns/\n",
    "* https://www.nraila.org/gun-laws/state-gun-laws/oklahoma/\n",
    "* https://dec.ny.gov/things-to-do/hunting/regulations\n",
    "* https://www.tsa.gov/travel/security-screening/whatcanibring/items/toy-guns-and-weapons\n",
    "* https://www.google.com/search?q=illegal+carrying+of+weapons+and+artillery+on+the+sea&sca_esv=ee550f040f73c7f6&sca_upv=1&ei=BpZoZqnnIv7n0PEPzdys6AI&start=10&sa=N&ved=2ahUKEwipgtfZldSGAxX-MzQIHU0uCy0Q8tMDegQIBBAE&biw=1920&bih=993&dpr=2"
   ]
  },
  {
   "cell_type": "markdown",
   "id": "e3de25a4-de9b-4eec-ae96-3ddd161f4f7e",
   "metadata": {},
   "source": [
    "My Questions:\n",
    "1) Which countries make the most use of the oceans and open seas for the exchange of goods and commercials activities?\n",
    "2) Which countries's flags are most misused or generallly used for commercial maritime activities that lead to maritime crimes?\n",
    "3) In which countries do most of these legal violations occure for maritime crimes?\n",
    "4) Which countries have weak maritime laws and regulations?\n",
    "5) Which countries have the most maritime laws that match world maritime laws?\n",
    "6) In which countries in question 5, do illegal actions occur?\n",
    "\n",
    "7) Which type of ocean crime is more popular?\n",
    "\n",
    "8) Which types of ocean crimes have a minor risk for countries to arrest?\n",
    "\n",
    "9) Which type of people are involved in ocean crime?\n",
    "\n",
    "10) In my case, which countries are involved in war? (civil war, or other types of war:))!)\n",
    "\n",
    "11) In which area do we have more people who are active in terrorist groups?\n",
    "\n",
    "12) Which countries are more affected by political news and which one has a direct effect on the rest of the world?\n"
   ]
  },
  {
   "cell_type": "markdown",
   "id": "06784cd0-2d30-44d0-b50b-e2d376199805",
   "metadata": {},
   "source": [
    "### Fish_Catching_queries_links:"
   ]
  },
  {
   "cell_type": "markdown",
   "id": "1a5c6f1c-5c4e-4916-a138-0cc913312fdb",
   "metadata": {},
   "source": [
    "These are the result that I found when I searched **Fish crimes on ocean**\n",
    "\n",
    "- https://www.msc.org/en-us/what-we-are-doing/oceans-at-risk/overfishing?gad_source=1&gclid=CjwKCAjwjqWzBhAqEiwAQmtgTz8A0uhPXmhjqOIm8SjCsiWs812u6_2JVrp_-UuHIxcT5Qc792dg-BoCidIQAvD_BwE\n",
    "- https://forthefishes.org/tank-watch-2/?gad_source=1&gclid=CjwKCAjwjqWzBhAqEiwAQmtgT6d1nyWkwSEPJFtC9KFfIlVKvpIo_zut9rZxw6AUe9yqAeDjwa_e0RoCb6AQAvD_BwE\n",
    "- https://wildlifejustice.org/fisheries-crime/?gad_source=1&gclid=CjwKCAjwjqWzBhAqEiwAQmtgTwI7ymTFWrE7QsLJUgvAXgD5ZSeLgdcmM_yGq6FVK1WnSzxiXvdOxBoCGqkQAvD_BwE\n",
    "- https://www.worldanimalprotection.ca/news/illegal-fishing-wildlifes-hidden-threat?ea.tracking.id=google_grant&utm_source=google_grant&utm_medium=google_grant&utm_campaign=google_grant&utm_content=&gad_source=1\n",
    "- https://www.science.org/doi/10.1126/sciadv.abj1927#:~:text=Our%20analysis%20reveals%20that%20the,%25)%3B%20transshipment%20(3%25)%3B%20and\n",
    "- https://oceana.org/reports/fish-crimes-in-the-global-oceans/\n",
    "- https://www.ncbi.nlm.nih.gov/pmc/articles/PMC8942372/\n",
    "- https://en.wikipedia.org/wiki/Fisheries_crime\n",
    "- https://www.interpol.int/en/Crimes/Environmental-crime/Fisheries-crime\n",
    "- https://wildlifejustice.org/fisheries-crime/\n",
    "- https://www.newyorker.com/magazine/2023/10/16/the-crimes-behind-the-seafood-you-eat\n",
    "- https://www.theglobeandmail.com/canada/article-seafood-crime-china-fishing-fleets/\n",
    "- https://www.frontiersin.org/articles/10.3389/fmars.2020.589000/full\n",
    "- https://www.freedomunited.org/news/sos-at-sea-forced-labor-abuse-and-murder-in-global-fishing-industry/?utm_source=google&utm_medium=cpc&utm_campaign=%28ROI%29%20DSA&utm_id=1080780403&utm_content=138149034224&utm_term=&gad_source=1&gclid=CjwKCAjwjqWzBhAqEiwAQmtgT_b44Y9hDof2mHbv4QiQUQpWCAeXhz3SCm-uAgyYDNAuxd-JnFx-7xoCQ9wQAvD_BwE\n",
    "- https://www.unodc.org/documents/about-unodc/Campaigns/Fisheries/focus_sheet_PRINT.pdf\n",
    "- https://skipperotto.com/outlaw-ocean-article-the-crimes-behind-the-seafood-you-eat/\n",
    "- https://www.nature.com/articles/s41586-020-2913-5\n",
    "- https://www.euronews.com/green/2022/10/27/ocean-calls-podcast-inside-the-murky-world-of-illegal-fishing\n",
    "- https://oceanpanel.org/publication/organised-crime-in-the-fisheries-sector/\n",
    "- https://oceana.org/reports/stolen-seafood-impact-pirate-fishing-our-oceans/\n"
   ]
  },
  {
   "cell_type": "code",
   "execution_count": null,
   "id": "06551271-46fa-410c-a8c6-a07000cbacb2",
   "metadata": {},
   "outputs": [],
   "source": []
  }
 ],
 "metadata": {
  "kernelspec": {
   "display_name": "Python 3 (ipykernel)",
   "language": "python",
   "name": "python3"
  },
  "language_info": {
   "codemirror_mode": {
    "name": "ipython",
    "version": 3
   },
   "file_extension": ".py",
   "mimetype": "text/x-python",
   "name": "python",
   "nbconvert_exporter": "python",
   "pygments_lexer": "ipython3",
   "version": "3.12.3"
  }
 },
 "nbformat": 4,
 "nbformat_minor": 5
}
