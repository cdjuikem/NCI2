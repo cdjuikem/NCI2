{
 "cells": [
  {
   "cell_type": "code",
   "execution_count": 50,
   "id": "b286d8ff",
   "metadata": {},
   "outputs": [],
   "source": [
    "from functions import *"
   ]
  },
  {
   "cell_type": "markdown",
   "id": "71be2548",
   "metadata": {},
   "source": [
    "### Importing queries"
   ]
  },
  {
   "cell_type": "code",
   "execution_count": 51,
   "id": "c8acff8a",
   "metadata": {},
   "outputs": [],
   "source": [
    "import pandas as pd\n",
    "\n",
    "# read the excel file\n",
    "excel_data = pd.read_excel('PIMS Sample Prompts.xlsx')\n",
    "\n",
    "queries = []\n",
    "for index, row in excel_data.iterrows():\n",
    "    # Process each row\n",
    "    queries.append(row['Prompt'])\n",
    "    \n",
    "queries = queries[:10]"
   ]
  },
  {
   "cell_type": "markdown",
   "id": "1de436ea",
   "metadata": {},
   "source": [
    "### Compare the number of results from Google, Yahoo, Bing for the first 10 queries from the excel file"
   ]
  },
  {
   "cell_type": "code",
   "execution_count": 55,
   "id": "fcfc897a",
   "metadata": {},
   "outputs": [],
   "source": [
    "google_results = 0\n",
    "yahoo_results = 0\n",
    "bing_results = 0\n",
    "\n",
    "google_search = []\n",
    "yahoo_search = []\n",
    "bing_search = []\n",
    "\n",
    "def count_result(search_results):\n",
    "    count = 0\n",
    "    for index, result in enumerate(search_results, start=1):\n",
    "        count += 1\n",
    "    return count\n",
    "\n"
   ]
  },
  {
   "cell_type": "code",
   "execution_count": 57,
   "id": "59034012",
   "metadata": {},
   "outputs": [
    {
     "name": "stdout",
     "output_type": "stream",
     "text": [
      "https://www.bing.com/news/search?q=Vessel caught misreporting catch amount\n",
      "https://www.bing.com/news/search?q=Vessel caught falsifying fishing logs\n",
      "https://www.bing.com/news/search?q=Vessel caught with incorrect catch reports\n",
      "https://www.bing.com/news/search?q=Vessel caught underreporting catch in North Atlantic\n",
      "https://www.bing.com/news/search?q=Vessel caught misreporting haddock catch\n",
      "https://www.bing.com/news/search?q=Vessel caught with inaccurate fish size records\n",
      "https://www.bing.com/news/search?q=Vessel caught underreporting catch near protected area\n",
      "https://www.bing.com/news/search?q=Vessel caught misreporting tuna catch quantities\n",
      "https://www.bing.com/news/search?q=Vessel caught with unrecorded fish species\n",
      "https://www.bing.com/news/search?q=Vessel caught bypassing quota system\n"
     ]
    }
   ],
   "source": [
    "for query in queries:\n",
    "    google_search += scrape_google_news(query)\n",
    "    yahoo_search += scrape_yahoo_news(query)\n",
    "    bing_search += scrape_bing_news(query)  \n",
    "    \n",
    "    \n"
   ]
  },
  {
   "cell_type": "code",
   "execution_count": 58,
   "id": "b386daa7",
   "metadata": {},
   "outputs": [
    {
     "name": "stdout",
     "output_type": "stream",
     "text": [
      "Google found 93 articles.\n",
      "Yahoo found 10 articles.\n",
      "Bing found 185 articles.\n"
     ]
    }
   ],
   "source": [
    "google_results = count_result(google_search)\n",
    "yahoo_results = count_result(yahoo_search)\n",
    "bing_results = count_result(bing_search)\n",
    "    \n",
    "    \n",
    "print(\"Google found\", google_results, \"articles.\")\n",
    "print(\"Yahoo found\", yahoo_results, \"articles.\")\n",
    "print(\"Bing found\", bing_results, \"articles.\")"
   ]
  },
  {
   "cell_type": "markdown",
   "id": "10d4c7aa",
   "metadata": {},
   "source": [
    "### Since Bing shows the most articles from search, Bing is recommended if you want more results."
   ]
  },
  {
   "cell_type": "code",
   "execution_count": null,
   "id": "7008138e",
   "metadata": {},
   "outputs": [],
   "source": []
  },
  {
   "cell_type": "code",
   "execution_count": null,
   "id": "3afff14e",
   "metadata": {},
   "outputs": [],
   "source": []
  },
  {
   "cell_type": "code",
   "execution_count": null,
   "id": "f69eeb5b",
   "metadata": {},
   "outputs": [],
   "source": []
  },
  {
   "cell_type": "markdown",
   "id": "da7ccb46",
   "metadata": {},
   "source": [
    "### With the same data, let's compare the novelty of articles"
   ]
  },
  {
   "cell_type": "markdown",
   "id": "e85f4328",
   "metadata": {},
   "source": [
    "#### Computing the average days for each engine"
   ]
  },
  {
   "cell_type": "code",
   "execution_count": 29,
   "id": "55d955e1",
   "metadata": {},
   "outputs": [],
   "source": [
    "# Set the date words:\n",
    "from datetime import datetime\n",
    "\n",
    "hour = ['hour', 'hours']\n",
    "day = ['day', 'days']\n",
    "week = ['week', 'weeks']\n",
    "month = ['month', 'months']\n",
    "year = ['year', 'years']\n",
    "# consider 1 week = 7 days, 1 month = 30 days, 1 year = 365 days for convenience\n",
    "\n",
    "def convert_day(text):\n",
    "    # In some cases, dates are given as YYYY-MM-DD\n",
    "    pattern = r'^\\d{4}-\\d{2}-\\d{2}$'\n",
    "    if re.match(pattern, text):\n",
    "        date = datetime.strptime(text, \"%Y-%M-%d\")\n",
    "        today = datetime.combine(date.today(), datetime.min.time())\n",
    "        days = str(today - date).split()\n",
    "        return int(days[0])\n",
    "    txtlist = text.split()\n",
    "    if txtlist[1] in ['hour', 'hours']:\n",
    "        return 1\n",
    "    if txtlist[1] in ['day', 'days']:\n",
    "        return int(txtlist[0])\n",
    "    if txtlist[1] in ['week', 'weeks']:\n",
    "        return int(txtlist[0])*7\n",
    "    if txtlist[1] in ['month', 'months']:\n",
    "        return int(txtlist[0])*30\n",
    "    if txtlist[1] in ['year', 'years']:\n",
    "        return int(txtlist[0])*365\n",
    "\n",
    "        \n"
   ]
  },
  {
   "cell_type": "code",
   "execution_count": 30,
   "id": "d5bf8e05",
   "metadata": {},
   "outputs": [],
   "source": [
    "# Computing Google average\n",
    "googledays = 0 \n",
    "for index, result in enumerate(google_search, start=1):\n",
    "    googledays += convert_day(result['date'])\n",
    "\n",
    "google_average_days = googledays/len(google_search)\n"
   ]
  },
  {
   "cell_type": "code",
   "execution_count": 31,
   "id": "db79e6f4",
   "metadata": {},
   "outputs": [],
   "source": [
    "# Computing Yahoo average\n",
    "yahoodays = 0 \n",
    "for index, result in enumerate(yahoo_search, start=1):\n",
    "    yahoodays += convert_day(result['date'])\n",
    "\n",
    "yahoo_average_days = yahoodays/len(yahoo_search)\n",
    "\n"
   ]
  },
  {
   "cell_type": "code",
   "execution_count": 32,
   "id": "f108abbb",
   "metadata": {},
   "outputs": [
    {
     "name": "stdout",
     "output_type": "stream",
     "text": [
      "10 days ago\n",
      "10 days ago\n",
      "6 days ago\n",
      "13 days ago\n",
      "10 days ago\n",
      "10 days ago\n",
      "10 days ago\n",
      "10 days ago\n",
      "10 days ago\n",
      "2024-06-04\n",
      "9 days ago\n",
      "2024-02-16\n",
      "2024-05-29\n",
      "2024-04-07\n",
      "13 days ago\n",
      "13 days ago\n",
      "5 days ago\n",
      "1 hour ago\n",
      "13 days ago\n",
      "10 days ago\n",
      "6 days ago\n",
      "13 days ago\n",
      "13 days ago\n",
      "12 days ago\n",
      "10 days ago\n",
      "13 days ago\n",
      "10 days ago\n",
      "1 hour ago\n",
      "5 days ago\n",
      "7 days ago\n",
      "12 days ago\n",
      "2024-05-30\n",
      "3 days ago\n",
      "10 days ago\n",
      "1 hour ago\n",
      "10 days ago\n",
      "2024-05-29\n",
      "2019-08-12\n",
      "2024-04-07\n",
      "2024-02-16\n",
      "5 days ago\n",
      "2023-10-28\n",
      "2009-12-16\n",
      "2022-10-10\n",
      "2023-09-08\n",
      "2021-08-07\n",
      "2022-12-06\n",
      "11 days ago\n",
      "2020-12-06\n",
      "2024-05-01\n",
      "2024-01-30\n",
      "2024-04-13\n",
      "2024-05-29\n",
      "2024-06-02\n",
      "2024-04-07\n",
      "2024-02-16\n",
      "2024-05-29\n",
      "2024-03-16\n",
      "10 days ago\n",
      "13 days ago\n",
      "2024-05-18\n",
      "2024-05-27\n",
      "2024-03-25\n",
      "2022-09-16\n",
      "2018-05-01\n",
      "2022-04-01\n",
      "2024-02-28\n",
      "2024-06-03\n",
      "2019-02-20\n",
      "2024-02-16\n",
      "2021-08-07\n",
      "2021-12-03\n",
      "2022-06-17\n",
      "2024-06-05\n",
      "2024-04-29\n",
      "10 days ago\n",
      "3 days ago\n",
      "6 days ago\n",
      "11 days ago\n",
      "6 days ago\n",
      "7 days ago\n",
      "5 days ago\n",
      "2024-06-04\n",
      "4 days ago\n",
      "5 days ago\n",
      "2023-09-08\n",
      "2024-05-29\n",
      "8 days ago\n"
     ]
    }
   ],
   "source": [
    "# Computing Bing average\n",
    "bingdays = 0 \n",
    "for index, result in enumerate(bing_search, start=1):\n",
    "    print(result['date'])\n",
    "    bingdays += convert_day(result['date'])\n",
    "\n",
    "bing_average_days = bingdays/len(bing_search)\n"
   ]
  },
  {
   "cell_type": "code",
   "execution_count": 33,
   "id": "ef517fbc",
   "metadata": {},
   "outputs": [
    {
     "name": "stdout",
     "output_type": "stream",
     "text": [
      "732.1702127659574 369.0 316.75\n"
     ]
    }
   ],
   "source": [
    "print(google_average_days, yahoo_average_days, bing_average_days)"
   ]
  },
  {
   "cell_type": "code",
   "execution_count": null,
   "id": "ff2d7547",
   "metadata": {},
   "outputs": [],
   "source": [
    "### Novelty can be two things:\n",
    "### 1. Newest\n",
    "### 2. How new one article is from another"
   ]
  }
 ],
 "metadata": {
  "kernelspec": {
   "display_name": "Python 3 (ipykernel)",
   "language": "python",
   "name": "python3"
  },
  "language_info": {
   "codemirror_mode": {
    "name": "ipython",
    "version": 3
   },
   "file_extension": ".py",
   "mimetype": "text/x-python",
   "name": "python",
   "nbconvert_exporter": "python",
   "pygments_lexer": "ipython3",
   "version": "3.11.7"
  }
 },
 "nbformat": 4,
 "nbformat_minor": 5
}
