{
 "cells": [
  {
   "cell_type": "code",
   "execution_count": 6,
   "id": "b286d8ff",
   "metadata": {},
   "outputs": [],
   "source": [
    "from functions import *"
   ]
  },
  {
   "cell_type": "markdown",
   "id": "71be2548",
   "metadata": {},
   "source": [
    "### Importing queries"
   ]
  },
  {
   "cell_type": "code",
   "execution_count": 7,
   "id": "c8acff8a",
   "metadata": {},
   "outputs": [],
   "source": [
    "import pandas as pd\n",
    "\n",
    "# read the excel file\n",
    "excel_data = pd.read_excel('PIMS Sample Prompts.xlsx')\n",
    "\n",
    "queries = []\n",
    "for index, row in excel_data.iterrows():\n",
    "    # Process each row\n",
    "    queries.append(row['Prompt'])\n",
    "    \n",
    "queries = queries[:10]"
   ]
  },
  {
   "cell_type": "markdown",
   "id": "1de436ea",
   "metadata": {},
   "source": [
    "### Compare the number of results from Google, Yahoo, Bing for the first 10 queries from the excel file"
   ]
  },
  {
   "cell_type": "code",
   "execution_count": 15,
   "id": "fcfc897a",
   "metadata": {},
   "outputs": [],
   "source": [
    "google_results = 0\n",
    "yahoo_results = 0\n",
    "bing_results = 0\n",
    "\n",
    "google_search = []\n",
    "yahoo_search = []\n",
    "bing_search = []"
   ]
  },
  {
   "cell_type": "code",
   "execution_count": 16,
   "id": "59034012",
   "metadata": {},
   "outputs": [
    {
     "name": "stdout",
     "output_type": "stream",
     "text": [
      "https://www.bing.com/news/search?q=Vessel caught misreporting catch amount\n",
      "https://www.bing.com/news/search?q=Vessel caught falsifying fishing logs\n",
      "https://www.bing.com/news/search?q=Vessel caught with incorrect catch reports\n",
      "https://www.bing.com/news/search?q=Vessel caught underreporting catch in North Atlantic\n",
      "https://www.bing.com/news/search?q=Vessel caught misreporting haddock catch\n",
      "https://www.bing.com/news/search?q=Vessel caught with inaccurate fish size records\n",
      "https://www.bing.com/news/search?q=Vessel caught underreporting catch near protected area\n",
      "https://www.bing.com/news/search?q=Vessel caught misreporting tuna catch quantities\n",
      "https://www.bing.com/news/search?q=Vessel caught with unrecorded fish species\n",
      "https://www.bing.com/news/search?q=Vessel caught bypassing quota system\n",
      "Google found 256 articles.\n",
      "Yahoo found 40 articles.\n",
      "Bing found 493 articles.\n"
     ]
    }
   ],
   "source": [
    "for query in queries:\n",
    "    google_search += scrape_google_news(query)\n",
    "    yahoo_search += scrape_yahoo_news(query)\n",
    "    bing_search += scrape_bing_news(query)  \n",
    "    \n",
    "    google_results += len(google_search)\n",
    "    yahoo_results += len(yahoo_search)\n",
    "    bing_results += len(bing_search)\n",
    "    \n",
    "    \n",
    "print(\"Google found\", google_results, \"articles.\")\n",
    "print(\"Yahoo found\", yahoo_results, \"articles.\")\n",
    "print(\"Bing found\", bing_results, \"articles.\")"
   ]
  },
  {
   "cell_type": "markdown",
   "id": "10d4c7aa",
   "metadata": {},
   "source": [
    "### Since Bing shows the most articles from search, Bing is recommended if you want more results."
   ]
  },
  {
   "cell_type": "code",
   "execution_count": null,
   "id": "7008138e",
   "metadata": {},
   "outputs": [],
   "source": []
  },
  {
   "cell_type": "code",
   "execution_count": null,
   "id": "3afff14e",
   "metadata": {},
   "outputs": [],
   "source": []
  },
  {
   "cell_type": "code",
   "execution_count": null,
   "id": "f69eeb5b",
   "metadata": {},
   "outputs": [],
   "source": []
  },
  {
   "cell_type": "markdown",
   "id": "da7ccb46",
   "metadata": {},
   "source": [
    "### With the same data, let's compare the novelty of articles"
   ]
  },
  {
   "cell_type": "markdown",
   "id": "e85f4328",
   "metadata": {},
   "source": [
    "#### Computing the average days for each engine"
   ]
  },
  {
   "cell_type": "code",
   "execution_count": 28,
   "id": "55d955e1",
   "metadata": {},
   "outputs": [],
   "source": [
    "# Set the date words:\n",
    "from datetime import datetime\n",
    "\n",
    "day = ['day', 'days']\n",
    "week = ['week', 'weeks']\n",
    "month = ['month', 'months']\n",
    "year = ['year', 'years']\n",
    "# consider 1 week = 7 days, 1 month = 30 days, 1 year = 365 days for convenience\n",
    "\n",
    "def convert_day(text):\n",
    "    txtlist = text.split()\n",
    "    if txtlist[1] in ['day', 'days']:\n",
    "        return int(txtlist[0])\n",
    "    if txtlist[1] in ['week', 'weeks']:\n",
    "        return int(txtlist[0])*7\n",
    "    if txtlist[1] in ['month', 'months']:\n",
    "        return int(txtlist[0])*30\n",
    "    if txtlist[1] in ['year', 'years']:\n",
    "        return int(txtlist[0])*365\n",
    "# In some cases, dates are given as YYYY-MM-DD\n",
    "    pattern = r'^\\d{4}-\\d{2}-\\d{2}$'\n",
    "    if re.match(pattern, text):\n",
    "        date = datetime.strptime(date_str, text)\n",
    "        today = datetime.combine(date.today(), datetime.min.time())\n",
    "        return today - date\n",
    "\n",
    "        \n"
   ]
  },
  {
   "cell_type": "code",
   "execution_count": 29,
   "id": "d5bf8e05",
   "metadata": {},
   "outputs": [],
   "source": [
    "# Computing Google average\n",
    "googledays = 0 \n",
    "for index, result in enumerate(google_search, start=1):\n",
    "    googledays += convert_day(result['date'])\n",
    "\n",
    "google_average_days = googledays/len(google_search)\n"
   ]
  },
  {
   "cell_type": "code",
   "execution_count": 30,
   "id": "db79e6f4",
   "metadata": {},
   "outputs": [],
   "source": [
    "# Computing Yahoo average\n",
    "yahoodays = 0 \n",
    "for index, result in enumerate(yahoo_search, start=1):\n",
    "    yahoodays += convert_day(result['date'])\n",
    "\n",
    "yahoo_average_days = yahoodays/len(yahoo_search)\n",
    "\n"
   ]
  },
  {
   "cell_type": "code",
   "execution_count": 31,
   "id": "f108abbb",
   "metadata": {},
   "outputs": [
    {
     "name": "stdout",
     "output_type": "stream",
     "text": [
      "10 days ago\n",
      "11 days ago\n",
      "9 days ago\n",
      "5 days ago\n",
      "6 days ago\n",
      "8 days ago\n",
      "10 days ago\n",
      "8 days ago\n",
      "9 days ago\n",
      "9 days ago\n",
      "2024-06-04\n"
     ]
    },
    {
     "ename": "IndexError",
     "evalue": "list index out of range",
     "output_type": "error",
     "traceback": [
      "\u001b[1;31m---------------------------------------------------------------------------\u001b[0m",
      "\u001b[1;31mIndexError\u001b[0m                                Traceback (most recent call last)",
      "Cell \u001b[1;32mIn[31], line 5\u001b[0m\n\u001b[0;32m      3\u001b[0m \u001b[38;5;28;01mfor\u001b[39;00m index, result \u001b[38;5;129;01min\u001b[39;00m \u001b[38;5;28menumerate\u001b[39m(bing_search, start\u001b[38;5;241m=\u001b[39m\u001b[38;5;241m1\u001b[39m):\n\u001b[0;32m      4\u001b[0m     \u001b[38;5;28mprint\u001b[39m(result[\u001b[38;5;124m'\u001b[39m\u001b[38;5;124mdate\u001b[39m\u001b[38;5;124m'\u001b[39m])\n\u001b[1;32m----> 5\u001b[0m     bingdays \u001b[38;5;241m+\u001b[39m\u001b[38;5;241m=\u001b[39m convert_day(result[\u001b[38;5;124m'\u001b[39m\u001b[38;5;124mdate\u001b[39m\u001b[38;5;124m'\u001b[39m])\n\u001b[0;32m      7\u001b[0m bing_average_days \u001b[38;5;241m=\u001b[39m bingdays\u001b[38;5;241m/\u001b[39m\u001b[38;5;28mlen\u001b[39m(bing_search)\n",
      "Cell \u001b[1;32mIn[28], line 12\u001b[0m, in \u001b[0;36mconvert_day\u001b[1;34m(text)\u001b[0m\n\u001b[0;32m     10\u001b[0m \u001b[38;5;28;01mdef\u001b[39;00m \u001b[38;5;21mconvert_day\u001b[39m(text):\n\u001b[0;32m     11\u001b[0m     txtlist \u001b[38;5;241m=\u001b[39m text\u001b[38;5;241m.\u001b[39msplit()\n\u001b[1;32m---> 12\u001b[0m     \u001b[38;5;28;01mif\u001b[39;00m txtlist[\u001b[38;5;241m1\u001b[39m] \u001b[38;5;129;01min\u001b[39;00m [\u001b[38;5;124m'\u001b[39m\u001b[38;5;124mday\u001b[39m\u001b[38;5;124m'\u001b[39m, \u001b[38;5;124m'\u001b[39m\u001b[38;5;124mdays\u001b[39m\u001b[38;5;124m'\u001b[39m]:\n\u001b[0;32m     13\u001b[0m         \u001b[38;5;28;01mreturn\u001b[39;00m \u001b[38;5;28mint\u001b[39m(txtlist[\u001b[38;5;241m0\u001b[39m])\n\u001b[0;32m     14\u001b[0m     \u001b[38;5;28;01mif\u001b[39;00m txtlist[\u001b[38;5;241m1\u001b[39m] \u001b[38;5;129;01min\u001b[39;00m [\u001b[38;5;124m'\u001b[39m\u001b[38;5;124mweek\u001b[39m\u001b[38;5;124m'\u001b[39m, \u001b[38;5;124m'\u001b[39m\u001b[38;5;124mweeks\u001b[39m\u001b[38;5;124m'\u001b[39m]:\n",
      "\u001b[1;31mIndexError\u001b[0m: list index out of range"
     ]
    }
   ],
   "source": [
    "# Computing Bing average\n",
    "bingdays = 0 \n",
    "for index, result in enumerate(bing_search, start=1):\n",
    "    print(result['date'])\n",
    "    bingdays += convert_day(result['date'])\n",
    "\n",
    "bing_average_days = bingdays/len(bing_search)\n"
   ]
  },
  {
   "cell_type": "code",
   "execution_count": null,
   "id": "ef517fbc",
   "metadata": {},
   "outputs": [],
   "source": []
  }
 ],
 "metadata": {
  "kernelspec": {
   "display_name": "Python 3 (ipykernel)",
   "language": "python",
   "name": "python3"
  },
  "language_info": {
   "codemirror_mode": {
    "name": "ipython",
    "version": 3
   },
   "file_extension": ".py",
   "mimetype": "text/x-python",
   "name": "python",
   "nbconvert_exporter": "python",
   "pygments_lexer": "ipython3",
   "version": "3.11.7"
  }
 },
 "nbformat": 4,
 "nbformat_minor": 5
}
