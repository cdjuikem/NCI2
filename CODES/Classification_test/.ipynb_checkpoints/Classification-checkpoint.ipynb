{
 "cells": [
  {
   "cell_type": "code",
   "execution_count": 79,
   "id": "1aa82148",
   "metadata": {},
   "outputs": [],
   "source": [
    "from functions import *\n"
   ]
  },
  {
   "cell_type": "code",
   "execution_count": 80,
   "id": "127737f3",
   "metadata": {},
   "outputs": [
    {
     "name": "stdout",
     "output_type": "stream",
     "text": [
      "there are 12 articles in relevant_articles.\n",
      "there are 11 articles in irrelevant_articles.\n"
     ]
    },
    {
     "data": {
      "text/plain": [
       "3415"
      ]
     },
     "execution_count": 80,
     "metadata": {},
     "output_type": "execute_result"
    }
   ],
   "source": [
    "#get pre-scraped text data\n",
    "\n",
    "with open('rel_articles.txt', 'r') as file:\n",
    "    data_code = file.read()\n",
    "\n",
    "exec(data_code)  # Just to verify the content read\n",
    "\n",
    "#get the data\n",
    "with open('irrel_articles.txt', 'r') as file:\n",
    "    data_code = file.read()\n",
    "\n",
    "exec(data_code)  # Just to verify the content read\n",
    "\n",
    "rel_location = []\n",
    "irrel_location = []\n",
    "\n",
    "\n",
    "len(relevant_articles)\n",
    "len(relevant_articles[0])"
   ]
  },
  {
   "cell_type": "code",
   "execution_count": 81,
   "id": "030b7d75",
   "metadata": {
    "scrolled": true
   },
   "outputs": [
    {
     "name": "stdout",
     "output_type": "stream",
     "text": [
      "['Masset', 'Masset', 'Salmon Area', 'Masset']\n",
      "[]\n",
      "rel============\n",
      "['Alaska', 'US', 'Alaska', 'Alaska']\n",
      "[]\n",
      "rel============\n",
      "['Chinese', 'Shinan', 'South Koreas', 'the Yellow Sea', 'Chinese']\n",
      "[]\n",
      "rel============\n",
      "['Dutch', 'The Netherlands', 'Dutch', 'Dutch', 'Netherlands', 'Dutch', 'European', 'Dutch', 'Netherlands', 'Netherlands', 'Dutch', 'Dutch', 'Dutch', 'Parlevliet', 'the Bay of Biscay', 'Netherlands']\n",
      "['the  Union', 'the  Union\\n\\n\\nSimultaneously LIFE']\n",
      "rel============\n",
      "['Maine', 'New Hampshire', 'Rockland', 'Maine', 'Maine', 'Western Sea', 'US', 'Atlantic', 'the Western Sea']\n",
      "[]\n",
      "rel============\n",
      "['Oceans']\n",
      "[]\n",
      "rel============\n",
      "['Georgetown', 'Oceans', 'Souris', 'Dorgans']\n",
      "[]\n",
      "rel============\n",
      "['Rockland', 'Maine', 'Maine', 'Western Sea Inc', 'Western Sea', 'Maine', 'the Western Sea', 'Maine', 'US', 'US']\n",
      "[]\n",
      "rel============\n",
      "['Spanish', 'Central African', 'Gabonese', 'Gabonese', 'Gabonese', 'the Gulf of Guinea']\n",
      "[]\n",
      "rel============\n",
      "['Spanish', 'Central African', 'Spanish', 'Spain', 'Spanish', 'European', 'Spanish', 'European', 'IUU Congolese', 'Spanish', 'Gabonese', 'Nationale', 'Gabonese', 'the Gulf of Guinea', 'Nationale', 'Sharks', 'Asian']\n",
      "['Marine', 'Marine']\n",
      "rel============\n",
      "['Antarctic', 'Patagonian', 'Antarctic', 'West African', 'Liberia', 'Liberian', 'Togo', 'Angola', 'Nigeria', 'Nigerian', 'the Republic of Indonesia', 'Jakarta', 'Indonesia']\n",
      "[]\n",
      "rel============\n",
      "['Fines', 'Korean', 'Otago', 'New Zealand', 'Lyttelton', 'Uruguay South America']\n",
      "[]\n",
      "rel============\n",
      "['Australian', 'Sydney', 'Australias', 'South America', 'Australia', 'Sydney', 'Seafish', 'Australia', 'Sydney', 'Hobart', 'Sydney']\n",
      "['Tasmania']\n",
      "irrel============\n",
      "['Maldives', 'Thailand', 'Thai', 'Maldives', 'Thai', 'Djibouti', 'Somali', 'Thailand', 'Djibouti', 'Thai', 'the Indian Ocean', 'Puntland', 'Somali', 'Somali', 'Puntland', 'Honduran', 'Bolivia', 'Thai', 'Cambodian', 'Somali', 'Thai', 'Djibouti', 'Thai', 'Thai', 'Thai', 'Thai', 'Thailand', 'Somalia', 'Africa', 'Somali', 'States', 'Somali', 'Somali']\n",
      "[]\n",
      "irrel============\n",
      "['Jakarta', 'Indonesia', 'Rembang', 'Indonesia', 'Skylight', 'Skylight', 'Skylight', 'Skylight', 'the KKP UNODC', 'Skylight', 'Indonesia', 'Indonesia', 'Indonesia', 'Indonesia', 'Indonesia', 'Skylight']\n",
      "[]\n",
      "irrel============\n",
      "['Frontiers', 'Us', 'the United Kingdom\\n\\n\\nOrange', 'Frontiers', 'the North Atlantic', 'the Sea Around', 'Us', 'Mnoa', 'Deepwater']\n",
      "[]\n",
      "irrel============\n",
      "['West African', 'West African', 'West Africa']\n",
      "[]\n",
      "irrel============\n",
      "['the Indian Ocean\\n\\nSean Parramore']\n",
      "[]\n",
      "irrel============\n",
      "['UW', 'Us']\n",
      "[]\n",
      "irrel============\n",
      "['Patagonian', 'Chilean', 'the Southern Ocean']\n",
      "[]\n",
      "irrel============\n",
      "['MOSCOW', 'Novoazovsk', 'the Norwegian Sea', 'Norwegian', 'Norwegian', 'Russian', 'the Norwegian Sea', 'Norwegian', 'Novoazovsk', 'Novoazovsk', 'Norwegian', 'Moscow', 'Norwegian', 'Novoazovsk', 'Murmansk']\n",
      "[]\n",
      "irrel============\n",
      "['Villages', 'Peru']\n",
      "[]\n",
      "irrel============\n",
      "['Thai', 'Ceribu', 'Phuket', 'the Indian Ocean', 'Thailand', 'Thai', 'Thai', 'Thai', 'Thai', 'Thailand', 'GT', 'Thai', 'Thailand', 'Chinese', 'Ratnagiri', 'Indian', 'Indian', 'Fujian', 'China', 'Indian', 'Indonesia', 'Philippines', 'China', 'Indian', 'Chinese', 'Maharashtra', 'EEZ', 'Indian Ocean', 'South African', 'Chinese', 'Chinese']\n",
      "['Ocean']\n",
      "irrel============\n"
     ]
    }
   ],
   "source": [
    "#### preprocess the data with our word_groups\n",
    "cleaned_rel_articles = []\n",
    "cleaned_irrel_articles = []\n",
    "\n",
    "for article in relevant_articles:\n",
    "    # remove all special characters\n",
    "    cleaned = article\n",
    "    cleaned =  re.sub(r'[^-a-zA-Z0-9\\s]', '', cleaned)\n",
    "\n",
    "    # Find all location words\n",
    "    location_words = find_location(cleaned)\n",
    "    print(location_words)\n",
    "    rel_location.append(location_words)\n",
    "    # Remove all location words from the text\n",
    "    for word in location_words:\n",
    "        cleaned = re.sub(word, '', cleaned)\n",
    "\n",
    "    print(find_location(cleaned))\n",
    "    print(\"rel============\")\n",
    "    #print(\"article after removing location\", len(article))\n",
    "    cleaned = text_preprocess(cleaned)\n",
    "    #print(\"article after preprocess\", len(article))\n",
    "    cleaned = rep_word_text(cleaned)\n",
    "    #print(\"article after rep\", len(article))\n",
    "    cleaned_rel_articles.append(cleaned)\n",
    "\n",
    "    \n",
    "for article in irrelevant_articles:\n",
    "    # remove all special characters\n",
    "    cleaned = article\n",
    "    cleaned =  re.sub(r'[^-a-zA-Z0-9\\s]', '', cleaned)\n",
    "    \n",
    "    # Find all location words\n",
    "    location_words = find_location(cleaned)\n",
    "    print(location_words)\n",
    "    irrel_location.append(location_words)\n",
    "    # Remove all location words from the text\n",
    "    for word in location_words:\n",
    "        cleaned = re.sub(word, '', cleaned)\n",
    "    print(find_location(cleaned))\n",
    "    print(\"irrel============\")\n",
    "    \n",
    "    cleaned = text_preprocess(cleaned)    \n",
    "    cleaned = rep_word_text(cleaned)\n",
    "    cleaned_irrel_articles.append(cleaned)\n",
    "    \n",
    "\n"
   ]
  },
  {
   "cell_type": "code",
   "execution_count": 82,
   "id": "0d9cbd74",
   "metadata": {},
   "outputs": [
    {
     "name": "stdout",
     "output_type": "stream",
     "text": [
      "12\n",
      "11\n"
     ]
    }
   ],
   "source": [
    "# Training data (target)\n",
    "labels = []\n",
    "print(len(cleaned_rel_articles))\n",
    "print(len(cleaned_irrel_articles))\n",
    "for i in range(len(cleaned_rel_articles)):\n",
    "    labels.append('relevant')\n",
    "for i in range(len(cleaned_irrel_articles)):\n",
    "    labels.append('irrelevant')\n",
    "\n",
    "# Training data (independent variable)    \n",
    "articles = cleaned_rel_articles + cleaned_irrel_articles\n"
   ]
  },
  {
   "cell_type": "code",
   "execution_count": 85,
   "id": "c603a75c",
   "metadata": {},
   "outputs": [
    {
     "name": "stdout",
     "output_type": "stream",
     "text": [
      "DataFrame has been saved to output.xlsx\n"
     ]
    }
   ],
   "source": [
    "####### Have to have search_results_articles as a pandas data frame\n",
    "\n",
    "df_articles = pd.DataFrame(articles)\n",
    "\n",
    "# Save DataFrame to Excel\n",
    "df_articles.to_excel('tmp_articles.xlsx', index=False)\n",
    "\n",
    "print(\"DataFrame has been saved to output.xlsx\")\n"
   ]
  },
  {
   "cell_type": "markdown",
   "id": "251a81dd",
   "metadata": {},
   "source": [
    "### TF-IDF vectorization"
   ]
  },
  {
   "cell_type": "code",
   "execution_count": 86,
   "id": "45f17731",
   "metadata": {},
   "outputs": [],
   "source": [
    "#### Vectorizing with the keywords\n",
    "\n",
    "from sklearn.feature_extraction.text import TfidfVectorizer\n",
    "from sklearn.cluster import KMeans\n",
    "import numpy as np\n",
    "\n",
    "# Initialize TF-IDF vectorizer with preselected keywords\n",
    "#vectorizer = TfidfVectorizer(vocabulary=keywords)\n",
    "vectorizer = TfidfVectorizer(stop_words='english')\n",
    "\n",
    "# Compute TF-IDF scores for articles based on preselected keywords\n",
    "tfidf_matrix = vectorizer.fit_transform(articles)\n",
    "\n",
    "# Convert sparse TF-IDF matrix to dense array (for clustering)\n",
    "tfidf_matrix_dense = tfidf_matrix.toarray()"
   ]
  },
  {
   "cell_type": "code",
   "execution_count": 66,
   "id": "c62ca289",
   "metadata": {},
   "outputs": [],
   "source": [
    "#### Split the articles into \"training set\" and \"testing set\".\n",
    "from sklearn.model_selection import train_test_split\n",
    "\n",
    "# Split data into training and testing sets (80% training, 20% testing)\n",
    "X_train, X_test, y_train, y_test = train_test_split(tfidf_matrix_dense, labels, test_size=0.2, random_state=42)\n"
   ]
  },
  {
   "cell_type": "markdown",
   "id": "f5bb7947",
   "metadata": {},
   "source": [
    "#### Warning: Because the number of articles are limited, the results highly depends on the training set"
   ]
  },
  {
   "cell_type": "markdown",
   "id": "8ddb8af0",
   "metadata": {},
   "source": [
    "### Multinomial Naive Bayesian"
   ]
  },
  {
   "cell_type": "code",
   "execution_count": 23,
   "id": "4d467ee7",
   "metadata": {},
   "outputs": [
    {
     "data": {
      "text/html": [
       "<style>#sk-container-id-1 {color: black;background-color: white;}#sk-container-id-1 pre{padding: 0;}#sk-container-id-1 div.sk-toggleable {background-color: white;}#sk-container-id-1 label.sk-toggleable__label {cursor: pointer;display: block;width: 100%;margin-bottom: 0;padding: 0.3em;box-sizing: border-box;text-align: center;}#sk-container-id-1 label.sk-toggleable__label-arrow:before {content: \"▸\";float: left;margin-right: 0.25em;color: #696969;}#sk-container-id-1 label.sk-toggleable__label-arrow:hover:before {color: black;}#sk-container-id-1 div.sk-estimator:hover label.sk-toggleable__label-arrow:before {color: black;}#sk-container-id-1 div.sk-toggleable__content {max-height: 0;max-width: 0;overflow: hidden;text-align: left;background-color: #f0f8ff;}#sk-container-id-1 div.sk-toggleable__content pre {margin: 0.2em;color: black;border-radius: 0.25em;background-color: #f0f8ff;}#sk-container-id-1 input.sk-toggleable__control:checked~div.sk-toggleable__content {max-height: 200px;max-width: 100%;overflow: auto;}#sk-container-id-1 input.sk-toggleable__control:checked~label.sk-toggleable__label-arrow:before {content: \"▾\";}#sk-container-id-1 div.sk-estimator input.sk-toggleable__control:checked~label.sk-toggleable__label {background-color: #d4ebff;}#sk-container-id-1 div.sk-label input.sk-toggleable__control:checked~label.sk-toggleable__label {background-color: #d4ebff;}#sk-container-id-1 input.sk-hidden--visually {border: 0;clip: rect(1px 1px 1px 1px);clip: rect(1px, 1px, 1px, 1px);height: 1px;margin: -1px;overflow: hidden;padding: 0;position: absolute;width: 1px;}#sk-container-id-1 div.sk-estimator {font-family: monospace;background-color: #f0f8ff;border: 1px dotted black;border-radius: 0.25em;box-sizing: border-box;margin-bottom: 0.5em;}#sk-container-id-1 div.sk-estimator:hover {background-color: #d4ebff;}#sk-container-id-1 div.sk-parallel-item::after {content: \"\";width: 100%;border-bottom: 1px solid gray;flex-grow: 1;}#sk-container-id-1 div.sk-label:hover label.sk-toggleable__label {background-color: #d4ebff;}#sk-container-id-1 div.sk-serial::before {content: \"\";position: absolute;border-left: 1px solid gray;box-sizing: border-box;top: 0;bottom: 0;left: 50%;z-index: 0;}#sk-container-id-1 div.sk-serial {display: flex;flex-direction: column;align-items: center;background-color: white;padding-right: 0.2em;padding-left: 0.2em;position: relative;}#sk-container-id-1 div.sk-item {position: relative;z-index: 1;}#sk-container-id-1 div.sk-parallel {display: flex;align-items: stretch;justify-content: center;background-color: white;position: relative;}#sk-container-id-1 div.sk-item::before, #sk-container-id-1 div.sk-parallel-item::before {content: \"\";position: absolute;border-left: 1px solid gray;box-sizing: border-box;top: 0;bottom: 0;left: 50%;z-index: -1;}#sk-container-id-1 div.sk-parallel-item {display: flex;flex-direction: column;z-index: 1;position: relative;background-color: white;}#sk-container-id-1 div.sk-parallel-item:first-child::after {align-self: flex-end;width: 50%;}#sk-container-id-1 div.sk-parallel-item:last-child::after {align-self: flex-start;width: 50%;}#sk-container-id-1 div.sk-parallel-item:only-child::after {width: 0;}#sk-container-id-1 div.sk-dashed-wrapped {border: 1px dashed gray;margin: 0 0.4em 0.5em 0.4em;box-sizing: border-box;padding-bottom: 0.4em;background-color: white;}#sk-container-id-1 div.sk-label label {font-family: monospace;font-weight: bold;display: inline-block;line-height: 1.2em;}#sk-container-id-1 div.sk-label-container {text-align: center;}#sk-container-id-1 div.sk-container {/* jupyter's `normalize.less` sets `[hidden] { display: none; }` but bootstrap.min.css set `[hidden] { display: none !important; }` so we also need the `!important` here to be able to override the default hidden behavior on the sphinx rendered scikit-learn.org. See: https://github.com/scikit-learn/scikit-learn/issues/21755 */display: inline-block !important;position: relative;}#sk-container-id-1 div.sk-text-repr-fallback {display: none;}</style><div id=\"sk-container-id-1\" class=\"sk-top-container\"><div class=\"sk-text-repr-fallback\"><pre>MultinomialNB()</pre><b>In a Jupyter environment, please rerun this cell to show the HTML representation or trust the notebook. <br />On GitHub, the HTML representation is unable to render, please try loading this page with nbviewer.org.</b></div><div class=\"sk-container\" hidden><div class=\"sk-item\"><div class=\"sk-estimator sk-toggleable\"><input class=\"sk-toggleable__control sk-hidden--visually\" id=\"sk-estimator-id-1\" type=\"checkbox\" checked><label for=\"sk-estimator-id-1\" class=\"sk-toggleable__label sk-toggleable__label-arrow\">MultinomialNB</label><div class=\"sk-toggleable__content\"><pre>MultinomialNB()</pre></div></div></div></div></div>"
      ],
      "text/plain": [
       "MultinomialNB()"
      ]
     },
     "execution_count": 23,
     "metadata": {},
     "output_type": "execute_result"
    }
   ],
   "source": [
    "from sklearn.naive_bayes import MultinomialNB\n",
    "\n",
    "# Initialize the classifier\n",
    "clf = MultinomialNB()\n",
    "\n",
    "# Train the classifier on the training data\n",
    "clf.fit(X_train, y_train)\n"
   ]
  },
  {
   "cell_type": "code",
   "execution_count": 24,
   "id": "343533b0",
   "metadata": {},
   "outputs": [
    {
     "name": "stdout",
     "output_type": "stream",
     "text": [
      "Top features for class 0:\n",
      "fishing -7.0771299787433595\n",
      "vessels -7.192171425520721\n",
      "illegal -7.266470502654981\n",
      "trade -7.327346109327019\n",
      "crime -7.34360269383514\n",
      "fish -7.370802244734972\n",
      "fisheries -7.398685209443091\n",
      "iuu -7.448737139675959\n",
      "trawler -7.462102291529996\n",
      "kkp -7.501541593575185\n"
     ]
    }
   ],
   "source": [
    "feature_log_prob = clf.feature_log_prob_\n",
    "feature_names = vectorizer.get_feature_names_out()\n",
    "\n",
    "top_features = np.argsort(feature_log_prob[0])[::-1][:10]\n",
    "#feature_names = np.array(feature_names)  # Assuming you have feature names\n",
    "print(\"Top features for class 0:\")\n",
    "for feature_idx in top_features:\n",
    "    print( feature_names[feature_idx], feature_log_prob[0][feature_idx])"
   ]
  },
  {
   "cell_type": "code",
   "execution_count": 25,
   "id": "bc778b00",
   "metadata": {},
   "outputs": [],
   "source": [
    "# Predict on the test data\n",
    "y_pred = clf.predict(X_test)"
   ]
  },
  {
   "cell_type": "code",
   "execution_count": 26,
   "id": "8d86f8c0",
   "metadata": {},
   "outputs": [
    {
     "name": "stdout",
     "output_type": "stream",
     "text": [
      "Accuracy: 0.60\n"
     ]
    }
   ],
   "source": [
    "from sklearn.metrics import accuracy_score, classification_report\n",
    "\n",
    "# Calculate accuracy\n",
    "accuracy = accuracy_score(y_test, y_pred)\n",
    "print(f\"Accuracy: {accuracy:.2f}\")\n",
    "\n",
    "# Generate a classification report\n",
    "report = classification_report(y_test, y_pred, target_names=['relevant', 'irrelevant'], output_dict=True)\n",
    "#print(report)\n",
    "#print(type(report))\n"
   ]
  },
  {
   "cell_type": "code",
   "execution_count": 27,
   "id": "f5ef435a",
   "metadata": {},
   "outputs": [],
   "source": [
    "import numpy as np\n",
    "import matplotlib.pyplot as plt\n",
    "\n",
    "# Extract metrics\n",
    "#class_names = list(report.keys())[:-3]  # Extract class names\n",
    "class_names = ['relevant', 'irrelevant']\n",
    "metrics = {'precision': [], 'recall': [], 'f1-score': [], 'support': []}\n",
    "\n",
    "for cls in class_names:\n",
    "    metrics['precision'].append(report[cls]['precision'])\n",
    "    metrics['recall'].append(report[cls]['recall'])\n",
    "    metrics['f1-score'].append(report[cls]['f1-score'])\n",
    "    metrics['support'].append(report[cls]['support'])\n",
    "\n",
    "# Convert to numpy arrays for plotting\n",
    "precision = np.array(metrics['precision'])\n",
    "recall = np.array(metrics['recall'])\n",
    "f1_score = np.array(metrics['f1-score'])\n",
    "support = np.array(metrics['support'])\n"
   ]
  },
  {
   "cell_type": "code",
   "execution_count": 29,
   "id": "5fb7f200",
   "metadata": {},
   "outputs": [
    {
     "data": {
      "image/png": "[encoded data removed]",
      "text/plain": [
       "<Figure size 1000x600 with 1 Axes>"
      ]
     },
     "metadata": {},
     "output_type": "display_data"
    }
   ],
   "source": [
    "# Plotting the testing result\n",
    "fig, ax = plt.subplots(figsize=(10, 6))\n",
    "\n",
    "bar_width = 0.2\n",
    "index = np.arange(len(class_names))\n",
    "\n",
    "bar1 = ax.bar(index - bar_width, precision, bar_width, label='Precision', color='b')\n",
    "#bar2 = ax.bar(index, recall, bar_width, label='Recall', color='g')\n",
    "#bar3 = ax.bar(index + bar_width, f1_score, bar_width, label='F1-score', color='r')\n",
    "\n",
    "ax.set_xlabel('Classes')\n",
    "ax.set_ylabel('Scores')\n",
    "ax.set_title('Classification Report')\n",
    "ax.set_xticks(index)\n",
    "ax.set_xticklabels(class_names, rotation=45)\n",
    "ax.legend()\n",
    "\n",
    "def autolabel(bars):\n",
    "    \"\"\"Attach a text label above each bar in *bars*, displaying its height.\"\"\"\n",
    "    for bar in bars:\n",
    "        height = bar.get_height()\n",
    "        ax.annotate('%.2f' % height,\n",
    "                    xy=(bar.get_x() + bar.get_width() / 2, height),\n",
    "                    xytext=(0, 3),  # 3 points vertical offset\n",
    "                    textcoords=\"offset points\",\n",
    "                    ha='center', va='bottom')\n",
    "\n",
    "autolabel(bar1)\n",
    "#autolabel(bar2)\n",
    "#autolabel(bar3)\n",
    "\n",
    "plt.tight_layout()\n",
    "plt.show()\n"
   ]
  },
  {
   "cell_type": "markdown",
   "id": "c5e20b87",
   "metadata": {},
   "source": [
    "### Logistic regression"
   ]
  },
  {
   "cell_type": "code",
   "execution_count": 30,
   "id": "b36801ed",
   "metadata": {},
   "outputs": [
    {
     "data": {
      "text/html": [
       "<style>#sk-container-id-2 {color: black;background-color: white;}#sk-container-id-2 pre{padding: 0;}#sk-container-id-2 div.sk-toggleable {background-color: white;}#sk-container-id-2 label.sk-toggleable__label {cursor: pointer;display: block;width: 100%;margin-bottom: 0;padding: 0.3em;box-sizing: border-box;text-align: center;}#sk-container-id-2 label.sk-toggleable__label-arrow:before {content: \"▸\";float: left;margin-right: 0.25em;color: #696969;}#sk-container-id-2 label.sk-toggleable__label-arrow:hover:before {color: black;}#sk-container-id-2 div.sk-estimator:hover label.sk-toggleable__label-arrow:before {color: black;}#sk-container-id-2 div.sk-toggleable__content {max-height: 0;max-width: 0;overflow: hidden;text-align: left;background-color: #f0f8ff;}#sk-container-id-2 div.sk-toggleable__content pre {margin: 0.2em;color: black;border-radius: 0.25em;background-color: #f0f8ff;}#sk-container-id-2 input.sk-toggleable__control:checked~div.sk-toggleable__content {max-height: 200px;max-width: 100%;overflow: auto;}#sk-container-id-2 input.sk-toggleable__control:checked~label.sk-toggleable__label-arrow:before {content: \"▾\";}#sk-container-id-2 div.sk-estimator input.sk-toggleable__control:checked~label.sk-toggleable__label {background-color: #d4ebff;}#sk-container-id-2 div.sk-label input.sk-toggleable__control:checked~label.sk-toggleable__label {background-color: #d4ebff;}#sk-container-id-2 input.sk-hidden--visually {border: 0;clip: rect(1px 1px 1px 1px);clip: rect(1px, 1px, 1px, 1px);height: 1px;margin: -1px;overflow: hidden;padding: 0;position: absolute;width: 1px;}#sk-container-id-2 div.sk-estimator {font-family: monospace;background-color: #f0f8ff;border: 1px dotted black;border-radius: 0.25em;box-sizing: border-box;margin-bottom: 0.5em;}#sk-container-id-2 div.sk-estimator:hover {background-color: #d4ebff;}#sk-container-id-2 div.sk-parallel-item::after {content: \"\";width: 100%;border-bottom: 1px solid gray;flex-grow: 1;}#sk-container-id-2 div.sk-label:hover label.sk-toggleable__label {background-color: #d4ebff;}#sk-container-id-2 div.sk-serial::before {content: \"\";position: absolute;border-left: 1px solid gray;box-sizing: border-box;top: 0;bottom: 0;left: 50%;z-index: 0;}#sk-container-id-2 div.sk-serial {display: flex;flex-direction: column;align-items: center;background-color: white;padding-right: 0.2em;padding-left: 0.2em;position: relative;}#sk-container-id-2 div.sk-item {position: relative;z-index: 1;}#sk-container-id-2 div.sk-parallel {display: flex;align-items: stretch;justify-content: center;background-color: white;position: relative;}#sk-container-id-2 div.sk-item::before, #sk-container-id-2 div.sk-parallel-item::before {content: \"\";position: absolute;border-left: 1px solid gray;box-sizing: border-box;top: 0;bottom: 0;left: 50%;z-index: -1;}#sk-container-id-2 div.sk-parallel-item {display: flex;flex-direction: column;z-index: 1;position: relative;background-color: white;}#sk-container-id-2 div.sk-parallel-item:first-child::after {align-self: flex-end;width: 50%;}#sk-container-id-2 div.sk-parallel-item:last-child::after {align-self: flex-start;width: 50%;}#sk-container-id-2 div.sk-parallel-item:only-child::after {width: 0;}#sk-container-id-2 div.sk-dashed-wrapped {border: 1px dashed gray;margin: 0 0.4em 0.5em 0.4em;box-sizing: border-box;padding-bottom: 0.4em;background-color: white;}#sk-container-id-2 div.sk-label label {font-family: monospace;font-weight: bold;display: inline-block;line-height: 1.2em;}#sk-container-id-2 div.sk-label-container {text-align: center;}#sk-container-id-2 div.sk-container {/* jupyter's `normalize.less` sets `[hidden] { display: none; }` but bootstrap.min.css set `[hidden] { display: none !important; }` so we also need the `!important` here to be able to override the default hidden behavior on the sphinx rendered scikit-learn.org. See: https://github.com/scikit-learn/scikit-learn/issues/21755 */display: inline-block !important;position: relative;}#sk-container-id-2 div.sk-text-repr-fallback {display: none;}</style><div id=\"sk-container-id-2\" class=\"sk-top-container\"><div class=\"sk-text-repr-fallback\"><pre>LogisticRegression()</pre><b>In a Jupyter environment, please rerun this cell to show the HTML representation or trust the notebook. <br />On GitHub, the HTML representation is unable to render, please try loading this page with nbviewer.org.</b></div><div class=\"sk-container\" hidden><div class=\"sk-item\"><div class=\"sk-estimator sk-toggleable\"><input class=\"sk-toggleable__control sk-hidden--visually\" id=\"sk-estimator-id-2\" type=\"checkbox\" checked><label for=\"sk-estimator-id-2\" class=\"sk-toggleable__label sk-toggleable__label-arrow\">LogisticRegression</label><div class=\"sk-toggleable__content\"><pre>LogisticRegression()</pre></div></div></div></div></div>"
      ],
      "text/plain": [
       "LogisticRegression()"
      ]
     },
     "execution_count": 30,
     "metadata": {},
     "output_type": "execute_result"
    }
   ],
   "source": [
    "from sklearn.linear_model import LogisticRegression\n",
    "\n",
    "# Initialize the classifier\n",
    "classifier = LogisticRegression()\n",
    "\n",
    "# Train the classifier on the training data\n",
    "classifier.fit(X_train, y_train)"
   ]
  },
  {
   "cell_type": "code",
   "execution_count": 31,
   "id": "e0b8ac9e",
   "metadata": {},
   "outputs": [
    {
     "name": "stdout",
     "output_type": "stream",
     "text": [
      "Accuracy: 0.60\n"
     ]
    }
   ],
   "source": [
    "# Predict labels for the test set\n",
    "y_pred = classifier.predict(X_test)\n",
    "\n",
    "# Evaluate the accuracy of the model\n",
    "from sklearn.metrics import accuracy_score\n",
    "\n",
    "accuracy = accuracy_score(y_test, y_pred)\n",
    "print(f\"Accuracy: {accuracy:.2f}\")\n"
   ]
  },
  {
   "cell_type": "code",
   "execution_count": 32,
   "id": "4b8a003d",
   "metadata": {},
   "outputs": [
    {
     "name": "stdout",
     "output_type": "stream",
     "text": [
      "[[2 0]\n",
      " [2 1]]\n"
     ]
    },
    {
     "data": {
      "image/png": "[encoded data removed]",
      "text/plain": [
       "<Figure size 800x600 with 1 Axes>"
      ]
     },
     "metadata": {},
     "output_type": "display_data"
    }
   ],
   "source": [
    "from sklearn.metrics import confusion_matrix\n",
    "import seaborn as sns\n",
    "\n",
    "# Compute confusion matrix\n",
    "cm = confusion_matrix(y_test, y_pred)\n",
    "print(cm)\n",
    "# Plot confusion matrix\n",
    "plt.figure(figsize=(8, 6))\n",
    "sns.heatmap(cm, annot=True, fmt='d', cmap='Blues', cbar=False)\n",
    "plt.xlabel('Predicted')\n",
    "plt.ylabel('Actual')\n",
    "plt.title('Confusion Matrix')\n",
    "plt.show()\n",
    "\n"
   ]
  },
  {
   "cell_type": "code",
   "execution_count": 33,
   "id": "49b9ab61",
   "metadata": {},
   "outputs": [],
   "source": [
    "rel_precision = cm[0][0] / (cm[0][0]+cm[1][0])\n",
    "irrel_precision = cm[1][1] / (cm[0][1]+cm[1][1])\n"
   ]
  },
  {
   "cell_type": "code",
   "execution_count": null,
   "id": "07f5760f",
   "metadata": {},
   "outputs": [],
   "source": []
  },
  {
   "cell_type": "code",
   "execution_count": null,
   "id": "a3f93a2b",
   "metadata": {},
   "outputs": [],
   "source": []
  },
  {
   "cell_type": "code",
   "execution_count": null,
   "id": "98608554",
   "metadata": {},
   "outputs": [],
   "source": []
  },
  {
   "cell_type": "markdown",
   "id": "14e5e808",
   "metadata": {},
   "source": [
    "### Clustering"
   ]
  },
  {
   "cell_type": "code",
   "execution_count": 114,
   "id": "ebb71972",
   "metadata": {},
   "outputs": [
    {
     "name": "stderr",
     "output_type": "stream",
     "text": [
      "C:\\Users\\sumin\\anaconda3\\Lib\\site-packages\\sklearn\\cluster\\_kmeans.py:870: FutureWarning: The default value of `n_init` will change from 10 to 'auto' in 1.4. Set the value of `n_init` explicitly to suppress the warning\n",
      "  warnings.warn(\n"
     ]
    },
    {
     "data": {
      "text/html": [
       "<style>#sk-container-id-8 {color: black;background-color: white;}#sk-container-id-8 pre{padding: 0;}#sk-container-id-8 div.sk-toggleable {background-color: white;}#sk-container-id-8 label.sk-toggleable__label {cursor: pointer;display: block;width: 100%;margin-bottom: 0;padding: 0.3em;box-sizing: border-box;text-align: center;}#sk-container-id-8 label.sk-toggleable__label-arrow:before {content: \"▸\";float: left;margin-right: 0.25em;color: #696969;}#sk-container-id-8 label.sk-toggleable__label-arrow:hover:before {color: black;}#sk-container-id-8 div.sk-estimator:hover label.sk-toggleable__label-arrow:before {color: black;}#sk-container-id-8 div.sk-toggleable__content {max-height: 0;max-width: 0;overflow: hidden;text-align: left;background-color: #f0f8ff;}#sk-container-id-8 div.sk-toggleable__content pre {margin: 0.2em;color: black;border-radius: 0.25em;background-color: #f0f8ff;}#sk-container-id-8 input.sk-toggleable__control:checked~div.sk-toggleable__content {max-height: 200px;max-width: 100%;overflow: auto;}#sk-container-id-8 input.sk-toggleable__control:checked~label.sk-toggleable__label-arrow:before {content: \"▾\";}#sk-container-id-8 div.sk-estimator input.sk-toggleable__control:checked~label.sk-toggleable__label {background-color: #d4ebff;}#sk-container-id-8 div.sk-label input.sk-toggleable__control:checked~label.sk-toggleable__label {background-color: #d4ebff;}#sk-container-id-8 input.sk-hidden--visually {border: 0;clip: rect(1px 1px 1px 1px);clip: rect(1px, 1px, 1px, 1px);height: 1px;margin: -1px;overflow: hidden;padding: 0;position: absolute;width: 1px;}#sk-container-id-8 div.sk-estimator {font-family: monospace;background-color: #f0f8ff;border: 1px dotted black;border-radius: 0.25em;box-sizing: border-box;margin-bottom: 0.5em;}#sk-container-id-8 div.sk-estimator:hover {background-color: #d4ebff;}#sk-container-id-8 div.sk-parallel-item::after {content: \"\";width: 100%;border-bottom: 1px solid gray;flex-grow: 1;}#sk-container-id-8 div.sk-label:hover label.sk-toggleable__label {background-color: #d4ebff;}#sk-container-id-8 div.sk-serial::before {content: \"\";position: absolute;border-left: 1px solid gray;box-sizing: border-box;top: 0;bottom: 0;left: 50%;z-index: 0;}#sk-container-id-8 div.sk-serial {display: flex;flex-direction: column;align-items: center;background-color: white;padding-right: 0.2em;padding-left: 0.2em;position: relative;}#sk-container-id-8 div.sk-item {position: relative;z-index: 1;}#sk-container-id-8 div.sk-parallel {display: flex;align-items: stretch;justify-content: center;background-color: white;position: relative;}#sk-container-id-8 div.sk-item::before, #sk-container-id-8 div.sk-parallel-item::before {content: \"\";position: absolute;border-left: 1px solid gray;box-sizing: border-box;top: 0;bottom: 0;left: 50%;z-index: -1;}#sk-container-id-8 div.sk-parallel-item {display: flex;flex-direction: column;z-index: 1;position: relative;background-color: white;}#sk-container-id-8 div.sk-parallel-item:first-child::after {align-self: flex-end;width: 50%;}#sk-container-id-8 div.sk-parallel-item:last-child::after {align-self: flex-start;width: 50%;}#sk-container-id-8 div.sk-parallel-item:only-child::after {width: 0;}#sk-container-id-8 div.sk-dashed-wrapped {border: 1px dashed gray;margin: 0 0.4em 0.5em 0.4em;box-sizing: border-box;padding-bottom: 0.4em;background-color: white;}#sk-container-id-8 div.sk-label label {font-family: monospace;font-weight: bold;display: inline-block;line-height: 1.2em;}#sk-container-id-8 div.sk-label-container {text-align: center;}#sk-container-id-8 div.sk-container {/* jupyter's `normalize.less` sets `[hidden] { display: none; }` but bootstrap.min.css set `[hidden] { display: none !important; }` so we also need the `!important` here to be able to override the default hidden behavior on the sphinx rendered scikit-learn.org. See: https://github.com/scikit-learn/scikit-learn/issues/21755 */display: inline-block !important;position: relative;}#sk-container-id-8 div.sk-text-repr-fallback {display: none;}</style><div id=\"sk-container-id-8\" class=\"sk-top-container\"><div class=\"sk-text-repr-fallback\"><pre>KMeans(n_clusters=2)</pre><b>In a Jupyter environment, please rerun this cell to show the HTML representation or trust the notebook. <br />On GitHub, the HTML representation is unable to render, please try loading this page with nbviewer.org.</b></div><div class=\"sk-container\" hidden><div class=\"sk-item\"><div class=\"sk-estimator sk-toggleable\"><input class=\"sk-toggleable__control sk-hidden--visually\" id=\"sk-estimator-id-8\" type=\"checkbox\" checked><label for=\"sk-estimator-id-8\" class=\"sk-toggleable__label sk-toggleable__label-arrow\">KMeans</label><div class=\"sk-toggleable__content\"><pre>KMeans(n_clusters=2)</pre></div></div></div></div></div>"
      ],
      "text/plain": [
       "KMeans(n_clusters=2)"
      ]
     },
     "execution_count": 114,
     "metadata": {},
     "output_type": "execute_result"
    }
   ],
   "source": [
    "import numpy as np\n",
    "import matplotlib.pyplot as plt\n",
    "from sklearn.cluster import KMeans\n",
    "from sklearn.feature_extraction.text import TfidfVectorizer\n",
    "\n",
    "k =2\n",
    "# Create KMeans instance\n",
    "kmeans = KMeans(n_clusters=k)\n",
    "\n",
    "# Fit KMeans clustering model to TF-IDF data\n",
    "kmeans.fit(tfidf_matrix)\n"
   ]
  },
  {
   "cell_type": "code",
   "execution_count": 115,
   "id": "57679baa",
   "metadata": {
    "scrolled": true
   },
   "outputs": [
    {
     "name": "stdout",
     "output_type": "stream",
     "text": [
      "Cluster labels:\n",
      "Article 1: Cluster 1\n",
      "Article 2: Cluster 1\n",
      "Article 3: Cluster 1\n",
      "Article 4: Cluster 1\n",
      "Article 5: Cluster 1\n",
      "Article 6: Cluster 1\n",
      "Article 7: Cluster 1\n",
      "Article 8: Cluster 1\n",
      "Article 9: Cluster 0\n",
      "Article 10: Cluster 0\n",
      "Article 11: Cluster 0\n",
      "Article 12: Cluster 1\n",
      "Article 13: Cluster 1\n",
      "Article 14: Cluster 0\n",
      "Article 15: Cluster 0\n",
      "Article 16: Cluster 1\n",
      "Article 17: Cluster 1\n",
      "Article 18: Cluster 0\n",
      "Article 19: Cluster 1\n",
      "Article 20: Cluster 0\n",
      "Article 21: Cluster 1\n",
      "Article 22: Cluster 0\n",
      "Article 23: Cluster 0\n"
     ]
    }
   ],
   "source": [
    "cluster_labels = kmeans.predict(tfidf_matrix)\n",
    "\n",
    "# Print cluster labels\n",
    "print(\"Cluster labels:\")\n",
    "for i, label in enumerate(cluster_labels):\n",
    "    print(f\"Article {i+1}: Cluster {label}\")\n"
   ]
  },
  {
   "cell_type": "code",
   "execution_count": 116,
   "id": "9ef7ca11",
   "metadata": {
    "scrolled": true
   },
   "outputs": [
    {
     "name": "stdout",
     "output_type": "stream",
     "text": [
      "[ 8  9 10 13 14 16 22]\n",
      "[ 0  1  2  3  4  5  6  7 11 12 15 17 18 19 20 21]\n",
      "Cluster 0: vessels, fishing, sharks, sea, shepherd, vessel, trade, illegal, waters, tom, long, fisheries\n",
      "Cluster 1: fish, catches, fishing, says, fisheries, court, herring, catch, trawler, stevens, environmental, sea\n",
      "Cluster labels:\n",
      "Article 1: Cluster 1\n",
      "Article 2: Cluster 1\n",
      "Article 3: Cluster 1\n",
      "Article 4: Cluster 1\n",
      "Article 5: Cluster 1\n",
      "Article 6: Cluster 1\n",
      "Article 7: Cluster 1\n",
      "Article 8: Cluster 1\n",
      "Article 9: Cluster 0\n",
      "Article 10: Cluster 0\n",
      "Article 11: Cluster 0\n",
      "Article 12: Cluster 1\n",
      "Article 13: Cluster 1\n",
      "Article 14: Cluster 0\n",
      "Article 15: Cluster 0\n",
      "Article 16: Cluster 1\n",
      "Article 17: Cluster 1\n",
      "Article 18: Cluster 0\n",
      "Article 19: Cluster 1\n",
      "Article 20: Cluster 0\n",
      "Article 21: Cluster 1\n",
      "Article 22: Cluster 0\n",
      "Article 23: Cluster 0\n"
     ]
    }
   ],
   "source": [
    "X = vectorizer.fit_transform(articles)\n",
    "clusters = kmeans.fit_predict(X)\n",
    "centroids = kmeans.cluster_centers_\n",
    "feature_names = vectorizer.get_feature_names_out()\n",
    "\n",
    "\n",
    "def find_top_words(cluster_label, X, feature_names, top_n=10):\n",
    "    cluster_indices = np.where(clusters == cluster_label)[0]\n",
    "    print(cluster_indices)\n",
    "    cluster_tfidf = np.mean(X[cluster_indices], axis=0).A1  # Average TF-IDF vector\n",
    "    top_indices = cluster_tfidf.argsort()[-top_n:][::-1]\n",
    "    top_words = [feature_names[idx] for idx in top_indices]\n",
    "    return top_words\n",
    "\n",
    "top_words = []\n",
    "\n",
    "for i in range(kmeans.n_clusters):\n",
    "    top_words.append(find_top_words(i, X, feature_names, top_n=12))\n",
    "    \n",
    "for i, words in enumerate(top_words):\n",
    "    print(f\"Cluster {i}: {', '.join(words)}\")\n",
    "    \n",
    "print(\"Cluster labels:\")\n",
    "for i, label in enumerate(cluster_labels):\n",
    "    print(f\"Article {i+1}: Cluster {label}\")"
   ]
  },
  {
   "cell_type": "code",
   "execution_count": 118,
   "id": "69f0a8fb",
   "metadata": {},
   "outputs": [
    {
     "name": "stdout",
     "output_type": "stream",
     "text": [
      "Document 0 assigned to cluster 1\n",
      "Document 1 assigned to cluster 1\n",
      "Document 2 assigned to cluster 1\n",
      "Document 3 assigned to cluster 1\n",
      "Document 4 assigned to cluster 1\n",
      "Document 5 assigned to cluster 1\n",
      "Document 6 assigned to cluster 1\n",
      "Document 7 assigned to cluster 1\n",
      "Document 8 assigned to cluster 0\n",
      "Document 9 assigned to cluster 0\n",
      "Document 10 assigned to cluster 0\n",
      "Document 11 assigned to cluster 1\n",
      "Document 12 assigned to cluster 1\n",
      "Document 13 assigned to cluster 0\n",
      "Document 14 assigned to cluster 0\n",
      "Document 15 assigned to cluster 1\n",
      "Document 16 assigned to cluster 0\n",
      "Document 17 assigned to cluster 1\n",
      "Document 18 assigned to cluster 1\n",
      "Document 19 assigned to cluster 1\n",
      "Document 20 assigned to cluster 1\n",
      "Document 21 assigned to cluster 1\n",
      "Document 22 assigned to cluster 0\n",
      "Updated Centroids:\n",
      "[[0.00417642 0.00417642 0.         ... 0.00417642 0.00334573 0.0073167 ]\n",
      " [0.         0.         0.00230023 ... 0.         0.01064196 0.        ]]\n"
     ]
    }
   ],
   "source": [
    "# Example of manually adding more words to centroids\n",
    "extra_words = {\n",
    "    0: [],\n",
    "    1: [\"misreport\", \"underreport\"]\n",
    "}\n",
    "\n",
    "updated_centroids = centroids.copy()\n",
    "\n",
    "for cluster_idx, words_to_add in enumerate(extra_words):\n",
    "    #print(feature_names.tolist().index('misreport'))\n",
    "    word_indices = [feature_names.tolist().index(word) for word in extra_words if word in feature_names]\n",
    "    updated_centroids[cluster_idx, word_indices] = 1.0  # Assign TF-IDF weight or any specific value\n",
    "\n",
    "# Normalize updated centroids (optional)\n",
    "updated_centroids /= np.linalg.norm(updated_centroids, axis=1, keepdims=True)\n",
    "\n",
    "# Re-cluster with updated centroids\n",
    "kmeans = KMeans(n_clusters=updated_centroids.shape[0], init=updated_centroids, n_init=1, random_state=42)\n",
    "clusters = kmeans.fit_predict(X)\n",
    "\n",
    "# Example of printing cluster assignments\n",
    "for i, cluster in enumerate(clusters):\n",
    "    print(f\"Document {i} assigned to cluster {cluster}\")\n",
    "\n",
    "# Example of printing centroids after updating\n",
    "print(\"Updated Centroids:\")\n",
    "print(kmeans.cluster_centers_)"
   ]
  },
  {
   "cell_type": "code",
   "execution_count": 100,
   "id": "6ef09062",
   "metadata": {},
   "outputs": [
    {
     "name": "stdout",
     "output_type": "stream",
     "text": [
      "[[0. 0. 0. ... 0. 0. 0.]\n",
      " [0. 0. 0. ... 0. 0. 0.]]\n",
      "Revised Centroids (TF-IDF vectors):\n",
      "[[0. 0. 0. ... 0. 0. 0.]\n",
      " [0. 0. 0. ... 0. 0. 0.]]\n"
     ]
    }
   ],
   "source": [
    "# Construct revised centroids using top words\n",
    "revised_centroids = np.zeros((kmeans.n_clusters, X.shape[1]))  # Initialize centroids matrix\n",
    "print(revised_centroids)\n",
    "#print(feature_names, type(feature_names))\n",
    "#feature_names = feature_names.tolist()\n",
    "#print(feature_names, type(feature_names))\n",
    "\n",
    "for i, words in enumerate(top_words):\n",
    "    word_indices = [feature_names.index(word) for word in words]\n",
    "    revised_centroids[i, word_indices] = 1.0  # Set TF-IDF weight for top words to 1.0 (or their actual TF-IDF values)\n",
    "\n",
    "# Normalize centroids (optional)\n",
    "revised_centroids /= np.linalg.norm(revised_centroids, axis=1, keepdims=True)\n",
    "\n",
    "# Print revised centroids\n",
    "print(\"Revised Centroids (TF-IDF vectors):\")\n",
    "print(revised_centroids)\n"
   ]
  },
  {
   "cell_type": "code",
   "execution_count": 104,
   "id": "b1798b3c",
   "metadata": {},
   "outputs": [
    {
     "name": "stdout",
     "output_type": "stream",
     "text": [
      "[[0. 0. 0. ... 0. 0. 0.]\n",
      " [0. 0. 0. ... 0. 0. 0.]]\n",
      "Revised Centroids (TF-IDF vectors):\n",
      "[[0. 0. 0. ... 0. 0. 0.]\n",
      " [0. 0. 0. ... 0. 0. 0.]]\n"
     ]
    }
   ],
   "source": [
    "revised_centroids /= np.linalg.norm(revised_centroids, axis=1, keepdims=True)\n",
    "# Print revised centroids\n",
    "print(\"Revised Centroids (TF-IDF vectors):\")\n",
    "print(revised_centroids)"
   ]
  },
  {
   "cell_type": "code",
   "execution_count": 102,
   "id": "8b4d49bb",
   "metadata": {},
   "outputs": [
    {
     "data": {
      "text/html": [
       "<style>#sk-container-id-6 {color: black;background-color: white;}#sk-container-id-6 pre{padding: 0;}#sk-container-id-6 div.sk-toggleable {background-color: white;}#sk-container-id-6 label.sk-toggleable__label {cursor: pointer;display: block;width: 100%;margin-bottom: 0;padding: 0.3em;box-sizing: border-box;text-align: center;}#sk-container-id-6 label.sk-toggleable__label-arrow:before {content: \"▸\";float: left;margin-right: 0.25em;color: #696969;}#sk-container-id-6 label.sk-toggleable__label-arrow:hover:before {color: black;}#sk-container-id-6 div.sk-estimator:hover label.sk-toggleable__label-arrow:before {color: black;}#sk-container-id-6 div.sk-toggleable__content {max-height: 0;max-width: 0;overflow: hidden;text-align: left;background-color: #f0f8ff;}#sk-container-id-6 div.sk-toggleable__content pre {margin: 0.2em;color: black;border-radius: 0.25em;background-color: #f0f8ff;}#sk-container-id-6 input.sk-toggleable__control:checked~div.sk-toggleable__content {max-height: 200px;max-width: 100%;overflow: auto;}#sk-container-id-6 input.sk-toggleable__control:checked~label.sk-toggleable__label-arrow:before {content: \"▾\";}#sk-container-id-6 div.sk-estimator input.sk-toggleable__control:checked~label.sk-toggleable__label {background-color: #d4ebff;}#sk-container-id-6 div.sk-label input.sk-toggleable__control:checked~label.sk-toggleable__label {background-color: #d4ebff;}#sk-container-id-6 input.sk-hidden--visually {border: 0;clip: rect(1px 1px 1px 1px);clip: rect(1px, 1px, 1px, 1px);height: 1px;margin: -1px;overflow: hidden;padding: 0;position: absolute;width: 1px;}#sk-container-id-6 div.sk-estimator {font-family: monospace;background-color: #f0f8ff;border: 1px dotted black;border-radius: 0.25em;box-sizing: border-box;margin-bottom: 0.5em;}#sk-container-id-6 div.sk-estimator:hover {background-color: #d4ebff;}#sk-container-id-6 div.sk-parallel-item::after {content: \"\";width: 100%;border-bottom: 1px solid gray;flex-grow: 1;}#sk-container-id-6 div.sk-label:hover label.sk-toggleable__label {background-color: #d4ebff;}#sk-container-id-6 div.sk-serial::before {content: \"\";position: absolute;border-left: 1px solid gray;box-sizing: border-box;top: 0;bottom: 0;left: 50%;z-index: 0;}#sk-container-id-6 div.sk-serial {display: flex;flex-direction: column;align-items: center;background-color: white;padding-right: 0.2em;padding-left: 0.2em;position: relative;}#sk-container-id-6 div.sk-item {position: relative;z-index: 1;}#sk-container-id-6 div.sk-parallel {display: flex;align-items: stretch;justify-content: center;background-color: white;position: relative;}#sk-container-id-6 div.sk-item::before, #sk-container-id-6 div.sk-parallel-item::before {content: \"\";position: absolute;border-left: 1px solid gray;box-sizing: border-box;top: 0;bottom: 0;left: 50%;z-index: -1;}#sk-container-id-6 div.sk-parallel-item {display: flex;flex-direction: column;z-index: 1;position: relative;background-color: white;}#sk-container-id-6 div.sk-parallel-item:first-child::after {align-self: flex-end;width: 50%;}#sk-container-id-6 div.sk-parallel-item:last-child::after {align-self: flex-start;width: 50%;}#sk-container-id-6 div.sk-parallel-item:only-child::after {width: 0;}#sk-container-id-6 div.sk-dashed-wrapped {border: 1px dashed gray;margin: 0 0.4em 0.5em 0.4em;box-sizing: border-box;padding-bottom: 0.4em;background-color: white;}#sk-container-id-6 div.sk-label label {font-family: monospace;font-weight: bold;display: inline-block;line-height: 1.2em;}#sk-container-id-6 div.sk-label-container {text-align: center;}#sk-container-id-6 div.sk-container {/* jupyter's `normalize.less` sets `[hidden] { display: none; }` but bootstrap.min.css set `[hidden] { display: none !important; }` so we also need the `!important` here to be able to override the default hidden behavior on the sphinx rendered scikit-learn.org. See: https://github.com/scikit-learn/scikit-learn/issues/21755 */display: inline-block !important;position: relative;}#sk-container-id-6 div.sk-text-repr-fallback {display: none;}</style><div id=\"sk-container-id-6\" class=\"sk-top-container\"><div class=\"sk-text-repr-fallback\"><pre>KMeans(init=array([[0., 0., 0., ..., 0., 0., 0.],\n",
       "       [0., 0., 0., ..., 0., 0., 0.]]),\n",
       "       n_clusters=2, n_init=1, random_state=42)</pre><b>In a Jupyter environment, please rerun this cell to show the HTML representation or trust the notebook. <br />On GitHub, the HTML representation is unable to render, please try loading this page with nbviewer.org.</b></div><div class=\"sk-container\" hidden><div class=\"sk-item\"><div class=\"sk-estimator sk-toggleable\"><input class=\"sk-toggleable__control sk-hidden--visually\" id=\"sk-estimator-id-6\" type=\"checkbox\" checked><label for=\"sk-estimator-id-6\" class=\"sk-toggleable__label sk-toggleable__label-arrow\">KMeans</label><div class=\"sk-toggleable__content\"><pre>KMeans(init=array([[0., 0., 0., ..., 0., 0., 0.],\n",
       "       [0., 0., 0., ..., 0., 0., 0.]]),\n",
       "       n_clusters=2, n_init=1, random_state=42)</pre></div></div></div></div></div>"
      ],
      "text/plain": [
       "KMeans(init=array([[0., 0., 0., ..., 0., 0., 0.],\n",
       "       [0., 0., 0., ..., 0., 0., 0.]]),\n",
       "       n_clusters=2, n_init=1, random_state=42)"
      ]
     },
     "execution_count": 102,
     "metadata": {},
     "output_type": "execute_result"
    }
   ],
   "source": [
    "kmeans = KMeans(n_clusters=len(revised_centroids), init=revised_centroids, n_init=1, random_state=42)\n",
    "\n",
    "# Fit K-means clustering to the data (X is your TF-IDF matrix)\n",
    "kmeans.fit(X)"
   ]
  },
  {
   "cell_type": "code",
   "execution_count": 105,
   "id": "45565469",
   "metadata": {},
   "outputs": [
    {
     "name": "stdout",
     "output_type": "stream",
     "text": [
      "[ 8  9 10 13 14 15 16 17 19 21 22]\n",
      "[ 0  1  2  3  4  5  6  7 11 12 18 20]\n",
      "Cluster 0: fishing, vessels, sea, illegal, trade, crime, fish, fisheries, sharks, shepherd, environmental, iuu\n",
      "Cluster 1: fish, catches, says, court, herring, trawler, fisheries, stevens, fishing, catch, year, guilty\n",
      "Cluster labels:\n",
      "Article 1: Cluster 1\n",
      "Article 2: Cluster 1\n",
      "Article 3: Cluster 1\n",
      "Article 4: Cluster 0\n",
      "Article 5: Cluster 1\n",
      "Article 6: Cluster 1\n",
      "Article 7: Cluster 1\n",
      "Article 8: Cluster 1\n",
      "Article 9: Cluster 0\n",
      "Article 10: Cluster 0\n",
      "Article 11: Cluster 0\n",
      "Article 12: Cluster 1\n",
      "Article 13: Cluster 0\n",
      "Article 14: Cluster 0\n",
      "Article 15: Cluster 0\n",
      "Article 16: Cluster 0\n",
      "Article 17: Cluster 0\n",
      "Article 18: Cluster 0\n",
      "Article 19: Cluster 0\n",
      "Article 20: Cluster 0\n",
      "Article 21: Cluster 1\n",
      "Article 22: Cluster 0\n",
      "Article 23: Cluster 0\n"
     ]
    }
   ],
   "source": [
    "top_words = []\n",
    "\n",
    "for i in range(kmeans.n_clusters):\n",
    "    top_words.append(find_top_words(i, X, feature_names, top_n=12))\n",
    "    \n",
    "for i, words in enumerate(top_words):\n",
    "    print(f\"Cluster {i}: {', '.join(words)}\")\n",
    "    \n",
    "print(\"Cluster labels:\")\n",
    "for i, label in enumerate(cluster_labels):\n",
    "    print(f\"Article {i+1}: Cluster {label}\")"
   ]
  },
  {
   "cell_type": "code",
   "execution_count": null,
   "id": "a8b737ed",
   "metadata": {},
   "outputs": [],
   "source": []
  },
  {
   "cell_type": "code",
   "execution_count": null,
   "id": "2c53fb96",
   "metadata": {},
   "outputs": [],
   "source": []
  },
  {
   "cell_type": "code",
   "execution_count": null,
   "id": "ff2de6b0",
   "metadata": {},
   "outputs": [],
   "source": []
  },
  {
   "cell_type": "code",
   "execution_count": null,
   "id": "198b9af6",
   "metadata": {},
   "outputs": [],
   "source": []
  },
  {
   "cell_type": "markdown",
   "id": "fade5060",
   "metadata": {},
   "source": [
    "### Classifying articles from our search"
   ]
  },
  {
   "cell_type": "markdown",
   "id": "359c4108",
   "metadata": {},
   "source": [
    "####  Import the articles from the cleaned_for_classification.xslx"
   ]
  },
  {
   "cell_type": "code",
   "execution_count": 69,
   "id": "7e09d7b2",
   "metadata": {},
   "outputs": [],
   "source": [
    "import pandas as pd\n",
    "\n",
    "# read the excel file\n",
    "excel_data = pd.read_excel('cleaned_for_classification.xlsx')\n",
    "\n",
    "new_data = excel_data[['Query', 'Engine','Content']]\n"
   ]
  },
  {
   "cell_type": "code",
   "execution_count": 58,
   "id": "14432157",
   "metadata": {
    "scrolled": false
   },
   "outputs": [
    {
     "data": {
      "text/html": [
       "<div>\n",
       "<style scoped>\n",
       "    .dataframe tbody tr th:only-of-type {\n",
       "        vertical-align: middle;\n",
       "    }\n",
       "\n",
       "    .dataframe tbody tr th {\n",
       "        vertical-align: top;\n",
       "    }\n",
       "\n",
       "    .dataframe thead th {\n",
       "        text-align: right;\n",
       "    }\n",
       "</style>\n",
       "<table border=\"1\" class=\"dataframe\">\n",
       "  <thead>\n",
       "    <tr style=\"text-align: right;\">\n",
       "      <th></th>\n",
       "      <th>Query</th>\n",
       "      <th>Engine</th>\n",
       "      <th>Content</th>\n",
       "    </tr>\n",
       "  </thead>\n",
       "  <tbody>\n",
       "    <tr>\n",
       "      <th>0</th>\n",
       "      <td>Vessel caught misreporting catch amount</td>\n",
       "      <td>Google</td>\n",
       "      <td>sea shepherd global wednesday 05 jun 2024 sea ...</td>\n",
       "    </tr>\n",
       "    <tr>\n",
       "      <th>1</th>\n",
       "      <td>Vessel caught misreporting catch amount</td>\n",
       "      <td>Google</td>\n",
       "      <td>move the iuu fight up the food chain  proceedi...</td>\n",
       "    </tr>\n",
       "    <tr>\n",
       "      <th>2</th>\n",
       "      <td>Vessel caught misreporting catch amount</td>\n",
       "      <td>Google</td>\n",
       "      <td>new rules tighten controls on eu today the env...</td>\n",
       "    </tr>\n",
       "    <tr>\n",
       "      <th>3</th>\n",
       "      <td>Vessel caught misreporting catch amount</td>\n",
       "      <td>Google</td>\n",
       "      <td>surprise media being misreporting the source o...</td>\n",
       "    </tr>\n",
       "    <tr>\n",
       "      <th>4</th>\n",
       "      <td>Vessel caught misreporting catch amount</td>\n",
       "      <td>Google</td>\n",
       "      <td>sea shepherd global monday 25 mar 2024 in a de...</td>\n",
       "    </tr>\n",
       "  </tbody>\n",
       "</table>\n",
       "</div>"
      ],
      "text/plain": [
       "                                     Query  Engine  \\\n",
       "0  Vessel caught misreporting catch amount  Google   \n",
       "1  Vessel caught misreporting catch amount  Google   \n",
       "2  Vessel caught misreporting catch amount  Google   \n",
       "3  Vessel caught misreporting catch amount  Google   \n",
       "4  Vessel caught misreporting catch amount  Google   \n",
       "\n",
       "                                             Content  \n",
       "0  sea shepherd global wednesday 05 jun 2024 sea ...  \n",
       "1  move the iuu fight up the food chain  proceedi...  \n",
       "2  new rules tighten controls on eu today the env...  \n",
       "3  surprise media being misreporting the source o...  \n",
       "4  sea shepherd global monday 25 mar 2024 in a de...  "
      ]
     },
     "execution_count": 58,
     "metadata": {},
     "output_type": "execute_result"
    }
   ],
   "source": [
    "new_data.head(5)"
   ]
  },
  {
   "cell_type": "code",
   "execution_count": 74,
   "id": "442b3f56",
   "metadata": {},
   "outputs": [
    {
     "name": "stdout",
     "output_type": "stream",
     "text": [
      "Cluster 0: document, second\n",
      "Cluster 1: second, document\n"
     ]
    }
   ],
   "source": []
  },
  {
   "cell_type": "code",
   "execution_count": 55,
   "id": "cd331318",
   "metadata": {},
   "outputs": [
    {
     "ename": "IndexError",
     "evalue": "list index out of range",
     "output_type": "error",
     "traceback": [
      "\u001b[1;31m---------------------------------------------------------------------------\u001b[0m",
      "\u001b[1;31mIndexError\u001b[0m                                Traceback (most recent call last)",
      "Cell \u001b[1;32mIn[55], line 9\u001b[0m\n\u001b[0;32m      7\u001b[0m \u001b[38;5;66;03m# Update top_words with extra_words\u001b[39;00m\n\u001b[0;32m      8\u001b[0m \u001b[38;5;28;01mfor\u001b[39;00m i, words \u001b[38;5;129;01min\u001b[39;00m extra_words\u001b[38;5;241m.\u001b[39mitems():\n\u001b[1;32m----> 9\u001b[0m     top_words[i]\u001b[38;5;241m.\u001b[39mextend(words)\n\u001b[0;32m     11\u001b[0m \u001b[38;5;66;03m# Print updated top words\u001b[39;00m\n\u001b[0;32m     12\u001b[0m \u001b[38;5;28;01mfor\u001b[39;00m i, words \u001b[38;5;129;01min\u001b[39;00m \u001b[38;5;28menumerate\u001b[39m(top_words):\n",
      "\u001b[1;31mIndexError\u001b[0m: list index out of range"
     ]
    }
   ],
   "source": []
  },
  {
   "cell_type": "code",
   "execution_count": 56,
   "id": "65fc863b",
   "metadata": {},
   "outputs": [
    {
     "name": "stdout",
     "output_type": "stream",
     "text": [
      "[[0. 0.]\n",
      " [0. 0.]]\n",
      "f.n ['document' 'second']\n",
      "Revised Centroids (TF-IDF vectors):\n",
      "[[nan nan]\n",
      " [nan nan]]\n"
     ]
    },
    {
     "name": "stderr",
     "output_type": "stream",
     "text": [
      "C:\\Users\\sumin\\AppData\\Local\\Temp\\ipykernel_7664\\3787295640.py:13: RuntimeWarning: invalid value encountered in divide\n",
      "  revised_centroids /= np.linalg.norm(revised_centroids, axis=1, keepdims=True)\n"
     ]
    }
   ],
   "source": [
    "# Construct revised centroids using top words\n",
    "revised_centroids = np.zeros((kmeans.n_clusters, X.shape[1]))  # Initialize centroids matrix\n",
    "feature_names = vectorizer.get_feature_names_out()\n",
    "\n",
    "\n",
    "for i, words in enumerate(top_words):\n",
    "    print(i, words)\n",
    "    word_indices = [feature_names.index(word) for word in words]\n",
    "    revised_centroids[i, word_indices] = 1.0  # Set TF-IDF weight for top words to 1.0 (or their actual TF-IDF values)\n",
    "\n",
    "# Normalize centroids (optional)\n",
    "revised_centroids /= np.linalg.norm(revised_centroids, axis=1, keepdims=True)\n",
    "\n",
    "# Print revised centroids\n",
    "print(\"Revised Centroids (TF-IDF vectors):\")\n",
    "print(revised_centroids)\n"
   ]
  },
  {
   "cell_type": "code",
   "execution_count": null,
   "id": "ecb9f385",
   "metadata": {},
   "outputs": [],
   "source": [
    "import numpy as np\n",
    "from sklearn.metrics.pairwise import cosine_similarity\n",
    "\n",
    "# Example TF-IDF matrix X (assume it's already available)\n",
    "X = ...  # Your TF-IDF matrix (document-term matrix)\n",
    "\n",
    "# Example of manually defined or updated centroids\n",
    "revised_centroids = np.array([\n",
    "    [0.1, 0.2, 0.3, 0.4, 0.5],  # Example centroid for cluster 0\n",
    "    [0.2, 0.3, 0.4, 0.5, 0.6],  # Example centroid for cluster 1\n",
    "    [0.3, 0.4, 0.5, 0.6, 0.7],  # Example centroid for cluster 2\n",
    "])\n",
    "\n",
    "# Initialize K-means with the number of clusters and custom centroids\n",
    "kmeans = KMeans(n_clusters=len(revised_centroids), init=revised_centroids, n_init=1, random_state=42)\n",
    "\n",
    "# Fit K-means clustering to the data (X is your TF-IDF matrix)\n",
    "kmeans.fit(X)\n",
    "\n",
    "# Get cluster labels and centroids after fitting\n",
    "clusters_revised = kmeans.labels_\n",
    "centroids_revised = kmeans.cluster_centers_\n",
    "\n",
    "# Example of printing cluster assignments\n",
    "for i, cluster in enumerate(clusters_revised):\n",
    "    print(f\"Document {i} assigned to cluster {cluster}\")\n",
    "\n",
    "# Example of printing centroids\n",
    "print(\"Revised Centroids:\")\n",
    "print(centroids_revised)"
   ]
  },
  {
   "cell_type": "code",
   "execution_count": 15,
   "id": "ac743e1f",
   "metadata": {},
   "outputs": [],
   "source": [
    "# Declare a classified_data\n",
    "classified_data = new_data.copy()\n",
    "\n"
   ]
  },
  {
   "cell_type": "code",
   "execution_count": null,
   "id": "8960b804",
   "metadata": {},
   "outputs": [],
   "source": []
  },
  {
   "cell_type": "code",
   "execution_count": null,
   "id": "359b680d",
   "metadata": {},
   "outputs": [],
   "source": []
  },
  {
   "cell_type": "code",
   "execution_count": null,
   "id": "fe5149f6",
   "metadata": {},
   "outputs": [],
   "source": []
  },
  {
   "cell_type": "code",
   "execution_count": null,
   "id": "54387f1f",
   "metadata": {},
   "outputs": [],
   "source": []
  },
  {
   "cell_type": "code",
   "execution_count": null,
   "id": "7b556809",
   "metadata": {},
   "outputs": [],
   "source": [
    "####### Have to have search_results_articles as a pandas data frame\n",
    "\n",
    "# Save DataFrame to Excel\n",
    "cleaned_data.to_excel('cleaned_for_classification.xlsx', index=False)\n",
    "\n",
    "print(\"DataFrame has been saved to output.xlsx\")\n"
   ]
  }
 ],
 "metadata": {
  "kernelspec": {
   "display_name": "Python 3 (ipykernel)",
   "language": "python",
   "name": "python3"
  },
  "language_info": {
   "codemirror_mode": {
    "name": "ipython",
    "version": 3
   },
   "file_extension": ".py",
   "mimetype": "text/x-python",
   "name": "python",
   "nbconvert_exporter": "python",
   "pygments_lexer": "ipython3",
   "version": "3.11.7"
  }
 },
 "nbformat": 4,
 "nbformat_minor": 5
}
