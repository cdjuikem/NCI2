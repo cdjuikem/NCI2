{
 "cells": [
  {
   "cell_type": "code",
   "execution_count": 1,
   "id": "1ead81e0",
   "metadata": {},
   "outputs": [],
   "source": [
    "from functions import *"
   ]
  },
  {
   "cell_type": "code",
   "execution_count": 4,
   "id": "280285fb",
   "metadata": {},
   "outputs": [
    {
     "name": "stdout",
     "output_type": "stream",
     "text": [
      "there are 8 articles in relevant_articles.\n",
      "there are 8 articles in irrelevant_articles.\n"
     ]
    }
   ],
   "source": [
    "# get pre-scraped text data\n",
    "# evaluate information score only on relative articles\n",
    "\n",
    "with open('rel_articles.txt', 'r') as file:\n",
    "    data_code = file.read()\n",
    "\n",
    "exec(data_code)  # Just to verify the content read\n"
   ]
  },
  {
   "cell_type": "code",
   "execution_count": 6,
   "id": "0d981aad",
   "metadata": {
    "scrolled": true
   },
   "outputs": [
    {
     "name": "stdout",
     "output_type": "stream",
     "text": [
      "2\n",
      "2\n",
      "2\n",
      "2\n",
      "2\n",
      "2\n",
      "2\n",
      "2\n"
     ]
    }
   ],
   "source": [
    "for article in relevant_articles:\n",
    "    print(info_score(article))\n",
    "    \n",
    "# IMO MMSI Names (people/location)"
   ]
  },
  {
   "cell_type": "markdown",
   "id": "fbdf8106",
   "metadata": {},
   "source": [
    "#### Thought: For a search engine, it might be a good idea to add the information score for all relevant articles from the search.\n",
    "\n",
    "#### Challenge: It is extremely rare an article directly contains IMO number or MMSI number. We need some more types of information to check!"
   ]
  },
  {
   "cell_type": "code",
   "execution_count": 10,
   "id": "96466218",
   "metadata": {},
   "outputs": [],
   "source": [
    "########################################################\n",
    "#### find_imo: Find IMO (7-digit numbers)\n",
    "\n",
    "def find_imo(content):    \n",
    "    # regular expression for a 7-digit number (exactly 7-digit)\n",
    "    imo_pattern = r'\\b\\d{7}\\b'\n",
    "    \n",
    "    # find all 7-digit numbers in the content \n",
    "    imo_list = re.findall(imo_pattern, content)\n",
    "    \n",
    "    return imo_list\n",
    "\n",
    "########################################################\n",
    "#### find_mmsi: Find MMSI (9-digit numbers)\n",
    "\n",
    "def find_mmsi(content):    \n",
    "    # regular expression for a 9-digit number (exactly 9-digit)\n",
    "    mmsi_pattern = r'\\b\\d{9}\\b'\n",
    "    \n",
    "    # find all 9-digit numbers in the content \n",
    "    mmsi_list = re.findall(mmsi_pattern, content)\n",
    "    \n",
    "    return mmsi_list\n",
    "\n",
    "########################################################\n",
    "#### find names (company, people, etc)\n",
    "# These functions require spaCy\n",
    "########################################################\n",
    "\n",
    "import spacy\n",
    "\n",
    "########################################################\n",
    "# people's names\n",
    "def find_people(text):\n",
    "    nlp = spacy.load('en_core_web_sm')\n",
    "    doc = nlp(text)\n",
    "    names = []\n",
    "\n",
    "    for ent in doc.ents:\n",
    "        if ent.label_ in ['PERSON']: # NORP is about nationality/religious/political group\n",
    "            names.append(ent.text)\n",
    "    return names\n",
    "\n",
    "########################################################\n",
    "# company's names\n",
    "def find_company(text):\n",
    "    nlp = spacy.load('en_core_web_sm')\n",
    "    doc = nlp(text)\n",
    "    names = []\n",
    "\n",
    "    for ent in doc.ents:\n",
    "        if ent.label_ in ['ORG']: # NORP is about nationality/religious/political group\n",
    "            names.append(ent.text)\n",
    "    return names\n",
    "\n",
    "\n",
    "########################################################\n",
    "# country's name / location\n",
    "def find_location(text):\n",
    "    nlp = spacy.load('en_core_web_sm')\n",
    "    doc = nlp(text)\n",
    "    locations = []\n",
    "\n",
    "    for ent in doc.ents:\n",
    "        if ent.label_ in ['LOC', 'GPE', 'NORP']: # location labels\n",
    "            locations.append(ent.text)\n",
    "    return locations\n",
    "\n",
    "\n",
    "########################################################\n",
    "# fishing species\n",
    "\n",
    "\n",
    "########################################################\n",
    "# GRT\n",
    "\n",
    "\n",
    "########################################################\n",
    "# Information score\n",
    "def info_score(text):\n",
    "    #give weigths to each information:\n",
    "    # IMO: 2\n",
    "    # MMSI: 2\n",
    "    # Involved parties or location: 1\n",
    "    # The score will be out of 10\n",
    "    score_list = [find_imo, find_mmsi, find_people, find_company, find_location]\n",
    "    weight_vector = np.array([2, 2, 1, 1, 1, 1])\n",
    "    score = []\n",
    "    for item in score_list:\n",
    "        score.append(item(text))\n",
    "    print(score)\n",
    "#    score = np.array(score)\n",
    "#    np.dot(score,weight_vector)\n",
    "#    imo = find_imo(text)\n",
    "#    mmsi = find_mmsi(text)\n",
    "#    people = find_people(text)\n",
    "#    company = find_company(text)\n",
    "#    location = find_location(text)\n",
    "#    parities_loc = find_involved_parties_spacy(text) + find_location(text)\n",
    "#    score = (int(len(imo) != 0)*weight_vector[0] + int(len(mmsi) != 0)*weight_vector[1] +  int(len(parities_loc) != 0)*weight_vector[2])*2\n",
    "    \n",
    "    return score\n",
    "\n"
   ]
  },
  {
   "cell_type": "code",
   "execution_count": 11,
   "id": "494cc100",
   "metadata": {},
   "outputs": [
    {
     "name": "stdout",
     "output_type": "stream",
     "text": [
      "[['1341231', '1412312'], [], ['Sogol'], ['Hiva', 'NCIS', 'Apple', 'Fishing Corp.'], ['Canada', 'Calgary', 'Winnipeg', 'Clotilde', 'Irushi']]\n"
     ]
    },
    {
     "ename": "NameError",
     "evalue": "name 'imo' is not defined",
     "output_type": "error",
     "traceback": [
      "\u001b[1;31m---------------------------------------------------------------------------\u001b[0m",
      "\u001b[1;31mNameError\u001b[0m                                 Traceback (most recent call last)",
      "Cell \u001b[1;32mIn[11], line 10\u001b[0m\n\u001b[0;32m      1\u001b[0m \u001b[38;5;28;01mimport\u001b[39;00m \u001b[38;5;21;01mnumpy\u001b[39;00m \u001b[38;5;28;01mas\u001b[39;00m \u001b[38;5;21;01mnp\u001b[39;00m\n\u001b[0;32m      3\u001b[0m text\u001b[38;5;241m=\u001b[39m  \u001b[38;5;124m\"\"\"\u001b[39m\n\u001b[0;32m      4\u001b[0m \u001b[38;5;124mHi here are some numbers 391923, 1341231, 35234123, 1412312, 3123. We are in Canada. Calgary is a big city. I have never been to Winnipeg. We have four awesome people in our group.\u001b[39m\n\u001b[0;32m      5\u001b[0m \u001b[38;5;124mSogol has been helped us as a mentor. I\u001b[39m\u001b[38;5;124m'\u001b[39m\u001b[38;5;124mm Sumin. My teammates are Clotilde, Irushi, and Hiva.\u001b[39m\n\u001b[0;32m      6\u001b[0m \u001b[38;5;124mNCIS is the company! Apple has been launched a new phone. What about Fishing Corp.?\u001b[39m\n\u001b[0;32m      7\u001b[0m \u001b[38;5;124m\"\"\"\u001b[39m\n\u001b[1;32m---> 10\u001b[0m info_score(text)\n",
      "Cell \u001b[1;32mIn[10], line 100\u001b[0m, in \u001b[0;36minfo_score\u001b[1;34m(text)\u001b[0m\n\u001b[0;32m     91\u001b[0m     \u001b[38;5;28mprint\u001b[39m(score)\n\u001b[0;32m     92\u001b[0m \u001b[38;5;66;03m#    score = np.array(score)\u001b[39;00m\n\u001b[0;32m     93\u001b[0m \u001b[38;5;66;03m#    np.dot(score,weight_vector)\u001b[39;00m\n\u001b[0;32m     94\u001b[0m \u001b[38;5;66;03m#    imo = find_imo(text)\u001b[39;00m\n\u001b[1;32m   (...)\u001b[0m\n\u001b[0;32m     98\u001b[0m \u001b[38;5;66;03m#    location = find_location(text)\u001b[39;00m\n\u001b[0;32m     99\u001b[0m \u001b[38;5;66;03m#    parities_loc = find_involved_parties_spacy(text) + find_location(text)\u001b[39;00m\n\u001b[1;32m--> 100\u001b[0m     score \u001b[38;5;241m=\u001b[39m (\u001b[38;5;28mint\u001b[39m(\u001b[38;5;28mlen\u001b[39m(imo) \u001b[38;5;241m!=\u001b[39m \u001b[38;5;241m0\u001b[39m)\u001b[38;5;241m*\u001b[39mweight_vector[\u001b[38;5;241m0\u001b[39m] \u001b[38;5;241m+\u001b[39m \u001b[38;5;28mint\u001b[39m(\u001b[38;5;28mlen\u001b[39m(mmsi) \u001b[38;5;241m!=\u001b[39m \u001b[38;5;241m0\u001b[39m)\u001b[38;5;241m*\u001b[39mweight_vector[\u001b[38;5;241m1\u001b[39m] \u001b[38;5;241m+\u001b[39m  \u001b[38;5;28mint\u001b[39m(\u001b[38;5;28mlen\u001b[39m(parities_loc) \u001b[38;5;241m!=\u001b[39m \u001b[38;5;241m0\u001b[39m)\u001b[38;5;241m*\u001b[39mweight_vector[\u001b[38;5;241m2\u001b[39m])\u001b[38;5;241m*\u001b[39m\u001b[38;5;241m2\u001b[39m\n\u001b[0;32m    102\u001b[0m     \u001b[38;5;28;01mreturn\u001b[39;00m score\n",
      "\u001b[1;31mNameError\u001b[0m: name 'imo' is not defined"
     ]
    }
   ],
   "source": [
    "import numpy as np\n",
    "\n",
    "text=  \"\"\"\n",
    "Hi here are some numbers 391923, 1341231, 35234123, 1412312, 3123. We are in Canada. Calgary is a big city. I have never been to Winnipeg. We have four awesome people in our group.\n",
    "Sogol has been helped us as a mentor. I'm Sumin. My teammates are Clotilde, Irushi, and Hiva.\n",
    "NCIS is the company! Apple has been launched a new phone. What about Fishing Corp.?\n",
    "\"\"\"\n",
    "\n",
    "\n",
    "info_score(text)"
   ]
  },
  {
   "cell_type": "code",
   "execution_count": null,
   "id": "a31aa47e",
   "metadata": {},
   "outputs": [],
   "source": []
  }
 ],
 "metadata": {
  "kernelspec": {
   "display_name": "Python 3 (ipykernel)",
   "language": "python",
   "name": "python3"
  },
  "language_info": {
   "codemirror_mode": {
    "name": "ipython",
    "version": 3
   },
   "file_extension": ".py",
   "mimetype": "text/x-python",
   "name": "python",
   "nbconvert_exporter": "python",
   "pygments_lexer": "ipython3",
   "version": "3.11.7"
  }
 },
 "nbformat": 4,
 "nbformat_minor": 5
}
