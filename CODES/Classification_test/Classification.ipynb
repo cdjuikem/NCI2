{
 "cells": [
  {
   "cell_type": "code",
   "execution_count": 303,
   "id": "1aa82148",
   "metadata": {},
   "outputs": [],
   "source": [
    "from functions import *\n"
   ]
  },
  {
   "cell_type": "code",
   "execution_count": 304,
   "id": "127737f3",
   "metadata": {},
   "outputs": [
    {
     "name": "stdout",
     "output_type": "stream",
     "text": [
      "there are 16 articles in relevant_articles.\n",
      "there are 18 articles in irrelevant_articles.\n"
     ]
    }
   ],
   "source": [
    "#get pre-scraped text data\n",
    "\n",
    "with open('rel_articles.txt', 'r') as file:\n",
    "    data_code = file.read()\n",
    "\n",
    "exec(data_code)  # Just to verify the content read\n",
    "\n",
    "#get the data\n",
    "with open('irrel_articles.txt', 'r') as file:\n",
    "    data_code = file.read()\n",
    "\n",
    "exec(data_code)  # Just to verify the content read\n",
    "\n",
    "rel_location = []\n",
    "irrel_location = []\n",
    "\n",
    "\n",
    "#len(relevant_articles)\n",
    "#len(relevant_articles[0])"
   ]
  },
  {
   "cell_type": "code",
   "execution_count": 305,
   "id": "030b7d75",
   "metadata": {
    "scrolled": true
   },
   "outputs": [
    {
     "name": "stdout",
     "output_type": "stream",
     "text": [
      "rel============\n",
      "rel============\n",
      "rel============\n",
      "rel============\n",
      "rel============\n",
      "rel============\n",
      "rel============\n",
      "rel============\n",
      "rel============\n",
      "rel============\n",
      "rel============\n",
      "rel============\n",
      "rel============\n",
      "rel============\n",
      "rel============\n",
      "rel============\n",
      "irrel============\n",
      "irrel============\n",
      "irrel============\n",
      "irrel============\n",
      "irrel============\n",
      "irrel============\n",
      "irrel============\n",
      "irrel============\n",
      "irrel============\n",
      "irrel============\n",
      "irrel============\n",
      "irrel============\n",
      "irrel============\n",
      "irrel============\n",
      "irrel============\n",
      "irrel============\n",
      "irrel============\n",
      "irrel============\n"
     ]
    }
   ],
   "source": [
    "#### preprocess the data with our word_groups\n",
    "cleaned_rel_articles = []\n",
    "cleaned_irrel_articles = []\n",
    "\n",
    "for article in relevant_articles:\n",
    "    # remove all special characters\n",
    "    cleaned = article\n",
    "    cleaned =  re.sub(r'[^-a-zA-Z0-9\\s]', '', cleaned)\n",
    "\n",
    "    # Find all location words\n",
    "    location_words = find_location(cleaned)\n",
    "    #print(location_words)\n",
    "    rel_location.append(location_words)\n",
    "    # Remove all location words from the text\n",
    "    for word in location_words:\n",
    "        cleaned = re.sub(word, '', cleaned)\n",
    "\n",
    "    #print(find_location(cleaned))\n",
    "    print(\"rel============\")\n",
    "    #print(\"article after removing location\", len(article))\n",
    "    cleaned = text_preprocess(cleaned)\n",
    "    #print(\"article after preprocess\", len(article))\n",
    "    cleaned = rep_word_text(cleaned)\n",
    "    #print(\"article after rep\", len(article))\n",
    "    cleaned_rel_articles.append(cleaned)\n",
    "\n",
    "    \n",
    "for article in irrelevant_articles:\n",
    "    # remove all special characters\n",
    "    cleaned = article\n",
    "    cleaned =  re.sub(r'[^-a-zA-Z0-9\\s]', '', cleaned)\n",
    "    \n",
    "    # Find all location words\n",
    "    location_words = find_location(cleaned)\n",
    "    #print(location_words)\n",
    "    irrel_location.append(location_words)\n",
    "    # Remove all location words from the text\n",
    "    for word in location_words:\n",
    "        cleaned = re.sub(word, '', cleaned)\n",
    "    #print(find_location(cleaned))\n",
    "    print(\"irrel============\")\n",
    "    \n",
    "    cleaned = text_preprocess(cleaned)    \n",
    "    cleaned = rep_word_text(cleaned)\n",
    "    cleaned_irrel_articles.append(cleaned)\n",
    "    \n",
    "\n"
   ]
  },
  {
   "cell_type": "code",
   "execution_count": 306,
   "id": "0d9cbd74",
   "metadata": {},
   "outputs": [
    {
     "name": "stdout",
     "output_type": "stream",
     "text": [
      "16\n",
      "18\n"
     ]
    }
   ],
   "source": [
    "# Training data (target)\n",
    "labels = []\n",
    "print(len(cleaned_rel_articles))\n",
    "print(len(cleaned_irrel_articles))\n",
    "for i in range(len(cleaned_rel_articles)):\n",
    "    labels.append('relevant')\n",
    "for i in range(len(cleaned_irrel_articles)):\n",
    "    labels.append('irrelevant')\n",
    "\n",
    "# Training data (independent variable)    \n",
    "articles = cleaned_rel_articles + cleaned_irrel_articles\n"
   ]
  },
  {
   "cell_type": "code",
   "execution_count": 307,
   "id": "c37c8ce4",
   "metadata": {},
   "outputs": [
    {
     "name": "stdout",
     "output_type": "stream",
     "text": [
      "DataFrame has been saved to output.xlsx\n"
     ]
    }
   ],
   "source": [
    "####### Have to have search_results_articles as a pandas data frame\n",
    "\n",
    "df_articles = pd.DataFrame(articles)\n",
    "\n",
    "# Save DataFrame to Excel\n",
    "df_articles.to_excel('tmp_articles.xlsx', index=False)\n",
    "\n",
    "print(\"DataFrame has been saved to output.xlsx\")\n"
   ]
  },
  {
   "cell_type": "markdown",
   "id": "251a81dd",
   "metadata": {},
   "source": [
    "### TF-IDF vectorization"
   ]
  },
  {
   "cell_type": "code",
   "execution_count": 308,
   "id": "45f17731",
   "metadata": {},
   "outputs": [],
   "source": [
    "#### Vectorizing with the keywords\n",
    "\n",
    "from sklearn.feature_extraction.text import TfidfVectorizer\n",
    "from sklearn.cluster import KMeans\n",
    "import numpy as np\n",
    "\n",
    "# Initialize TF-IDF vectorizer with preselected keywords\n",
    "#vectorizer = TfidfVectorizer(vocabulary=keywords)\n",
    "vectorizer = TfidfVectorizer(stop_words='english')\n",
    "\n",
    "# Compute TF-IDF scores for articles based on preselected keywords\n",
    "tfidf_matrix = vectorizer.fit_transform(articles)\n",
    "\n",
    "# Convert sparse TF-IDF matrix to dense array (for clustering)\n",
    "tfidf_matrix_dense = tfidf_matrix.toarray()"
   ]
  },
  {
   "cell_type": "code",
   "execution_count": 309,
   "id": "c62ca289",
   "metadata": {},
   "outputs": [],
   "source": [
    "#### Split the articles into \"training set\" and \"testing set\".\n",
    "from sklearn.model_selection import train_test_split\n",
    "\n",
    "# Split data into training and testing sets (80% training, 20% testing)\n",
    "X_train, X_test, y_train, y_test = train_test_split(tfidf_matrix_dense, labels, test_size=0.2, random_state=422)\n"
   ]
  },
  {
   "cell_type": "markdown",
   "id": "f5bb7947",
   "metadata": {},
   "source": [
    "#### Warning: Because the number of articles are limited, the results highly depends on the training set"
   ]
  },
  {
   "cell_type": "markdown",
   "id": "8ddb8af0",
   "metadata": {},
   "source": [
    "### Multinomial Naive Bayesian"
   ]
  },
  {
   "cell_type": "code",
   "execution_count": 310,
   "id": "4d467ee7",
   "metadata": {},
   "outputs": [
    {
     "data": {
      "text/html": [
       "<style>#sk-container-id-28 {color: black;background-color: white;}#sk-container-id-28 pre{padding: 0;}#sk-container-id-28 div.sk-toggleable {background-color: white;}#sk-container-id-28 label.sk-toggleable__label {cursor: pointer;display: block;width: 100%;margin-bottom: 0;padding: 0.3em;box-sizing: border-box;text-align: center;}#sk-container-id-28 label.sk-toggleable__label-arrow:before {content: \"▸\";float: left;margin-right: 0.25em;color: #696969;}#sk-container-id-28 label.sk-toggleable__label-arrow:hover:before {color: black;}#sk-container-id-28 div.sk-estimator:hover label.sk-toggleable__label-arrow:before {color: black;}#sk-container-id-28 div.sk-toggleable__content {max-height: 0;max-width: 0;overflow: hidden;text-align: left;background-color: #f0f8ff;}#sk-container-id-28 div.sk-toggleable__content pre {margin: 0.2em;color: black;border-radius: 0.25em;background-color: #f0f8ff;}#sk-container-id-28 input.sk-toggleable__control:checked~div.sk-toggleable__content {max-height: 200px;max-width: 100%;overflow: auto;}#sk-container-id-28 input.sk-toggleable__control:checked~label.sk-toggleable__label-arrow:before {content: \"▾\";}#sk-container-id-28 div.sk-estimator input.sk-toggleable__control:checked~label.sk-toggleable__label {background-color: #d4ebff;}#sk-container-id-28 div.sk-label input.sk-toggleable__control:checked~label.sk-toggleable__label {background-color: #d4ebff;}#sk-container-id-28 input.sk-hidden--visually {border: 0;clip: rect(1px 1px 1px 1px);clip: rect(1px, 1px, 1px, 1px);height: 1px;margin: -1px;overflow: hidden;padding: 0;position: absolute;width: 1px;}#sk-container-id-28 div.sk-estimator {font-family: monospace;background-color: #f0f8ff;border: 1px dotted black;border-radius: 0.25em;box-sizing: border-box;margin-bottom: 0.5em;}#sk-container-id-28 div.sk-estimator:hover {background-color: #d4ebff;}#sk-container-id-28 div.sk-parallel-item::after {content: \"\";width: 100%;border-bottom: 1px solid gray;flex-grow: 1;}#sk-container-id-28 div.sk-label:hover label.sk-toggleable__label {background-color: #d4ebff;}#sk-container-id-28 div.sk-serial::before {content: \"\";position: absolute;border-left: 1px solid gray;box-sizing: border-box;top: 0;bottom: 0;left: 50%;z-index: 0;}#sk-container-id-28 div.sk-serial {display: flex;flex-direction: column;align-items: center;background-color: white;padding-right: 0.2em;padding-left: 0.2em;position: relative;}#sk-container-id-28 div.sk-item {position: relative;z-index: 1;}#sk-container-id-28 div.sk-parallel {display: flex;align-items: stretch;justify-content: center;background-color: white;position: relative;}#sk-container-id-28 div.sk-item::before, #sk-container-id-28 div.sk-parallel-item::before {content: \"\";position: absolute;border-left: 1px solid gray;box-sizing: border-box;top: 0;bottom: 0;left: 50%;z-index: -1;}#sk-container-id-28 div.sk-parallel-item {display: flex;flex-direction: column;z-index: 1;position: relative;background-color: white;}#sk-container-id-28 div.sk-parallel-item:first-child::after {align-self: flex-end;width: 50%;}#sk-container-id-28 div.sk-parallel-item:last-child::after {align-self: flex-start;width: 50%;}#sk-container-id-28 div.sk-parallel-item:only-child::after {width: 0;}#sk-container-id-28 div.sk-dashed-wrapped {border: 1px dashed gray;margin: 0 0.4em 0.5em 0.4em;box-sizing: border-box;padding-bottom: 0.4em;background-color: white;}#sk-container-id-28 div.sk-label label {font-family: monospace;font-weight: bold;display: inline-block;line-height: 1.2em;}#sk-container-id-28 div.sk-label-container {text-align: center;}#sk-container-id-28 div.sk-container {/* jupyter's `normalize.less` sets `[hidden] { display: none; }` but bootstrap.min.css set `[hidden] { display: none !important; }` so we also need the `!important` here to be able to override the default hidden behavior on the sphinx rendered scikit-learn.org. See: https://github.com/scikit-learn/scikit-learn/issues/21755 */display: inline-block !important;position: relative;}#sk-container-id-28 div.sk-text-repr-fallback {display: none;}</style><div id=\"sk-container-id-28\" class=\"sk-top-container\"><div class=\"sk-text-repr-fallback\"><pre>MultinomialNB()</pre><b>In a Jupyter environment, please rerun this cell to show the HTML representation or trust the notebook. <br />On GitHub, the HTML representation is unable to render, please try loading this page with nbviewer.org.</b></div><div class=\"sk-container\" hidden><div class=\"sk-item\"><div class=\"sk-estimator sk-toggleable\"><input class=\"sk-toggleable__control sk-hidden--visually\" id=\"sk-estimator-id-28\" type=\"checkbox\" checked><label for=\"sk-estimator-id-28\" class=\"sk-toggleable__label sk-toggleable__label-arrow\">MultinomialNB</label><div class=\"sk-toggleable__content\"><pre>MultinomialNB()</pre></div></div></div></div></div>"
      ],
      "text/plain": [
       "MultinomialNB()"
      ]
     },
     "execution_count": 310,
     "metadata": {},
     "output_type": "execute_result"
    }
   ],
   "source": [
    "from sklearn.naive_bayes import MultinomialNB\n",
    "\n",
    "# Initialize the classifier\n",
    "clf = MultinomialNB()\n",
    "\n",
    "# Train the classifier on the training data\n",
    "clf.fit(X_train, y_train)\n"
   ]
  },
  {
   "cell_type": "code",
   "execution_count": 311,
   "id": "343533b0",
   "metadata": {},
   "outputs": [
    {
     "name": "stdout",
     "output_type": "stream",
     "text": [
      "2976\n",
      "Top features for class 0:\n",
      "vessels -7.29000681004192\n",
      "fish -7.309186946793564\n",
      "fishing -7.331599421328959\n",
      "illegal -7.408758792955732\n",
      "says -7.4927706431587975\n",
      "fisheries -7.507877976910703\n",
      "trade -7.537397563851164\n",
      "crime -7.555582954240293\n",
      "whales -7.5830080849558446\n",
      "blood -7.587845894801934\n"
     ]
    }
   ],
   "source": [
    "feature_log_prob = clf.feature_log_prob_\n",
    "feature_names = vectorizer.get_feature_names_out()\n",
    "print(len(feature_names))\n",
    "top_features = np.argsort(feature_log_prob[0])[::-1][:10]\n",
    "#feature_names = np.array(feature_names)  # Assuming you have feature names\n",
    "print(\"Top features for class 0:\")\n",
    "for feature_idx in top_features:\n",
    "    print( feature_names[feature_idx], feature_log_prob[0][feature_idx])"
   ]
  },
  {
   "cell_type": "code",
   "execution_count": 312,
   "id": "bc778b00",
   "metadata": {},
   "outputs": [],
   "source": [
    "# Predict on the test data\n",
    "y_pred = clf.predict(X_test)"
   ]
  },
  {
   "cell_type": "code",
   "execution_count": 313,
   "id": "8d86f8c0",
   "metadata": {},
   "outputs": [
    {
     "name": "stdout",
     "output_type": "stream",
     "text": [
      "Accuracy: 0.86\n"
     ]
    }
   ],
   "source": [
    "from sklearn.metrics import accuracy_score, classification_report\n",
    "\n",
    "# Calculate accuracy\n",
    "accuracy = accuracy_score(y_test, y_pred)\n",
    "print(f\"Accuracy: {accuracy:.2f}\")\n",
    "\n",
    "# Generate a classification report\n",
    "report = classification_report(y_test, y_pred, target_names=['relevant', 'irrelevant'], output_dict=True)\n",
    "#print(report)\n",
    "#print(type(report))\n"
   ]
  },
  {
   "cell_type": "code",
   "execution_count": 314,
   "id": "f5ef435a",
   "metadata": {},
   "outputs": [],
   "source": [
    "import numpy as np\n",
    "import matplotlib.pyplot as plt\n",
    "\n",
    "# Extract metrics\n",
    "#class_names = list(report.keys())[:-3]  # Extract class names\n",
    "class_names = ['relevant', 'irrelevant']\n",
    "metrics = {'precision': [], 'recall': [], 'f1-score': [], 'support': []}\n",
    "\n",
    "for cls in class_names:\n",
    "    metrics['precision'].append(report[cls]['precision'])\n",
    "    metrics['recall'].append(report[cls]['recall'])\n",
    "    metrics['f1-score'].append(report[cls]['f1-score'])\n",
    "    metrics['support'].append(report[cls]['support'])\n",
    "\n",
    "# Convert to numpy arrays for plotting\n",
    "precision = np.array(metrics['precision'])\n",
    "recall = np.array(metrics['recall'])\n",
    "f1_score = np.array(metrics['f1-score'])\n",
    "support = np.array(metrics['support'])\n"
   ]
  },
  {
   "cell_type": "code",
   "execution_count": 315,
   "id": "5fb7f200",
   "metadata": {},
   "outputs": [
    {
     "data": {
      "image/png": "[encoded data removed]",
      "text/plain": [
       "<Figure size 1000x600 with 1 Axes>"
      ]
     },
     "metadata": {},
     "output_type": "display_data"
    }
   ],
   "source": [
    "# Plotting the testing result\n",
    "fig, ax = plt.subplots(figsize=(10, 6))\n",
    "\n",
    "bar_width = 0.2\n",
    "index = np.arange(len(class_names))\n",
    "\n",
    "bar1 = ax.bar(index - bar_width, precision, bar_width, label='Precision', color='b')\n",
    "#bar2 = ax.bar(index, recall, bar_width, label='Recall', color='g')\n",
    "#bar3 = ax.bar(index + bar_width, f1_score, bar_width, label='F1-score', color='r')\n",
    "\n",
    "ax.set_xlabel('Classes')\n",
    "ax.set_ylabel('Scores')\n",
    "ax.set_title('Classification Report')\n",
    "ax.set_xticks(index)\n",
    "ax.set_xticklabels(class_names, rotation=45)\n",
    "ax.legend()\n",
    "\n",
    "def autolabel(bars):\n",
    "    \"\"\"Attach a text label above each bar in *bars*, displaying its height.\"\"\"\n",
    "    for bar in bars:\n",
    "        height = bar.get_height()\n",
    "        ax.annotate('%.2f' % height,\n",
    "                    xy=(bar.get_x() + bar.get_width() / 2, height),\n",
    "                    xytext=(0, 3),  # 3 points vertical offset\n",
    "                    textcoords=\"offset points\",\n",
    "                    ha='center', va='bottom')\n",
    "\n",
    "autolabel(bar1)\n",
    "#autolabel(bar2)\n",
    "#autolabel(bar3)\n",
    "\n",
    "plt.tight_layout()\n",
    "plt.show()\n"
   ]
  },
  {
   "cell_type": "markdown",
   "id": "c5e20b87",
   "metadata": {},
   "source": [
    "### Logistic regression"
   ]
  },
  {
   "cell_type": "code",
   "execution_count": 316,
   "id": "b36801ed",
   "metadata": {},
   "outputs": [
    {
     "data": {
      "text/html": [
       "<style>#sk-container-id-29 {color: black;background-color: white;}#sk-container-id-29 pre{padding: 0;}#sk-container-id-29 div.sk-toggleable {background-color: white;}#sk-container-id-29 label.sk-toggleable__label {cursor: pointer;display: block;width: 100%;margin-bottom: 0;padding: 0.3em;box-sizing: border-box;text-align: center;}#sk-container-id-29 label.sk-toggleable__label-arrow:before {content: \"▸\";float: left;margin-right: 0.25em;color: #696969;}#sk-container-id-29 label.sk-toggleable__label-arrow:hover:before {color: black;}#sk-container-id-29 div.sk-estimator:hover label.sk-toggleable__label-arrow:before {color: black;}#sk-container-id-29 div.sk-toggleable__content {max-height: 0;max-width: 0;overflow: hidden;text-align: left;background-color: #f0f8ff;}#sk-container-id-29 div.sk-toggleable__content pre {margin: 0.2em;color: black;border-radius: 0.25em;background-color: #f0f8ff;}#sk-container-id-29 input.sk-toggleable__control:checked~div.sk-toggleable__content {max-height: 200px;max-width: 100%;overflow: auto;}#sk-container-id-29 input.sk-toggleable__control:checked~label.sk-toggleable__label-arrow:before {content: \"▾\";}#sk-container-id-29 div.sk-estimator input.sk-toggleable__control:checked~label.sk-toggleable__label {background-color: #d4ebff;}#sk-container-id-29 div.sk-label input.sk-toggleable__control:checked~label.sk-toggleable__label {background-color: #d4ebff;}#sk-container-id-29 input.sk-hidden--visually {border: 0;clip: rect(1px 1px 1px 1px);clip: rect(1px, 1px, 1px, 1px);height: 1px;margin: -1px;overflow: hidden;padding: 0;position: absolute;width: 1px;}#sk-container-id-29 div.sk-estimator {font-family: monospace;background-color: #f0f8ff;border: 1px dotted black;border-radius: 0.25em;box-sizing: border-box;margin-bottom: 0.5em;}#sk-container-id-29 div.sk-estimator:hover {background-color: #d4ebff;}#sk-container-id-29 div.sk-parallel-item::after {content: \"\";width: 100%;border-bottom: 1px solid gray;flex-grow: 1;}#sk-container-id-29 div.sk-label:hover label.sk-toggleable__label {background-color: #d4ebff;}#sk-container-id-29 div.sk-serial::before {content: \"\";position: absolute;border-left: 1px solid gray;box-sizing: border-box;top: 0;bottom: 0;left: 50%;z-index: 0;}#sk-container-id-29 div.sk-serial {display: flex;flex-direction: column;align-items: center;background-color: white;padding-right: 0.2em;padding-left: 0.2em;position: relative;}#sk-container-id-29 div.sk-item {position: relative;z-index: 1;}#sk-container-id-29 div.sk-parallel {display: flex;align-items: stretch;justify-content: center;background-color: white;position: relative;}#sk-container-id-29 div.sk-item::before, #sk-container-id-29 div.sk-parallel-item::before {content: \"\";position: absolute;border-left: 1px solid gray;box-sizing: border-box;top: 0;bottom: 0;left: 50%;z-index: -1;}#sk-container-id-29 div.sk-parallel-item {display: flex;flex-direction: column;z-index: 1;position: relative;background-color: white;}#sk-container-id-29 div.sk-parallel-item:first-child::after {align-self: flex-end;width: 50%;}#sk-container-id-29 div.sk-parallel-item:last-child::after {align-self: flex-start;width: 50%;}#sk-container-id-29 div.sk-parallel-item:only-child::after {width: 0;}#sk-container-id-29 div.sk-dashed-wrapped {border: 1px dashed gray;margin: 0 0.4em 0.5em 0.4em;box-sizing: border-box;padding-bottom: 0.4em;background-color: white;}#sk-container-id-29 div.sk-label label {font-family: monospace;font-weight: bold;display: inline-block;line-height: 1.2em;}#sk-container-id-29 div.sk-label-container {text-align: center;}#sk-container-id-29 div.sk-container {/* jupyter's `normalize.less` sets `[hidden] { display: none; }` but bootstrap.min.css set `[hidden] { display: none !important; }` so we also need the `!important` here to be able to override the default hidden behavior on the sphinx rendered scikit-learn.org. See: https://github.com/scikit-learn/scikit-learn/issues/21755 */display: inline-block !important;position: relative;}#sk-container-id-29 div.sk-text-repr-fallback {display: none;}</style><div id=\"sk-container-id-29\" class=\"sk-top-container\"><div class=\"sk-text-repr-fallback\"><pre>LogisticRegression()</pre><b>In a Jupyter environment, please rerun this cell to show the HTML representation or trust the notebook. <br />On GitHub, the HTML representation is unable to render, please try loading this page with nbviewer.org.</b></div><div class=\"sk-container\" hidden><div class=\"sk-item\"><div class=\"sk-estimator sk-toggleable\"><input class=\"sk-toggleable__control sk-hidden--visually\" id=\"sk-estimator-id-29\" type=\"checkbox\" checked><label for=\"sk-estimator-id-29\" class=\"sk-toggleable__label sk-toggleable__label-arrow\">LogisticRegression</label><div class=\"sk-toggleable__content\"><pre>LogisticRegression()</pre></div></div></div></div></div>"
      ],
      "text/plain": [
       "LogisticRegression()"
      ]
     },
     "execution_count": 316,
     "metadata": {},
     "output_type": "execute_result"
    }
   ],
   "source": [
    "from sklearn.linear_model import LogisticRegression\n",
    "\n",
    "# Initialize the classifier\n",
    "classifier = LogisticRegression()\n",
    "\n",
    "# Train the classifier on the training data\n",
    "classifier.fit(X_train, y_train)"
   ]
  },
  {
   "cell_type": "code",
   "execution_count": 317,
   "id": "e0b8ac9e",
   "metadata": {},
   "outputs": [
    {
     "name": "stdout",
     "output_type": "stream",
     "text": [
      "Accuracy: 0.57\n"
     ]
    }
   ],
   "source": [
    "# Predict labels for the test set\n",
    "y_pred = classifier.predict(X_test)\n",
    "\n",
    "# Evaluate the accuracy of the model\n",
    "from sklearn.metrics import accuracy_score\n",
    "\n",
    "accuracy = accuracy_score(y_test, y_pred)\n",
    "print(f\"Accuracy: {accuracy:.2f}\")\n"
   ]
  },
  {
   "cell_type": "code",
   "execution_count": 318,
   "id": "4b8a003d",
   "metadata": {},
   "outputs": [
    {
     "name": "stdout",
     "output_type": "stream",
     "text": [
      "[[3 0]\n",
      " [3 1]]\n"
     ]
    },
    {
     "data": {
      "image/png": "[encoded data removed]",
      "text/plain": [
       "<Figure size 800x600 with 1 Axes>"
      ]
     },
     "metadata": {},
     "output_type": "display_data"
    }
   ],
   "source": [
    "from sklearn.metrics import confusion_matrix\n",
    "import seaborn as sns\n",
    "\n",
    "# Compute confusion matrix\n",
    "cm = confusion_matrix(y_test, y_pred)\n",
    "print(cm)\n",
    "# Plot confusion matrix\n",
    "plt.figure(figsize=(8, 6))\n",
    "sns.heatmap(cm, annot=True, fmt='d', cmap='Blues', cbar=False)\n",
    "plt.xlabel('Predicted')\n",
    "plt.ylabel('Actual')\n",
    "plt.title('Confusion Matrix')\n",
    "plt.show()\n",
    "\n"
   ]
  },
  {
   "cell_type": "code",
   "execution_count": 319,
   "id": "49b9ab61",
   "metadata": {},
   "outputs": [],
   "source": [
    "rel_precision = cm[0][0] / (cm[0][0]+cm[1][0])\n",
    "irrel_precision = cm[1][1] / (cm[0][1]+cm[1][1])\n"
   ]
  },
  {
   "cell_type": "code",
   "execution_count": null,
   "id": "07f5760f",
   "metadata": {},
   "outputs": [],
   "source": []
  },
  {
   "cell_type": "code",
   "execution_count": null,
   "id": "a3f93a2b",
   "metadata": {},
   "outputs": [],
   "source": []
  },
  {
   "cell_type": "code",
   "execution_count": null,
   "id": "98608554",
   "metadata": {},
   "outputs": [],
   "source": []
  },
  {
   "cell_type": "markdown",
   "id": "14e5e808",
   "metadata": {},
   "source": [
    "### Clustering"
   ]
  },
  {
   "cell_type": "code",
   "execution_count": 320,
   "id": "ebb71972",
   "metadata": {},
   "outputs": [
    {
     "name": "stderr",
     "output_type": "stream",
     "text": [
      "C:\\Users\\sumin\\anaconda3\\Lib\\site-packages\\sklearn\\cluster\\_kmeans.py:870: FutureWarning: The default value of `n_init` will change from 10 to 'auto' in 1.4. Set the value of `n_init` explicitly to suppress the warning\n",
      "  warnings.warn(\n"
     ]
    },
    {
     "data": {
      "text/html": [
       "<style>#sk-container-id-30 {color: black;background-color: white;}#sk-container-id-30 pre{padding: 0;}#sk-container-id-30 div.sk-toggleable {background-color: white;}#sk-container-id-30 label.sk-toggleable__label {cursor: pointer;display: block;width: 100%;margin-bottom: 0;padding: 0.3em;box-sizing: border-box;text-align: center;}#sk-container-id-30 label.sk-toggleable__label-arrow:before {content: \"▸\";float: left;margin-right: 0.25em;color: #696969;}#sk-container-id-30 label.sk-toggleable__label-arrow:hover:before {color: black;}#sk-container-id-30 div.sk-estimator:hover label.sk-toggleable__label-arrow:before {color: black;}#sk-container-id-30 div.sk-toggleable__content {max-height: 0;max-width: 0;overflow: hidden;text-align: left;background-color: #f0f8ff;}#sk-container-id-30 div.sk-toggleable__content pre {margin: 0.2em;color: black;border-radius: 0.25em;background-color: #f0f8ff;}#sk-container-id-30 input.sk-toggleable__control:checked~div.sk-toggleable__content {max-height: 200px;max-width: 100%;overflow: auto;}#sk-container-id-30 input.sk-toggleable__control:checked~label.sk-toggleable__label-arrow:before {content: \"▾\";}#sk-container-id-30 div.sk-estimator input.sk-toggleable__control:checked~label.sk-toggleable__label {background-color: #d4ebff;}#sk-container-id-30 div.sk-label input.sk-toggleable__control:checked~label.sk-toggleable__label {background-color: #d4ebff;}#sk-container-id-30 input.sk-hidden--visually {border: 0;clip: rect(1px 1px 1px 1px);clip: rect(1px, 1px, 1px, 1px);height: 1px;margin: -1px;overflow: hidden;padding: 0;position: absolute;width: 1px;}#sk-container-id-30 div.sk-estimator {font-family: monospace;background-color: #f0f8ff;border: 1px dotted black;border-radius: 0.25em;box-sizing: border-box;margin-bottom: 0.5em;}#sk-container-id-30 div.sk-estimator:hover {background-color: #d4ebff;}#sk-container-id-30 div.sk-parallel-item::after {content: \"\";width: 100%;border-bottom: 1px solid gray;flex-grow: 1;}#sk-container-id-30 div.sk-label:hover label.sk-toggleable__label {background-color: #d4ebff;}#sk-container-id-30 div.sk-serial::before {content: \"\";position: absolute;border-left: 1px solid gray;box-sizing: border-box;top: 0;bottom: 0;left: 50%;z-index: 0;}#sk-container-id-30 div.sk-serial {display: flex;flex-direction: column;align-items: center;background-color: white;padding-right: 0.2em;padding-left: 0.2em;position: relative;}#sk-container-id-30 div.sk-item {position: relative;z-index: 1;}#sk-container-id-30 div.sk-parallel {display: flex;align-items: stretch;justify-content: center;background-color: white;position: relative;}#sk-container-id-30 div.sk-item::before, #sk-container-id-30 div.sk-parallel-item::before {content: \"\";position: absolute;border-left: 1px solid gray;box-sizing: border-box;top: 0;bottom: 0;left: 50%;z-index: -1;}#sk-container-id-30 div.sk-parallel-item {display: flex;flex-direction: column;z-index: 1;position: relative;background-color: white;}#sk-container-id-30 div.sk-parallel-item:first-child::after {align-self: flex-end;width: 50%;}#sk-container-id-30 div.sk-parallel-item:last-child::after {align-self: flex-start;width: 50%;}#sk-container-id-30 div.sk-parallel-item:only-child::after {width: 0;}#sk-container-id-30 div.sk-dashed-wrapped {border: 1px dashed gray;margin: 0 0.4em 0.5em 0.4em;box-sizing: border-box;padding-bottom: 0.4em;background-color: white;}#sk-container-id-30 div.sk-label label {font-family: monospace;font-weight: bold;display: inline-block;line-height: 1.2em;}#sk-container-id-30 div.sk-label-container {text-align: center;}#sk-container-id-30 div.sk-container {/* jupyter's `normalize.less` sets `[hidden] { display: none; }` but bootstrap.min.css set `[hidden] { display: none !important; }` so we also need the `!important` here to be able to override the default hidden behavior on the sphinx rendered scikit-learn.org. See: https://github.com/scikit-learn/scikit-learn/issues/21755 */display: inline-block !important;position: relative;}#sk-container-id-30 div.sk-text-repr-fallback {display: none;}</style><div id=\"sk-container-id-30\" class=\"sk-top-container\"><div class=\"sk-text-repr-fallback\"><pre>KMeans(n_clusters=2)</pre><b>In a Jupyter environment, please rerun this cell to show the HTML representation or trust the notebook. <br />On GitHub, the HTML representation is unable to render, please try loading this page with nbviewer.org.</b></div><div class=\"sk-container\" hidden><div class=\"sk-item\"><div class=\"sk-estimator sk-toggleable\"><input class=\"sk-toggleable__control sk-hidden--visually\" id=\"sk-estimator-id-30\" type=\"checkbox\" checked><label for=\"sk-estimator-id-30\" class=\"sk-toggleable__label sk-toggleable__label-arrow\">KMeans</label><div class=\"sk-toggleable__content\"><pre>KMeans(n_clusters=2)</pre></div></div></div></div></div>"
      ],
      "text/plain": [
       "KMeans(n_clusters=2)"
      ]
     },
     "execution_count": 320,
     "metadata": {},
     "output_type": "execute_result"
    }
   ],
   "source": [
    "import numpy as np\n",
    "import matplotlib.pyplot as plt\n",
    "from sklearn.cluster import KMeans\n",
    "from sklearn.feature_extraction.text import TfidfVectorizer\n",
    "\n",
    "k =2\n",
    "# Create KMeans instance\n",
    "kmeans = KMeans(n_clusters=k)\n",
    "\n",
    "# Fit KMeans clustering model to TF-IDF data\n",
    "kmeans.fit(tfidf_matrix)\n"
   ]
  },
  {
   "cell_type": "code",
   "execution_count": 321,
   "id": "57679baa",
   "metadata": {
    "scrolled": false
   },
   "outputs": [
    {
     "name": "stdout",
     "output_type": "stream",
     "text": [
      "Cluster labels: [1 1 1 0 0 0 1 0 0 0 0 1 0 0 0 0 1 0 0 0 0 0 0 0 1 0 0 0 1 1 0 1 1 1]\n"
     ]
    }
   ],
   "source": [
    "cluster_labels = kmeans.predict(tfidf_matrix)\n",
    "\n",
    "# Print cluster labels\n",
    "print(\"Cluster labels:\", cluster_labels)\n",
    "#for i, label in enumerate(cluster_labels):\n",
    "    #print(f\"Article {i+1}: Cluster {label}\")\n"
   ]
  },
  {
   "cell_type": "code",
   "execution_count": 322,
   "id": "9b13484e",
   "metadata": {
    "scrolled": false
   },
   "outputs": [
    {
     "name": "stdout",
     "output_type": "stream",
     "text": [
      "[ 1  3  4  5  6  7  8  9 10 12 13 14 15 17 18 20 21 22 23 25 26 27 30 33]\n",
      "[ 0  2 11 16 19 24 28 29 31 32]\n",
      "Cluster 0: fishing, fish, fisheries, vessels, illegal, catch, said, herring, court, catches, tuna, year\n",
      "Cluster 1: says, fish, ship, struck, vessel, blood, eye, reported, catches, trawler, man, hitting\n",
      "Cluster labels:\n",
      "Article 1: Cluster 1\n",
      "Article 2: Cluster 1\n",
      "Article 3: Cluster 1\n",
      "Article 4: Cluster 0\n",
      "Article 5: Cluster 0\n",
      "Article 6: Cluster 0\n",
      "Article 7: Cluster 1\n",
      "Article 8: Cluster 0\n",
      "Article 9: Cluster 0\n",
      "Article 10: Cluster 0\n",
      "Article 11: Cluster 0\n",
      "Article 12: Cluster 1\n",
      "Article 13: Cluster 0\n",
      "Article 14: Cluster 0\n",
      "Article 15: Cluster 0\n",
      "Article 16: Cluster 0\n",
      "Article 17: Cluster 1\n",
      "Article 18: Cluster 0\n",
      "Article 19: Cluster 0\n",
      "Article 20: Cluster 0\n",
      "Article 21: Cluster 0\n",
      "Article 22: Cluster 0\n",
      "Article 23: Cluster 0\n",
      "Article 24: Cluster 0\n",
      "Article 25: Cluster 1\n",
      "Article 26: Cluster 0\n",
      "Article 27: Cluster 0\n",
      "Article 28: Cluster 0\n",
      "Article 29: Cluster 1\n",
      "Article 30: Cluster 1\n",
      "Article 31: Cluster 0\n",
      "Article 32: Cluster 1\n",
      "Article 33: Cluster 1\n",
      "Article 34: Cluster 1\n"
     ]
    }
   ],
   "source": [
    "X = vectorizer.fit_transform(articles)\n",
    "clusters = kmeans.fit_predict(X)\n",
    "centroids = kmeans.cluster_centers_\n",
    "feature_names = vectorizer.get_feature_names_out()\n",
    "\n",
    "\n",
    "def find_top_words(cluster_label, X, feature_names, top_n=10):\n",
    "    cluster_indices = np.where(clusters == cluster_label)[0]\n",
    "    print(cluster_indices)\n",
    "    cluster_tfidf = np.mean(X[cluster_indices], axis=0).A1  # Average TF-IDF vector\n",
    "    top_indices = cluster_tfidf.argsort()[-top_n:][::-1]\n",
    "    top_words = [feature_names[idx] for idx in top_indices]\n",
    "    return top_words\n",
    "\n",
    "top_words = []\n",
    "\n",
    "for i in range(kmeans.n_clusters):\n",
    "    top_words.append(find_top_words(i, X, feature_names, top_n=12))\n",
    "    \n",
    "for i, words in enumerate(top_words):\n",
    "    print(f\"Cluster {i}: {', '.join(words)}\")\n",
    "    \n",
    "print(\"Cluster labels:\")\n",
    "for i, label in enumerate(cluster_labels):\n",
    "    print(f\"Article {i+1}: Cluster {label}\")"
   ]
  },
  {
   "cell_type": "code",
   "execution_count": null,
   "id": "570dba89",
   "metadata": {},
   "outputs": [],
   "source": [
    "\n"
   ]
  },
  {
   "cell_type": "code",
   "execution_count": null,
   "id": "7d616b30",
   "metadata": {},
   "outputs": [],
   "source": []
  },
  {
   "cell_type": "code",
   "execution_count": null,
   "id": "e80e640c",
   "metadata": {},
   "outputs": [],
   "source": []
  },
  {
   "cell_type": "code",
   "execution_count": null,
   "id": "8cbb3e23",
   "metadata": {},
   "outputs": [],
   "source": []
  },
  {
   "cell_type": "markdown",
   "id": "fade5060",
   "metadata": {},
   "source": [
    "### Classifying articles from our search"
   ]
  },
  {
   "cell_type": "markdown",
   "id": "359c4108",
   "metadata": {},
   "source": [
    "####  Import the articles from the cleaned_for_classification.xslx"
   ]
  },
  {
   "cell_type": "code",
   "execution_count": 339,
   "id": "7e09d7b2",
   "metadata": {},
   "outputs": [],
   "source": [
    "import pandas as pd\n",
    "\n",
    "# read the excel file\n",
    "excel_data = pd.read_excel('cleaned_for_classification.xlsx')\n",
    "\n",
    "new_data = excel_data[['Query', 'Engine','Content']]\n"
   ]
  },
  {
   "cell_type": "code",
   "execution_count": 340,
   "id": "14432157",
   "metadata": {
    "scrolled": false
   },
   "outputs": [
    {
     "data": {
      "text/html": [
       "<div>\n",
       "<style scoped>\n",
       "    .dataframe tbody tr th:only-of-type {\n",
       "        vertical-align: middle;\n",
       "    }\n",
       "\n",
       "    .dataframe tbody tr th {\n",
       "        vertical-align: top;\n",
       "    }\n",
       "\n",
       "    .dataframe thead th {\n",
       "        text-align: right;\n",
       "    }\n",
       "</style>\n",
       "<table border=\"1\" class=\"dataframe\">\n",
       "  <thead>\n",
       "    <tr style=\"text-align: right;\">\n",
       "      <th></th>\n",
       "      <th>Query</th>\n",
       "      <th>Engine</th>\n",
       "      <th>Content</th>\n",
       "    </tr>\n",
       "  </thead>\n",
       "  <tbody>\n",
       "    <tr>\n",
       "      <th>0</th>\n",
       "      <td>Vessel caught misreporting catch amount</td>\n",
       "      <td>Google</td>\n",
       "      <td>sea shepherd global wednesday 05 jun 2024 sea ...</td>\n",
       "    </tr>\n",
       "    <tr>\n",
       "      <th>1</th>\n",
       "      <td>Vessel caught misreporting catch amount</td>\n",
       "      <td>Google</td>\n",
       "      <td>move the iuu fight up the food chain  proceedi...</td>\n",
       "    </tr>\n",
       "    <tr>\n",
       "      <th>2</th>\n",
       "      <td>Vessel caught misreporting catch amount</td>\n",
       "      <td>Google</td>\n",
       "      <td>new rules tighten controls on eu today the env...</td>\n",
       "    </tr>\n",
       "    <tr>\n",
       "      <th>3</th>\n",
       "      <td>Vessel caught misreporting catch amount</td>\n",
       "      <td>Google</td>\n",
       "      <td>surprise media being misreporting the source o...</td>\n",
       "    </tr>\n",
       "    <tr>\n",
       "      <th>4</th>\n",
       "      <td>Vessel caught misreporting catch amount</td>\n",
       "      <td>Google</td>\n",
       "      <td>sea shepherd global monday 25 mar 2024 in a de...</td>\n",
       "    </tr>\n",
       "  </tbody>\n",
       "</table>\n",
       "</div>"
      ],
      "text/plain": [
       "                                     Query  Engine  \\\n",
       "0  Vessel caught misreporting catch amount  Google   \n",
       "1  Vessel caught misreporting catch amount  Google   \n",
       "2  Vessel caught misreporting catch amount  Google   \n",
       "3  Vessel caught misreporting catch amount  Google   \n",
       "4  Vessel caught misreporting catch amount  Google   \n",
       "\n",
       "                                             Content  \n",
       "0  sea shepherd global wednesday 05 jun 2024 sea ...  \n",
       "1  move the iuu fight up the food chain  proceedi...  \n",
       "2  new rules tighten controls on eu today the env...  \n",
       "3  surprise media being misreporting the source o...  \n",
       "4  sea shepherd global monday 25 mar 2024 in a de...  "
      ]
     },
     "execution_count": 340,
     "metadata": {},
     "output_type": "execute_result"
    }
   ],
   "source": [
    "new_data.head(5)"
   ]
  },
  {
   "cell_type": "code",
   "execution_count": null,
   "id": "7303828f",
   "metadata": {},
   "outputs": [],
   "source": []
  },
  {
   "cell_type": "code",
   "execution_count": 341,
   "id": "4f02131a",
   "metadata": {
    "scrolled": true
   },
   "outputs": [
    {
     "name": "stdout",
     "output_type": "stream",
     "text": [
      "292\n",
      "292\n"
     ]
    }
   ],
   "source": [
    "classified_data = new_data.copy()\n",
    "\n",
    "data_articles = classified_data['Content'].tolist()\n",
    "vectorizer_data = TfidfVectorizer(vocabulary = feature_names,stop_words='english')\n",
    "tfidf_matrix_data = vectorizer_data.fit_transform(data_articles)\n",
    "\n",
    "tfidf_matrix_dense_data = tfidf_matrix_data.toarray()\n",
    "\n",
    "y = clf.predict(tfidf_matrix_dense_data)\n",
    "#y_pred = clf.predict(X_test)\n",
    "\n",
    "print(len(data_articles))\n",
    "print(len(y))\n",
    "\n",
    "classified_data['Relevance'] = y"
   ]
  },
  {
   "cell_type": "markdown",
   "id": "9c88662f",
   "metadata": {},
   "source": [
    "### Save the classification data to an excel file"
   ]
  },
  {
   "cell_type": "code",
   "execution_count": 344,
   "id": "9b2503ba",
   "metadata": {},
   "outputs": [
    {
     "name": "stdout",
     "output_type": "stream",
     "text": [
      "DataFrame has been saved to output.xlsx\n"
     ]
    }
   ],
   "source": [
    "####### Have to have search_results_articles as a pandas data frame\n",
    "\n",
    "# Save DataFrame to Excel\n",
    "classified_data.to_excel('classified_data.xlsx', index=False)\n",
    "\n",
    "print(\"DataFrame has been saved to output.xlsx\")\n"
   ]
  },
  {
   "cell_type": "code",
   "execution_count": 384,
   "id": "2e34a64e",
   "metadata": {
    "scrolled": false
   },
   "outputs": [
    {
     "name": "stdout",
     "output_type": "stream",
     "text": [
      "0\n"
     ]
    },
    {
     "data": {
      "text/html": [
       "<div>\n",
       "<style scoped>\n",
       "    .dataframe tbody tr th:only-of-type {\n",
       "        vertical-align: middle;\n",
       "    }\n",
       "\n",
       "    .dataframe tbody tr th {\n",
       "        vertical-align: top;\n",
       "    }\n",
       "\n",
       "    .dataframe thead th {\n",
       "        text-align: right;\n",
       "    }\n",
       "</style>\n",
       "<table border=\"1\" class=\"dataframe\">\n",
       "  <thead>\n",
       "    <tr style=\"text-align: right;\">\n",
       "      <th></th>\n",
       "      <th>Query</th>\n",
       "      <th>Engine</th>\n",
       "      <th>Count</th>\n",
       "    </tr>\n",
       "  </thead>\n",
       "  <tbody>\n",
       "    <tr>\n",
       "      <th>0</th>\n",
       "      <td>Vessel caught with inaccurate fish size records</td>\n",
       "      <td>Bing</td>\n",
       "      <td>0</td>\n",
       "    </tr>\n",
       "    <tr>\n",
       "      <th>1</th>\n",
       "      <td>Vessel caught with inaccurate fish size records</td>\n",
       "      <td>Google</td>\n",
       "      <td>1</td>\n",
       "    </tr>\n",
       "    <tr>\n",
       "      <th>2</th>\n",
       "      <td>Vessel caught with unrecorded fish species</td>\n",
       "      <td>Bing</td>\n",
       "      <td>0</td>\n",
       "    </tr>\n",
       "    <tr>\n",
       "      <th>3</th>\n",
       "      <td>Vessel caught with unrecorded fish species</td>\n",
       "      <td>Google</td>\n",
       "      <td>0</td>\n",
       "    </tr>\n",
       "    <tr>\n",
       "      <th>4</th>\n",
       "      <td>Vessel caught bypassing quota system</td>\n",
       "      <td>Bing</td>\n",
       "      <td>0</td>\n",
       "    </tr>\n",
       "    <tr>\n",
       "      <th>5</th>\n",
       "      <td>Vessel caught bypassing quota system</td>\n",
       "      <td>Google</td>\n",
       "      <td>1</td>\n",
       "    </tr>\n",
       "    <tr>\n",
       "      <th>6</th>\n",
       "      <td>Vessel caught with incorrect catch reports</td>\n",
       "      <td>Bing</td>\n",
       "      <td>0</td>\n",
       "    </tr>\n",
       "    <tr>\n",
       "      <th>7</th>\n",
       "      <td>Vessel caught with incorrect catch reports</td>\n",
       "      <td>Google</td>\n",
       "      <td>0</td>\n",
       "    </tr>\n",
       "    <tr>\n",
       "      <th>8</th>\n",
       "      <td>Vessel caught underreporting catch in North At...</td>\n",
       "      <td>Bing</td>\n",
       "      <td>0</td>\n",
       "    </tr>\n",
       "    <tr>\n",
       "      <th>9</th>\n",
       "      <td>Vessel caught underreporting catch in North At...</td>\n",
       "      <td>Google</td>\n",
       "      <td>0</td>\n",
       "    </tr>\n",
       "    <tr>\n",
       "      <th>10</th>\n",
       "      <td>Vessel caught misreporting catch amount</td>\n",
       "      <td>Bing</td>\n",
       "      <td>0</td>\n",
       "    </tr>\n",
       "    <tr>\n",
       "      <th>11</th>\n",
       "      <td>Vessel caught misreporting catch amount</td>\n",
       "      <td>Google</td>\n",
       "      <td>2</td>\n",
       "    </tr>\n",
       "    <tr>\n",
       "      <th>12</th>\n",
       "      <td>Vessel caught falsifying fishing logs</td>\n",
       "      <td>Bing</td>\n",
       "      <td>1</td>\n",
       "    </tr>\n",
       "    <tr>\n",
       "      <th>13</th>\n",
       "      <td>Vessel caught falsifying fishing logs</td>\n",
       "      <td>Google</td>\n",
       "      <td>3</td>\n",
       "    </tr>\n",
       "    <tr>\n",
       "      <th>14</th>\n",
       "      <td>Vessel caught misreporting tuna catch quantities</td>\n",
       "      <td>Bing</td>\n",
       "      <td>1</td>\n",
       "    </tr>\n",
       "    <tr>\n",
       "      <th>15</th>\n",
       "      <td>Vessel caught misreporting tuna catch quantities</td>\n",
       "      <td>Google</td>\n",
       "      <td>0</td>\n",
       "    </tr>\n",
       "    <tr>\n",
       "      <th>16</th>\n",
       "      <td>Vessel caught misreporting haddock catch</td>\n",
       "      <td>Bing</td>\n",
       "      <td>0</td>\n",
       "    </tr>\n",
       "    <tr>\n",
       "      <th>17</th>\n",
       "      <td>Vessel caught misreporting haddock catch</td>\n",
       "      <td>Google</td>\n",
       "      <td>0</td>\n",
       "    </tr>\n",
       "    <tr>\n",
       "      <th>18</th>\n",
       "      <td>Vessel caught underreporting catch near protec...</td>\n",
       "      <td>Bing</td>\n",
       "      <td>0</td>\n",
       "    </tr>\n",
       "    <tr>\n",
       "      <th>19</th>\n",
       "      <td>Vessel caught underreporting catch near protec...</td>\n",
       "      <td>Google</td>\n",
       "      <td>1</td>\n",
       "    </tr>\n",
       "  </tbody>\n",
       "</table>\n",
       "</div>"
      ],
      "text/plain": [
       "                                                Query  Engine  Count\n",
       "0     Vessel caught with inaccurate fish size records    Bing      0\n",
       "1     Vessel caught with inaccurate fish size records  Google      1\n",
       "2          Vessel caught with unrecorded fish species    Bing      0\n",
       "3          Vessel caught with unrecorded fish species  Google      0\n",
       "4                Vessel caught bypassing quota system    Bing      0\n",
       "5                Vessel caught bypassing quota system  Google      1\n",
       "6          Vessel caught with incorrect catch reports    Bing      0\n",
       "7          Vessel caught with incorrect catch reports  Google      0\n",
       "8   Vessel caught underreporting catch in North At...    Bing      0\n",
       "9   Vessel caught underreporting catch in North At...  Google      0\n",
       "10            Vessel caught misreporting catch amount    Bing      0\n",
       "11            Vessel caught misreporting catch amount  Google      2\n",
       "12              Vessel caught falsifying fishing logs    Bing      1\n",
       "13              Vessel caught falsifying fishing logs  Google      3\n",
       "14   Vessel caught misreporting tuna catch quantities    Bing      1\n",
       "15   Vessel caught misreporting tuna catch quantities  Google      0\n",
       "16           Vessel caught misreporting haddock catch    Bing      0\n",
       "17           Vessel caught misreporting haddock catch  Google      0\n",
       "18  Vessel caught underreporting catch near protec...    Bing      0\n",
       "19  Vessel caught underreporting catch near protec...  Google      1"
      ]
     },
     "execution_count": 384,
     "metadata": {},
     "output_type": "execute_result"
    }
   ],
   "source": [
    "import pandas as pd\n",
    "classified_data = pd.read_excel('classified_data.xlsx')\n",
    "classified_data_count = pd.DataFrame(columns = ['Query', 'Engine', 'Count'])\n",
    "print(len(classified_data_count))\n",
    "Queries = set(classified_data['Query'].tolist())\n",
    "\n",
    "\n",
    "\n",
    "for query in Queries:\n",
    "    Google_rel_count = sum(1 for ind, row in classified_data.iterrows() if (row['Query'] == query) and (row['Engine'] == 'Google') and (row['Relevance'] == 'relevant') )\n",
    "    Bing_rel_count = sum(1 for ind, row in classified_data.iterrows() if (row['Query'] == query) and (row['Engine'] == 'Bing') and (row['Relevance'] == 'relevant') )\n",
    "    Yahoo_rel_count = sum(1 for ind, row in classified_data.iterrows() if (row['Query'] == query) and (row['Engine'] == 'Yahoo') and (row['Relevance'] == 'relevant') )\n",
    "    classified_data_count.loc[len(classified_data_count)] = [query, 'Bing', Bing_rel_count]\n",
    "    classified_data_count.loc[len(classified_data_count)] = [query, 'Google', Google_rel_count]\n",
    "    #classified_data_count.loc[len(classified_data_count)] = [query, 'Yahoo', Yahoo_rel_count]\n",
    "    \n",
    "classified_data_count.head(30)\n",
    "\n",
    " "
   ]
  },
  {
   "cell_type": "code",
   "execution_count": 385,
   "id": "ac743e1f",
   "metadata": {},
   "outputs": [
    {
     "data": {
      "image/png": "[encoded data removed]",
      "text/plain": [
       "<Figure size 1000x600 with 1 Axes>"
      ]
     },
     "metadata": {},
     "output_type": "display_data"
    }
   ],
   "source": [
    "import matplotlib.pyplot as plt\n",
    "import seaborn as sns\n",
    "\n",
    "\n",
    "\n",
    "# Generate query names Q1, Q2, ..., Q10\n",
    "query_names = [f'Q{i}' for i in range(1, 11)]  # Adjust range as per your actual number of queries\n",
    "\n",
    "\n",
    "# Group by 'Query' and 'Engine' to count number of articles\n",
    "article_counts = classified_data_count.copy()\n",
    "#article_counts = classified_data_count.groupby(['Query', 'Engine']).size().reset_index(name='Count')\n",
    "#print(article_counts.head(30))\n",
    "\n",
    "# Plotting\n",
    "plt.figure(figsize=(10, 6))\n",
    "ax = sns.barplot(x='Query', y='Count', hue='Engine', data=article_counts)\n",
    "plt.title('Number of Articles reporting incident per Query and Engine')\n",
    "plt.xticks(ticks=range(len(query_names)), labels=query_names)  # Set xticks with query names\n",
    "plt.xlabel('Query')\n",
    "plt.ylabel('Number of Articles')\n",
    "plt.xticks(rotation=45, ha='right')   \n",
    "plt.legend(title='Engine', loc='upper right')\n",
    "\n",
    "for p in ax.patches:\n",
    "    ax.annotate(format(p.get_height(), '.0f'), \n",
    "                (p.get_x() + p.get_width() / 2., p.get_height()), \n",
    "                ha = 'center', va = 'center', \n",
    "                xytext = (0, 9), \n",
    "                textcoords = 'offset points')\n",
    "plt.tight_layout()\n",
    "plt.show()"
   ]
  },
  {
   "cell_type": "code",
   "execution_count": null,
   "id": "4209a8e4",
   "metadata": {},
   "outputs": [],
   "source": []
  },
  {
   "cell_type": "code",
   "execution_count": 382,
   "id": "8960b804",
   "metadata": {},
   "outputs": [
    {
     "name": "stdout",
     "output_type": "stream",
     "text": [
      "0.05194805194805195\n",
      "0.014814814814814815\n"
     ]
    }
   ],
   "source": [
    "G_precision = 8/154\n",
    "B_precision = 2/135\n",
    "\n",
    "print(G_precision)\n",
    "print(B_precision)"
   ]
  },
  {
   "cell_type": "code",
   "execution_count": null,
   "id": "0f1699d8",
   "metadata": {},
   "outputs": [],
   "source": []
  },
  {
   "cell_type": "code",
   "execution_count": null,
   "id": "c4a4f35f",
   "metadata": {},
   "outputs": [],
   "source": []
  },
  {
   "cell_type": "code",
   "execution_count": null,
   "id": "102501e4",
   "metadata": {},
   "outputs": [],
   "source": []
  },
  {
   "cell_type": "code",
   "execution_count": null,
   "id": "1934f41f",
   "metadata": {},
   "outputs": [],
   "source": []
  },
  {
   "cell_type": "code",
   "execution_count": null,
   "id": "eb11c8a3",
   "metadata": {},
   "outputs": [],
   "source": []
  },
  {
   "cell_type": "code",
   "execution_count": null,
   "id": "d3640e33",
   "metadata": {},
   "outputs": [],
   "source": []
  },
  {
   "cell_type": "code",
   "execution_count": null,
   "id": "54c4fba2",
   "metadata": {},
   "outputs": [],
   "source": []
  },
  {
   "cell_type": "code",
   "execution_count": null,
   "id": "cb39c36d",
   "metadata": {},
   "outputs": [],
   "source": []
  },
  {
   "cell_type": "code",
   "execution_count": null,
   "id": "d7203ebf",
   "metadata": {},
   "outputs": [],
   "source": []
  },
  {
   "cell_type": "code",
   "execution_count": null,
   "id": "5cf64339",
   "metadata": {},
   "outputs": [],
   "source": []
  },
  {
   "cell_type": "code",
   "execution_count": null,
   "id": "1216a721",
   "metadata": {},
   "outputs": [],
   "source": []
  },
  {
   "cell_type": "code",
   "execution_count": null,
   "id": "8d8f18ba",
   "metadata": {},
   "outputs": [],
   "source": []
  },
  {
   "cell_type": "code",
   "execution_count": null,
   "id": "0b34d7e7",
   "metadata": {},
   "outputs": [],
   "source": []
  }
 ],
 "metadata": {
  "kernelspec": {
   "display_name": "Python 3 (ipykernel)",
   "language": "python",
   "name": "python3"
  },
  "language_info": {
   "codemirror_mode": {
    "name": "ipython",
    "version": 3
   },
   "file_extension": ".py",
   "mimetype": "text/x-python",
   "name": "python",
   "nbconvert_exporter": "python",
   "pygments_lexer": "ipython3",
   "version": "3.11.7"
  }
 },
 "nbformat": 4,
 "nbformat_minor": 5
}
