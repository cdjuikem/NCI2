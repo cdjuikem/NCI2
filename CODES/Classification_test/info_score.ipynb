{
 "cells": [
  {
   "cell_type": "code",
   "execution_count": 1,
   "id": "1ead81e0",
   "metadata": {},
   "outputs": [],
   "source": [
    "from functions import *"
   ]
  },
  {
   "cell_type": "code",
   "execution_count": 4,
   "id": "280285fb",
   "metadata": {},
   "outputs": [
    {
     "name": "stdout",
     "output_type": "stream",
     "text": [
      "there are 8 articles in relevant_articles.\n",
      "there are 8 articles in irrelevant_articles.\n"
     ]
    }
   ],
   "source": [
    "# get pre-scraped text data\n",
    "# evaluate information score only on relative articles\n",
    "\n",
    "with open('rel_articles.txt', 'r') as file:\n",
    "    data_code = file.read()\n",
    "\n",
    "exec(data_code)  # Just to verify the content read\n"
   ]
  },
  {
   "cell_type": "code",
   "execution_count": 6,
   "id": "0d981aad",
   "metadata": {
    "scrolled": true
   },
   "outputs": [
    {
     "name": "stdout",
     "output_type": "stream",
     "text": [
      "2\n",
      "2\n",
      "2\n",
      "2\n",
      "2\n",
      "2\n",
      "2\n",
      "2\n"
     ]
    }
   ],
   "source": [
    "for article in relevant_articles:\n",
    "    print(info_score(article))\n",
    "    \n",
    "# IMO MMSI Names (people/location)"
   ]
  },
  {
   "cell_type": "markdown",
   "id": "fbdf8106",
   "metadata": {},
   "source": [
    "#### Thought: For a search engine, it might be a good idea to add the information score for all relevant articles from the search.\n",
    "\n",
    "#### Challenge: It is extremely rare an article directly contains IMO number or MMSI number. We need some more types of information to check!"
   ]
  },
  {
   "cell_type": "code",
   "execution_count": 29,
   "id": "96466218",
   "metadata": {},
   "outputs": [],
   "source": [
    "########################################################\n",
    "#### find_imo: Find IMO (7-digit numbers)\n",
    "\n",
    "def find_imo(content):    \n",
    "    # regular expression for a 7-digit number (exactly 7-digit)\n",
    "    imo_pattern = r'\\b\\d{7}\\b'\n",
    "    \n",
    "    # find all 7-digit numbers in the content \n",
    "    imo_list = re.findall(imo_pattern, content)\n",
    "    \n",
    "    return imo_list\n",
    "\n",
    "########################################################\n",
    "#### find_mmsi: Find MMSI (9-digit numbers)\n",
    "\n",
    "def find_mmsi(content):    \n",
    "    # regular expression for a 9-digit number (exactly 9-digit)\n",
    "    mmsi_pattern = r'\\b\\d{9}\\b'\n",
    "    \n",
    "    # find all 9-digit numbers in the content \n",
    "    mmsi_list = re.findall(mmsi_pattern, content)\n",
    "    \n",
    "    return mmsi_list\n",
    "\n",
    "########################################################\n",
    "#### find names (company, people, etc)\n",
    "# These functions require spaCy\n",
    "########################################################\n",
    "\n",
    "import spacy\n",
    "\n",
    "########################################################\n",
    "# people's names\n",
    "def find_people(text):\n",
    "    nlp = spacy.load('en_core_web_sm')\n",
    "    doc = nlp(text)\n",
    "    names = []\n",
    "\n",
    "    for ent in doc.ents:\n",
    "        if ent.label_ in ['PERSON']: # NORP is about nationality/religious/political group\n",
    "            names.append(ent.text)\n",
    "    return names\n",
    "\n",
    "########################################################\n",
    "# company's names\n",
    "def find_company(text):\n",
    "    nlp = spacy.load('en_core_web_sm')\n",
    "    doc = nlp(text)\n",
    "    names = []\n",
    "\n",
    "    for ent in doc.ents:\n",
    "        if ent.label_ in ['ORG']: # NORP is about nationality/religious/political group\n",
    "            names.append(ent.text)\n",
    "    return names\n",
    "\n",
    "\n",
    "########################################################\n",
    "# country's name / location\n",
    "def find_location(text):\n",
    "    nlp = spacy.load('en_core_web_sm')\n",
    "    doc = nlp(text)\n",
    "    locations = []\n",
    "\n",
    "    for ent in doc.ents:\n",
    "        if ent.label_ in ['LOC', 'GPE', 'NORP']: # location labels\n",
    "            locations.append(ent.text)\n",
    "    return locations\n",
    "\n",
    "\n",
    "########################################################\n",
    "# fishing species\n",
    "\n",
    "\n",
    "########################################################\n",
    "# GRT\n",
    "\n",
    "\n",
    "########################################################\n",
    "# Information score\n",
    "def weighted_info_score(text):\n",
    "    #give weigths to each information:\n",
    "    # IMO: 2\n",
    "    # MMSI: 2\n",
    "    # Involved parties or location: 1\n",
    "    # The score will be out of 10\n",
    "    score_list = [find_imo, find_mmsi, find_people, find_company, find_location]\n",
    "    weight_vector = np.array([2, 2, 1, 1, 1])\n",
    "    score = []\n",
    "    for item in score_list:\n",
    "        if len(item(text)) > 0:\n",
    "            score.append(1)\n",
    "        else:\n",
    "            score.append(0)\n",
    "    score = np.array(score)\n",
    "    weighted_score = score * weight_vector\n",
    "    #np.dot(score,weight_vector)\n",
    "\n",
    "    return weighted_score\n",
    "\n"
   ]
  },
  {
   "cell_type": "code",
   "execution_count": 30,
   "id": "075238d2",
   "metadata": {},
   "outputs": [
    {
     "data": {
      "text/plain": [
       "array([2, 0, 1, 1, 1])"
      ]
     },
     "execution_count": 30,
     "metadata": {},
     "output_type": "execute_result"
    }
   ],
   "source": [
    "import numpy as np\n",
    "\n",
    "text=  \"\"\"\n",
    "Hi here are some numbers 391923, 1341231, 35234123, 1412312, 3123. We are in Canada. Calgary is a big city. I have never been to Winnipeg. We have four awesome people in our group.\n",
    "Sogol has been helped us as a mentor. I'm Sumin. My teammates are Clotilde, Irushi, and Hiva.\n",
    "NCIS is the company! Apple has been launched a new phone. What about Fishing Corp.?\n",
    "\"\"\"\n",
    "\n",
    "\n",
    "weighted_info_score(text)"
   ]
  },
  {
   "cell_type": "code",
   "execution_count": null,
   "id": "f44b21cf",
   "metadata": {},
   "outputs": [],
   "source": []
  }
 ],
 "metadata": {
  "kernelspec": {
   "display_name": "Python 3 (ipykernel)",
   "language": "python",
   "name": "python3"
  },
  "language_info": {
   "codemirror_mode": {
    "name": "ipython",
    "version": 3
   },
   "file_extension": ".py",
   "mimetype": "text/x-python",
   "name": "python",
   "nbconvert_exporter": "python",
   "pygments_lexer": "ipython3",
   "version": "3.11.7"
  }
 },
 "nbformat": 4,
 "nbformat_minor": 5
}
