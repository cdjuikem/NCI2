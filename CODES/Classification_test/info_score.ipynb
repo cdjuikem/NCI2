{
 "cells": [
  {
   "cell_type": "code",
   "execution_count": 1,
   "id": "1ead81e0",
   "metadata": {},
   "outputs": [],
   "source": [
    "from functions import *"
   ]
  },
  {
   "cell_type": "code",
   "execution_count": 4,
   "id": "280285fb",
   "metadata": {},
   "outputs": [
    {
     "name": "stdout",
     "output_type": "stream",
     "text": [
      "there are 8 articles in relevant_articles.\n",
      "there are 8 articles in irrelevant_articles.\n"
     ]
    }
   ],
   "source": [
    "# get pre-scraped text data\n",
    "# evaluate information score only on relative articles\n",
    "\n",
    "with open('rel_articles.txt', 'r') as file:\n",
    "    data_code = file.read()\n",
    "\n",
    "exec(data_code)  # Just to verify the content read\n"
   ]
  },
  {
   "cell_type": "code",
   "execution_count": 6,
   "id": "0d981aad",
   "metadata": {
    "scrolled": true
   },
   "outputs": [
    {
     "name": "stdout",
     "output_type": "stream",
     "text": [
      "2\n",
      "2\n",
      "2\n",
      "2\n",
      "2\n",
      "2\n",
      "2\n",
      "2\n"
     ]
    }
   ],
   "source": [
    "for article in relevant_articles:\n",
    "    print(info_score(article))\n",
    "    \n",
    "# IMO MMSI Names (people/location)"
   ]
  },
  {
   "cell_type": "markdown",
   "id": "fbdf8106",
   "metadata": {},
   "source": [
    "#### Thought: For a search engine, it might be a good idea to add the information score for all relevant articles from the search.\n",
    "\n",
    "#### Challenge: It is extremely rare an article directly contains IMO number or MMSI number. We need some more types of information to check!"
   ]
  },
  {
   "cell_type": "code",
   "execution_count": null,
   "id": "96466218",
   "metadata": {},
   "outputs": [],
   "source": []
  }
 ],
 "metadata": {
  "kernelspec": {
   "display_name": "Python 3 (ipykernel)",
   "language": "python",
   "name": "python3"
  },
  "language_info": {
   "codemirror_mode": {
    "name": "ipython",
    "version": 3
   },
   "file_extension": ".py",
   "mimetype": "text/x-python",
   "name": "python",
   "nbconvert_exporter": "python",
   "pygments_lexer": "ipython3",
   "version": "3.11.7"
  }
 },
 "nbformat": 4,
 "nbformat_minor": 5
}
