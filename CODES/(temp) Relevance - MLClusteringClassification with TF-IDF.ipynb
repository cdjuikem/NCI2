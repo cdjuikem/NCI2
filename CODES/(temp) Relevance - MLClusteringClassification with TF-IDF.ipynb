{
 "cells": [
  {
   "cell_type": "markdown",
   "id": "c6dc4d9e",
   "metadata": {},
   "source": [
    "### Necessary scrap functions"
   ]
  },
  {
   "cell_type": "code",
   "execution_count": 3,
   "id": "9d5b3e29",
   "metadata": {},
   "outputs": [],
   "source": [
    "#importing all functions in functions.py\n",
    "from functions import *\n"
   ]
  },
  {
   "cell_type": "markdown",
   "id": "e47a3762",
   "metadata": {},
   "source": [
    "### Read preselected articles"
   ]
  },
  {
   "cell_type": "code",
   "execution_count": 4,
   "id": "55db1e34",
   "metadata": {},
   "outputs": [],
   "source": [
    "import pandas as pd\n",
    "\n",
    "# read the excel file\n",
    "url_data = pd.read_excel('sample_url.xlsx')\n",
    "\n",
    "\n",
    "relevant_list = []\n",
    "irrelevant_list = []\n",
    "for index, row in url_data.iterrows():\n",
    "    if row['relevance'] == 1:\n",
    "        relevant_list.append(row['url'])\n",
    "    else:\n",
    "        irrelevant_list.append(row['url'])    "
   ]
  },
  {
   "cell_type": "markdown",
   "id": "fb082951",
   "metadata": {},
   "source": [
    "### List of related terminologies"
   ]
  },
  {
   "cell_type": "code",
   "execution_count": null,
   "id": "64aa33e8",
   "metadata": {},
   "outputs": [],
   "source": []
  },
  {
   "cell_type": "markdown",
   "id": "a733921f",
   "metadata": {},
   "source": [
    "### Can we "
   ]
  },
  {
   "cell_type": "code",
   "execution_count": null,
   "id": "18ae479c",
   "metadata": {},
   "outputs": [],
   "source": []
  },
  {
   "cell_type": "code",
   "execution_count": null,
   "id": "71dffff0",
   "metadata": {},
   "outputs": [],
   "source": []
  },
  {
   "cell_type": "code",
   "execution_count": null,
   "id": "e5488f49",
   "metadata": {},
   "outputs": [],
   "source": []
  },
  {
   "cell_type": "code",
   "execution_count": null,
   "id": "bb399ee0",
   "metadata": {},
   "outputs": [],
   "source": []
  },
  {
   "cell_type": "code",
   "execution_count": null,
   "id": "2fcafe1c",
   "metadata": {},
   "outputs": [],
   "source": []
  },
  {
   "cell_type": "code",
   "execution_count": null,
   "id": "66350a53",
   "metadata": {},
   "outputs": [],
   "source": []
  },
  {
   "cell_type": "markdown",
   "id": "1974b35c",
   "metadata": {},
   "source": [
    "#### What we want to do:\n",
    "We want to train a model with the preselected articles so we can evaluate the level of information of a new article. For evaluation, we want information:\n",
    "\n",
    "* What was the violation\n",
    "    - What kind of fish\n",
    "    - misreported / underreported\n",
    "* Where the incident happend\n",
    "* When the incident happend\n",
    "* Names of people involved\n",
    "* Type of vessels involved\n",
    "* \n",
    "* \n",
    "* (anything else?)\n",
    "\n",
    "I'll start with the first three.\n",
    "\n",
    "* How can a model answer this question?\n",
    "* How should we score each question?"
   ]
  },
  {
   "cell_type": "markdown",
   "id": "4ed1f27e",
   "metadata": {},
   "source": [
    "#### What we want to do is to evaluate how much information the article have"
   ]
  },
  {
   "cell_type": "markdown",
   "id": "360bd160",
   "metadata": {},
   "source": [
    "### NLTK sample (To extract the information we want)"
   ]
  },
  {
   "cell_type": "code",
   "execution_count": 24,
   "id": "9653b5f1",
   "metadata": {
    "scrolled": true
   },
   "outputs": [
    {
     "name": "stdout",
     "output_type": "stream",
     "text": [
      "['Do', 'you', 'know', 'where', 'a', 'fisherman', 'misreported', 'the', 'amount', 'of', 'salmon', 'catch', '?', 'I', 'want', 'to', 'know', 'about', 'where', ',', 'who', ',', 'how', ',', 'why', ',', 'what', '..']\n",
      "[('Do', 'VB'), ('you', 'PRP'), ('know', 'VB'), ('where', 'WRB'), ('a', 'DT'), ('fisherman', 'NN'), ('misreported', 'VBD'), ('the', 'DT'), ('amount', 'NN'), ('of', 'IN'), ('salmon', 'NN'), ('catch', 'NN'), ('?', '.'), ('I', 'PRP'), ('want', 'VBP'), ('to', 'TO'), ('know', 'VB'), ('about', 'IN'), ('where', 'WRB'), (',', ','), ('who', 'WP'), (',', ','), ('how', 'WRB'), (',', ','), ('why', 'WRB'), (',', ','), ('what', 'WP'), ('..', 'VBD')]\n",
      "(S\n",
      "  Do/VB\n",
      "  you/PRP\n",
      "  know/VB\n",
      "  where/WRB\n",
      "  a/DT\n",
      "  fisherman/NN\n",
      "  misreported/VBD\n",
      "  the/DT\n",
      "  amount/NN\n",
      "  of/IN\n",
      "  salmon/NN\n",
      "  catch/NN\n",
      "  ?/.\n",
      "  I/PRP\n",
      "  want/VBP\n",
      "  to/TO\n",
      "  know/VB\n",
      "  about/IN\n",
      "  where/WRB\n",
      "  ,/,\n",
      "  who/WP\n",
      "  ,/,\n",
      "  how/WRB\n",
      "  ,/,\n",
      "  why/WRB\n",
      "  ,/,\n",
      "  what/WP\n",
      "  ../VBD)\n"
     ]
    }
   ],
   "source": [
    "import nltk\n",
    "from nltk.tokenize import word_tokenize\n",
    "from nltk.tag import pos_tag\n",
    "from nltk.chunk import ne_chunk\n",
    "\n",
    "# Download NLTK resources (if not already downloaded)\n",
    "#nltk.download('all')\n",
    "\n",
    "\n",
    "# Sample text\n",
    "text = \"Do you know where a fisherman misreported the amount of salmon catch? I want to know about where, who, how, why, what..\"\n",
    "\n",
    "# Tokenize the text\n",
    "tokens = word_tokenize(text)\n",
    "print(tokens)\n",
    "# Perform POS tagging\n",
    "pos_tags = pos_tag(tokens)\n",
    "print(pos_tags)\n",
    "\n",
    "# Perform NER using ne_chunk\n",
    "ner_tags = ne_chunk(pos_tags)\n",
    "print(ner_tags)\n",
    "# Extract named entities and their labels\n",
    "named_entities = []\n",
    "for chunk in ner_tags:\n",
    "    if hasattr(chunk, 'label'):\n",
    "        print(chunk.label())\n",
    "        print(\"chunk is :\", chunk)\n",
    "        named_entities.append((chunk.label(), ' '.join(c[0] for c in chunk)))\n",
    "\n",
    "# Print named entities and their labels\n",
    "for entity in named_entities:\n",
    "    print(entity)\n"
   ]
  },
  {
   "cell_type": "code",
   "execution_count": null,
   "id": "d76e00b9",
   "metadata": {},
   "outputs": [],
   "source": []
  }
 ],
 "metadata": {
  "kernelspec": {
   "display_name": "Python 3 (ipykernel)",
   "language": "python",
   "name": "python3"
  },
  "language_info": {
   "codemirror_mode": {
    "name": "ipython",
    "version": 3
   },
   "file_extension": ".py",
   "mimetype": "text/x-python",
   "name": "python",
   "nbconvert_exporter": "python",
   "pygments_lexer": "ipython3",
   "version": "3.11.7"
  }
 },
 "nbformat": 4,
 "nbformat_minor": 5
}
