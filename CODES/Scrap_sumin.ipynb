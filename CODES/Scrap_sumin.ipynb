{
 "cells": [
  {
   "cell_type": "markdown",
   "id": "a0a84bf1",
   "metadata": {},
   "source": [
    "### Import necessary libraries"
   ]
  },
  {
   "cell_type": "code",
   "execution_count": 10,
   "id": "2f13329c",
   "metadata": {},
   "outputs": [],
   "source": [
    "from bs4 import BeautifulSoup\n",
    "import requests\n",
    "import re"
   ]
  },
  {
   "cell_type": "markdown",
   "id": "ef12a389",
   "metadata": {},
   "source": [
    "###  Set url to scrap"
   ]
  },
  {
   "cell_type": "code",
   "execution_count": 11,
   "id": "2aa16567",
   "metadata": {},
   "outputs": [],
   "source": [
    "url = requests.get('https://cimsec.org/lead-the-fight-against-climate-change-and-transnational-crime-in-the-indian-ocean/')\n",
    "soup = BeautifulSoup(url.text, \"html.parser\")"
   ]
  },
  {
   "cell_type": "markdown",
   "id": "02544f30",
   "metadata": {},
   "source": [
    "### Scrap the content and data preprocessing"
   ]
  },
  {
   "cell_type": "code",
   "execution_count": 14,
   "id": "f4a2952e",
   "metadata": {},
   "outputs": [
    {
     "name": "stdout",
     "output_type": "stream",
     "text": [
      "['notes', 'to', 'the', 'new', 'cno', 'series', 'by', 'commander', 'amila', 'prasanga', 'sri', 'lankan', 'navy', 'there', 'are', 'vital', 'indian', 'ocean', 'insights', 'regarding', 'island', 'states', 'strategic', 'vulnerabilities', 'related', 'to', 'transnational', 'crime', 'caused', 'by', 'climate', 'change', 'and', 'the', 'usefulness', 'of', 'us', 'naval', 'operations', 'that', 'merit', 'the', 'next', 'cnos', 'chief', 'of', 'naval', 'operations', 'attention', 'these', 'insights', 'align', 'with', 'the', 'commitment', 'to', 'ensuring', 'the', 'us', 'navy', 'remains', 'the', 'preeminent', 'global', 'fighting', 'force', 'and', 'a', 'trusted', 'defender', 'of', 'rulesbased', 'order', 'island', 'states', 'in', 'the', 'indian', 'ocean', 'region', 'face', 'unique', 'geopolitical', 'and', 'environmental', 'challenges', 'their', 'limited', 'landmass', 'vulnerability', 'to', 'rising', 'sea', 'levels', 'and', 'dependence', 'on', 'maritime', 'resources', 'create', 'a', 'delicate', 'equilibrium', 'that', 'can', 'be', 'disrupted', 'by', 'climate', 'change', 'it', 'is', 'essential', 'to', 'recognize', 'that', 'these', 'states', 'often', 'find', 'themselves', 'in', 'the', 'crosshairs', 'of', 'great', 'power', 'competition', 'making', 'them', 'susceptible', 'to', 'both', 'geopolitical', 'pressures', 'and', 'environmental', 'threats', 'understanding', 'their', 'circumstances', 'and', 'forging', 'partnerships', 'based', 'on', 'mutual', 'interests', 'and', 'security', 'is', 'crucial', 'climate', 'change', 'is', 'transforming', 'the', 'security', 'landscape', 'in', 'the', 'indian', 'ocean', 'it', 'is', 'having', 'a', 'profound', 'impact', 'in', 'fomenting', 'transnational', 'maritime', 'crimes', 'particularly', 'illegal', 'fishing', 'human', 'smuggling', 'drug', 'trafficking', 'and', 'piracy', 'island', 'states', 'are', 'specifically', 'vulnerable', 'to', 'these', 'crimes', 'which', 'often', 'exploit', 'their', 'maritime', 'boundaries', 'and', 'limited', 'capacity', 'recognizing', 'these', 'strategic', 'vulnerabilities', 'and', 'their', 'potential', 'to', 'destabilize', 'the', 'region', 'is', 'paramount', 'the', 'us', 'navys', 'enduring', 'commitment', 'to', 'maintaining', 'rulesbased', 'order', 'is', 'commendable', 'in', 'the', 'context', 'of', 'the', 'indian', 'ocean', 'and', 'its', 'challenges', 'it', 'is', 'imperative', 'to', 'adapt', 'us', 'naval', 'operations', 'to', 'address', 'transnational', 'threats', 'driven', 'by', 'climate', 'change', 'this', 'includes', 'enhancing', 'maritime', 'domain', 'awareness', 'fostering', 'regional', 'cooperation', 'and', 'developing', 'capabilities', 'for', 'humanitarian', 'assistance', 'and', 'disaster', 'relief', 'hadr', 'operations', 'additionally', 'considering', 'the', 'dynamic', 'nature', 'of', 'these', 'challenges', 'agility', 'and', 'innovation', 'must', 'be', 'integral', 'to', 'us', 'navy', 'readiness', 'the', 'us', 'navys', 'global', 'reach', 'extends', 'to', 'the', 'indian', 'ocean', 'where', 'it', 'operates', 'alongside', 'allies', 'and', 'partners', 'strengthening', 'these', 'relationships', 'is', 'essential', 'to', 'ensuring', 'regional', 'stability', 'collaborating', 'with', 'regional', 'maritime', 'forces', 'international', 'organizations', 'and', 'island', 'states', 'can', 'bolster', 'the', 'us', 'navys', 'collective', 'ability', 'to', 'address', 'security', 'challenges', 'arising', 'from', 'climate', 'change', 'as', 'the', 'next', 'cno', 'leads', 'us', 'naval', 'operations', 'into', 'this', 'decisive', 'decade', 'i', 'request', 'that', 'they', 'closely', 'consider', 'the', 'intricate', 'web', 'of', 'challenges', 'and', 'opportunities', 'presented', 'by', 'the', 'indian', 'ocean', 'region', 'it', 'is', 'a', 'space', 'where', 'us', 'naval', 'power', 'can', 'make', 'a', 'significant', 'difference', 'not', 'only', 'in', 'terms', 'of', 'security', 'but', 'also', 'in', 'fostering', 'stability', 'prosperity', 'and', 'resilience', 'among', 'island', 'states', 'by', 'acknowledging', 'these', 'complexities', 'and', 'acting', 'with', 'foresight', 'the', 'us', 'navy', 'can', 'continue', 'to', 'be', 'the', 'worlds', 'most', 'powerful', 'force', 'securing', 'us', 'interests', 'and', 'promoting', 'peace', 'across', 'the', 'seas', 'commander', 'amila', 'prasanga', 'is', 'military', 'research', 'officer', 'at', 'the', 'institute', 'of', 'national', 'security', 'studies', 'the', 'premier', 'sri', 'lankan', 'think', 'tank', 'on', 'national', 'security', 'established', 'and', 'functioning', 'under', 'the', 'sri', 'lankan', 'ministry', 'of', 'defence', 'the', 'opinions', 'expressed', 'are', 'his', 'own', 'and', 'are', 'not', 'necessarily', 'reflective', 'of', 'the', 'views', 'of', 'the', 'institute', 'or', 'the', 'ministry', 'of', 'defence', 'featured', 'image', 'aerial', 'photo', 'taken', 'on', 'may', '5', '2021', 'shows', 'the', 'colombo', 'port', 'city', 'in', 'colombo', 'sri', 'lanka', 'photo', 'via', 'xinhua']\n"
     ]
    }
   ],
   "source": [
    "def clean_text(text):\n",
    "    # Text to lowercase\n",
    "    text = text.lower()\n",
    "    # Remove special characters using regular expression\n",
    "    cleaned_text = re.sub(r'[^a-zA-Z0-9\\s]', '', text)\n",
    "    return cleaned_text\n",
    "\n",
    "def text_to_word(soup):\n",
    "    # this can be different for each link, because sites may use different html structure/classes\n",
    "    content = soup.find_all(\"div\", class_ = 'entry-content')\n",
    "    text_wordlist = []\n",
    "    for paragraph in content:\n",
    "        text = paragraph.get_text(separator='\\n')\n",
    "        text = clean_text(text)\n",
    "#        print(text.find('island states'))\n",
    "        text_wordlist += text.split()\n",
    "    return text_wordlist\n",
    "\n",
    "text_wordlist = text_to_word(soup)\n",
    "\n",
    "print(text_wordlist)"
   ]
  },
  {
   "cell_type": "markdown",
   "id": "218ce708",
   "metadata": {},
   "source": [
    "### Count the frequency of each word appeared in the text"
   ]
  },
  {
   "cell_type": "code",
   "execution_count": 15,
   "id": "49d387bf",
   "metadata": {},
   "outputs": [],
   "source": [
    "from collections import Counter\n",
    "word_count = Counter(text_wordlist)"
   ]
  },
  {
   "cell_type": "markdown",
   "id": "81113836",
   "metadata": {},
   "source": [
    "### Using pandas to form a dataframe"
   ]
  },
  {
   "cell_type": "code",
   "execution_count": 16,
   "id": "f9dd96f7",
   "metadata": {},
   "outputs": [],
   "source": [
    "import pandas as pd"
   ]
  },
  {
   "cell_type": "code",
   "execution_count": 17,
   "id": "a8317009",
   "metadata": {},
   "outputs": [
    {
     "data": {
      "text/html": [
       "<div>\n",
       "<style scoped>\n",
       "    .dataframe tbody tr th:only-of-type {\n",
       "        vertical-align: middle;\n",
       "    }\n",
       "\n",
       "    .dataframe tbody tr th {\n",
       "        vertical-align: top;\n",
       "    }\n",
       "\n",
       "    .dataframe thead th {\n",
       "        text-align: right;\n",
       "    }\n",
       "</style>\n",
       "<table border=\"1\" class=\"dataframe\">\n",
       "  <thead>\n",
       "    <tr style=\"text-align: right;\">\n",
       "      <th></th>\n",
       "      <th>word</th>\n",
       "      <th>count</th>\n",
       "    </tr>\n",
       "  </thead>\n",
       "  <tbody>\n",
       "    <tr>\n",
       "      <th>0</th>\n",
       "      <td>notes</td>\n",
       "      <td>1</td>\n",
       "    </tr>\n",
       "    <tr>\n",
       "      <th>1</th>\n",
       "      <td>to</td>\n",
       "      <td>16</td>\n",
       "    </tr>\n",
       "    <tr>\n",
       "      <th>2</th>\n",
       "      <td>the</td>\n",
       "      <td>32</td>\n",
       "    </tr>\n",
       "    <tr>\n",
       "      <th>3</th>\n",
       "      <td>new</td>\n",
       "      <td>1</td>\n",
       "    </tr>\n",
       "    <tr>\n",
       "      <th>4</th>\n",
       "      <td>cno</td>\n",
       "      <td>2</td>\n",
       "    </tr>\n",
       "  </tbody>\n",
       "</table>\n",
       "</div>"
      ],
      "text/plain": [
       "    word  count\n",
       "0  notes      1\n",
       "1     to     16\n",
       "2    the     32\n",
       "3    new      1\n",
       "4    cno      2"
      ]
     },
     "execution_count": 17,
     "metadata": {},
     "output_type": "execute_result"
    }
   ],
   "source": [
    "df = pd.DataFrame(word_count.items(), columns = ['word', 'count'])\n",
    "\n",
    "df.head()"
   ]
  },
  {
   "cell_type": "markdown",
   "id": "d437c313",
   "metadata": {},
   "source": [
    "####\n",
    "#### I searched for \"fish crime\", \"ocean crime\", \"fish crime ship\", etc on Google. \n",
    "#### Sometimes, the results contain some irrelevant articles such as \"stolen fish from restaurants\".\n",
    "#### My first thought on an algorithm detecting relevant information is to use the naive Bayes model like a spam-email detector.\n",
    "####\n",
    "#### A technical question: Can we automatically collect the top 20 results from a search engine, instead of doing it one-by-one like my code?\n",
    "#### If we can do, that can save us a lot of time!\n",
    "####\n"
   ]
  },
  {
   "cell_type": "code",
   "execution_count": null,
   "id": "cb0434b5",
   "metadata": {},
   "outputs": [],
   "source": [
    "# For the sesarch engines...Here are some examples just to start with:\n",
    "\n",
    "# Google News: https://news.google.com/home?hl=en-CA&gl=CA&ceid=CA:en\n",
    "# Yahoo News: https://ca.news.yahoo.com/\n",
    "\n",
    "#### North America\n",
    "# Global News: https://globalnews.ca/\n",
    "# CNN: https://www.cnn.com/\n",
    "# CBC News: https://www.cbc.ca/news\n",
    "# NBC News: https://www.nbcnews.com/\n",
    "# Maritime Crimes: https://maritimescrimes.com/\n",
    "\n",
    "#### Europe\n",
    "# BBC News: https://www.bbc.com/news\n",
    "\n",
    "#### South Korea (These were easy to find, just because I'm Korean haha)\n",
    "# Korea Herald: https://www.koreaherald.com/\n",
    "# Korea Times: https://www.koreatimes.co.kr/"
   ]
  },
  {
   "cell_type": "code",
   "execution_count": null,
   "id": "5f56906f",
   "metadata": {},
   "outputs": [],
   "source": []
  }
 ],
 "metadata": {
  "kernelspec": {
   "display_name": "Python 3 (ipykernel)",
   "language": "python",
   "name": "python3"
  },
  "language_info": {
   "codemirror_mode": {
    "name": "ipython",
    "version": 3
   },
   "file_extension": ".py",
   "mimetype": "text/x-python",
   "name": "python",
   "nbconvert_exporter": "python",
   "pygments_lexer": "ipython3",
   "version": "3.11.7"
  }
 },
 "nbformat": 4,
 "nbformat_minor": 5
}
