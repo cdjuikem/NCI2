{
 "cells": [
  {
   "cell_type": "markdown",
   "id": "0d038e90",
   "metadata": {},
   "source": [
    "## Scraping"
   ]
  },
  {
   "cell_type": "code",
   "execution_count": 2,
   "id": "df9482b8",
   "metadata": {},
   "outputs": [],
   "source": [
    "import requests\n",
    "from bs4 import BeautifulSoup\n",
    "\n",
    "url = 'https://www.tsb.gc.ca/eng/stats/marine/2021/ssem-ssmo-2021.html'  # Replace with actual search engine URL\n",
    "\n",
    "response = requests.get(url)"
   ]
  },
  {
   "cell_type": "code",
   "execution_count": 3,
   "id": "34204b8e",
   "metadata": {},
   "outputs": [
    {
     "data": {
      "text/plain": [
       "<Response [200]>"
      ]
     },
     "execution_count": 3,
     "metadata": {},
     "output_type": "execute_result"
    }
   ],
   "source": [
    "response"
   ]
  },
  {
   "cell_type": "markdown",
   "id": "013fc983",
   "metadata": {},
   "source": [
    "## Search Engine Prompts for \"Underreporting/Misreporting of Catch\"\n",
    "\n",
    "1. \"underreporting catch maritime incidents\"\n",
    "2. \"misreporting catch incidents at sea\"\n",
    "3. \"cases of underreporting catch in the maritime industry\"\n",
    "4. \"catch reporting issues in fishing\"\n",
    "5. \"scandals of misreporting catch in the maritime industry\"\n",
    "6. \"investigations into underreporting catch\"\n"
   ]
  },
  {
   "cell_type": "code",
   "execution_count": 10,
   "id": "60619939",
   "metadata": {},
   "outputs": [
    {
     "name": "stdout",
     "output_type": "stream",
     "text": [
      "Quality of search results: Low\n"
     ]
    }
   ],
   "source": [
    "import requests\n",
    "from bs4 import BeautifulSoup\n",
    "\n",
    "# Function to scrape search engine results for a given query\n",
    "def scrape_search_results(query):\n",
    "    url = f\"https://www.seashepherdglobal.org/latest-news/combat-iuu-fishing/?q={query}\"  # Replace with actual search engine URL\n",
    "    response = requests.get(url)\n",
    "    \n",
    "    if response.status_code == 200:\n",
    "        soup = BeautifulSoup(response.content, 'html.parser')\n",
    "        results = soup.find_all('div', class_='Vessel caught misreporting catch amount')  # Replace with actual class name for search results\n",
    "        return [result.text for result in results]\n",
    "    else:\n",
    "        print(\"Failed to retrieve search results.\")\n",
    "        return []\n",
    "\n",
    "# Function to evaluate the quality of search results\n",
    "def evaluate_search_results(results):\n",
    "    # Placeholder evaluation logic\n",
    "    if len(results) > 0:\n",
    "        return \"High\"\n",
    "    else:\n",
    "        return \"Low\"\n",
    "\n",
    "# Main function\n",
    "def main():\n",
    "    query = \"crime\"  # Assigned topic\n",
    "    search_results = scrape_search_results(query)\n",
    "    quality_indicator = evaluate_search_results(search_results)\n",
    "    \n",
    "    print(f\"Quality of search results: {quality_indicator}\")\n",
    "\n",
    "if __name__ == \"__main__\":\n",
    "    main()\n"
   ]
  },
  {
   "cell_type": "code",
   "execution_count": 8,
   "id": "57bcee2b",
   "metadata": {},
   "outputs": [],
   "source": [
    "import requests\n",
    "from bs4 import BeautifulSoup\n",
    "\n",
    "def scrape_bing_results(query):\n",
    "    url = f\"https://www.bing.com/search?q={query}\"\n",
    "    headers = {\n",
    "        'User-Agent': 'Mozilla/5.0 (Windows NT 10.0; Win64; x64) AppleWebKit/537.36 (KHTML, like Gecko) Chrome/91.0.4472.124 Safari/537.36'\n",
    "    }  # Ajoutez un en-tête User-Agent pour simuler une requête à partir d'un navigateur web\n",
    "    response = requests.get(url, headers=headers)\n",
    "    \n",
    "    if response.status_code == 200:\n",
    "        soup = BeautifulSoup(response.text, 'html.parser')\n",
    "        results = soup.find_all('h2', class_='b_algo')\n",
    "        \n",
    "        scraped_results = []\n",
    "        for result in results:\n",
    "            title = result.text\n",
    "            url = result.find('a')['href']\n",
    "            scraped_results.append({'title': title, 'url': url})\n",
    "        \n",
    "        return scraped_results\n",
    "    else:\n",
    "        print(\"Failed to retrieve search results.\")\n",
    "        return []\n",
    "\n",
    "# Exemple d'utilisation\n",
    "query = \"underreporting/misreporting of catch\"\n",
    "search_results = scrape_bing_results(query)\n",
    "for result in search_results:\n",
    "    print(result['title'])\n",
    "    print(result['url'])\n",
    "    print()\n"
   ]
  },
  {
   "cell_type": "code",
   "execution_count": null,
   "id": "897dc437",
   "metadata": {},
   "outputs": [],
   "source": []
  }
 ],
 "metadata": {
  "kernelspec": {
   "display_name": "Python 3 (ipykernel)",
   "language": "python",
   "name": "python3"
  },
  "language_info": {
   "codemirror_mode": {
    "name": "ipython",
    "version": 3
   },
   "file_extension": ".py",
   "mimetype": "text/x-python",
   "name": "python",
   "nbconvert_exporter": "python",
   "pygments_lexer": "ipython3",
   "version": "3.10.9"
  }
 },
 "nbformat": 4,
 "nbformat_minor": 5
}
