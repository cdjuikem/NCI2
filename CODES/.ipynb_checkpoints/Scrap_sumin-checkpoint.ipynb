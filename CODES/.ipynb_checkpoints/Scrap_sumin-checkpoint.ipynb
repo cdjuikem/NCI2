{
 "cells": [
  {
   "cell_type": "markdown",
   "id": "8ef4b40a",
   "metadata": {},
   "source": [
    "### Import necessary libraries"
   ]
  },
  {
   "cell_type": "code",
   "execution_count": 112,
   "id": "f18965a8",
   "metadata": {},
   "outputs": [],
   "source": [
    "from bs4 import BeautifulSoup\n",
    "import requests\n",
    "import pandas"
   ]
  },
  {
   "cell_type": "markdown",
   "id": "4e71a4ba",
   "metadata": {},
   "source": [
    "###  url to scrap"
   ]
  },
  {
   "cell_type": "code",
   "execution_count": 113,
   "id": "b748ade3",
   "metadata": {},
   "outputs": [],
   "source": [
    "url = requests.get('https://cimsec.org/lead-the-fight-against-climate-change-and-transnational-crime-in-the-indian-ocean/')\n",
    "soup = BeautifulSoup(url.text, \"html.parser\")"
   ]
  },
  {
   "cell_type": "code",
   "execution_count": 114,
   "id": "3b2b5d03",
   "metadata": {},
   "outputs": [],
   "source": [
    "#file = open(\"scrapped_sumin.csv\", \"w\")\n",
    "#writer = csv.writer(file)"
   ]
  },
  {
   "cell_type": "markdown",
   "id": "dbdab1f8",
   "metadata": {},
   "source": [
    "### Scrap the content"
   ]
  },
  {
   "cell_type": "code",
   "execution_count": 137,
   "id": "53954318",
   "metadata": {},
   "outputs": [],
   "source": [
    "#print(soup)\n",
    "\n",
    "content = soup.find_all(\"div\", class_ = 'entry-content')\n",
    "#print(content)\n",
    "\n",
    "for paragraph in content:\n",
    "    text = paragraph.get_text(separator='\\n')\n",
    "    text_word = text.split()\n"
   ]
  },
  {
   "cell_type": "code",
   "execution_count": 140,
   "id": "4f324ebb",
   "metadata": {},
   "outputs": [
    {
     "data": {
      "text/plain": [
       "collections.Counter"
      ]
     },
     "execution_count": 140,
     "metadata": {},
     "output_type": "execute_result"
    }
   ],
   "source": [
    "from collections import Counter\n",
    "word_count = Counter(text_word)\n",
    "#print(word_count)\n",
    "type(word_count)"
   ]
  },
  {
   "cell_type": "markdown",
   "id": "f6f402c1",
   "metadata": {},
   "source": [
    "### Using pandas to form a dataframe"
   ]
  },
  {
   "cell_type": "code",
   "execution_count": 131,
   "id": "0b9863c8",
   "metadata": {},
   "outputs": [],
   "source": [
    "import pandas as pd"
   ]
  },
  {
   "cell_type": "code",
   "execution_count": 143,
   "id": "325ce986",
   "metadata": {},
   "outputs": [
    {
     "ename": "TypeError",
     "evalue": "DataFrame.__init__() got an unexpected keyword argument 'column'",
     "output_type": "error",
     "traceback": [
      "\u001b[1;31m---------------------------------------------------------------------------\u001b[0m",
      "\u001b[1;31mTypeError\u001b[0m                                 Traceback (most recent call last)",
      "Cell \u001b[1;32mIn[143], line 1\u001b[0m\n\u001b[1;32m----> 1\u001b[0m df \u001b[38;5;241m=\u001b[39m pd\u001b[38;5;241m.\u001b[39mDataFrame(word_count\u001b[38;5;241m.\u001b[39mitems(), column \u001b[38;5;241m=\u001b[39m [\u001b[38;5;124m'\u001b[39m\u001b[38;5;124mword\u001b[39m\u001b[38;5;124m'\u001b[39m, \u001b[38;5;124m'\u001b[39m\u001b[38;5;124mcount\u001b[39m\u001b[38;5;124m'\u001b[39m])\n",
      "\u001b[1;31mTypeError\u001b[0m: DataFrame.__init__() got an unexpected keyword argument 'column'"
     ]
    }
   ],
   "source": [
    "df = pd.DataFrame(word_count.items(), column = ['word', 'count'])"
   ]
  },
  {
   "cell_type": "code",
   "execution_count": null,
   "id": "607aa330",
   "metadata": {},
   "outputs": [],
   "source": []
  }
 ],
 "metadata": {
  "kernelspec": {
   "display_name": "Python 3 (ipykernel)",
   "language": "python",
   "name": "python3"
  },
  "language_info": {
   "codemirror_mode": {
    "name": "ipython",
    "version": 3
   },
   "file_extension": ".py",
   "mimetype": "text/x-python",
   "name": "python",
   "nbconvert_exporter": "python",
   "pygments_lexer": "ipython3",
   "version": "3.11.7"
  }
 },
 "nbformat": 4,
 "nbformat_minor": 5
}
