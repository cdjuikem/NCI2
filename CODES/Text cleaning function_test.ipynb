{
 "cells": [
  {
   "cell_type": "markdown",
   "id": "add15dbc",
   "metadata": {},
   "source": [
    "### Hiva's functions"
   ]
  },
  {
   "cell_type": "code",
   "execution_count": 1,
   "id": "5a734089",
   "metadata": {},
   "outputs": [],
   "source": [
    "########################################################\n",
    "#### Synonym and derived forms\n",
    "########################################################\n",
    "########################################################\n",
    "# Synonym (copied 240619)\n",
    "# required libraries:\n",
    "import nltk \n",
    "from nltk.corpus import wordnet \n",
    "import requests\n",
    "\n",
    "def get_synonyms(word):\n",
    "    url = f\"https://api.datamuse.com/words?rel_syn={word}\"\n",
    "    response = requests.get(url)\n",
    "    if response.status_code == 200:\n",
    "        data = response.json()\n",
    "        synonyms = [entry['word'] for entry in data]\n",
    "        return synonyms\n",
    "    else:\n",
    "        print(\"Error:\", response.status_code)\n",
    "        return []\n",
    "\n",
    "########################################################\n",
    "# related words (copied 240619)\n",
    "def get_related_words(word, limit=60, topics=None):\n",
    "    url = f\"https://api.datamuse.com/words?ml={word}&max={limit}\"\n",
    "    \n",
    "    if topics:\n",
    "        url += f\"&topics={topics}\"\n",
    "    \n",
    "    response = requests.get(url)\n",
    "    \n",
    "    if response.status_code == 200:\n",
    "        data = response.json()\n",
    "        related_words = [entry['word'] for entry in data]\n",
    "        return related_words\n",
    "    else:\n",
    "        print(\"Error:\", response.status_code)\n",
    "        return []\n",
    "\n",
    "\n",
    "########################################################\n",
    "# A function to check if a word is in the list or not (copied 240619)    \n",
    "def check_word_in_list(word, word_list):\n",
    "    if word in word_list:\n",
    "        return f\"'{word}' is in the list.\"\n",
    "    else:\n",
    "        return f\"'{word}' is not in the list.\"\n"
   ]
  },
  {
   "cell_type": "code",
   "execution_count": 5,
   "id": "94ea2b3f",
   "metadata": {},
   "outputs": [
    {
     "data": {
      "text/plain": [
       "{'VBD': ('hid',),\n",
       " 'VBN': ('hidden',),\n",
       " 'VBG': ('hiding',),\n",
       " 'VBZ': ('hides',),\n",
       " 'VB': ('hide',),\n",
       " 'VBP': ('hide',)}"
      ]
     },
     "execution_count": 5,
     "metadata": {},
     "output_type": "execute_result"
    }
   ],
   "source": [
    "import nltk\n",
    "from nltk.stem import WordNetLemmatizer\n",
    "from lemminflect import getInflection, getAllInflections    \n",
    "getAllInflections('hide', upos='VERB')"
   ]
  },
  {
   "cell_type": "code",
   "execution_count": 11,
   "id": "7f5796ca",
   "metadata": {},
   "outputs": [
    {
     "name": "stdout",
     "output_type": "stream",
     "text": [
      "All inflections of 'hide' including base form:\n",
      "{'VBD': ('hid',), 'VBN': ('hidden',), 'VBG': ('hiding',), 'VBZ': ('hides',), 'VB': ('hide',), 'VBP': ('hide',)}\n"
     ]
    },
    {
     "data": {
      "text/plain": [
       "dict"
      ]
     },
     "execution_count": 11,
     "metadata": {},
     "output_type": "execute_result"
    }
   ],
   "source": [
    "import lemminflect\n",
    "\n",
    "word = 'hide'\n",
    "\n",
    "# Get inflections for 'hide' as a verb\n",
    "inflections = lemminflect.getAllInflections(word, upos='VERB')\n",
    "\n",
    "# Add the base form 'hide' to the list of inflections\n",
    "#inflections.append(word)\n",
    "\n",
    "print(\"All inflections of 'hide' including base form:\")\n",
    "print(inflections)\n",
    "type(inflections)\n"
   ]
  },
  {
   "cell_type": "code",
   "execution_count": 21,
   "id": "01484370",
   "metadata": {},
   "outputs": [
    {
     "name": "stdout",
     "output_type": "stream",
     "text": [
      "hid <class 'str'>\n",
      "hidden <class 'str'>\n",
      "hiding <class 'str'>\n",
      "hides <class 'str'>\n",
      "hide <class 'str'>\n",
      "hide <class 'str'>\n"
     ]
    }
   ],
   "source": [
    "forms = list(inflections.values())\n",
    "\n",
    "for item in forms:\n",
    "    print(item[0], type(item[0]))"
   ]
  },
  {
   "cell_type": "code",
   "execution_count": 47,
   "id": "8557e3ad",
   "metadata": {},
   "outputs": [
    {
     "data": {
      "text/plain": [
       "['ran', 'run', 'running', 'runs']"
      ]
     },
     "execution_count": 47,
     "metadata": {},
     "output_type": "execute_result"
    }
   ],
   "source": [
    "import lemminflect\n",
    "\n",
    "def form_list(word):\n",
    "    # Get all inflections for the word as a verb\n",
    "    inflections = lemminflect.getAllInflections(word, upos='VERB')\n",
    "    \n",
    "    # Check if the word or any of its inflections are in the list of verb inflections\n",
    "    forms = list(inflections.values())\n",
    "    form_set = set()\n",
    "    for item in forms:\n",
    "        form_set.add(item[0])\n",
    "    if form_set == {}:\n",
    "        return word\n",
    "    else:\n",
    "        return list(form_set)\n",
    "\n",
    "form_list('apple')\n",
    "verb_forms_list\n",
    "\n",
    "form_list('run')"
   ]
  },
  {
   "cell_type": "code",
   "execution_count": 33,
   "id": "30ef1d1e",
   "metadata": {},
   "outputs": [
    {
     "name": "stdout",
     "output_type": "stream",
     "text": [
      "{}\n"
     ]
    }
   ],
   "source": [
    "inflections = lemminflect.getAllInflections('teacher', upos='VERB')\n",
    "print(inflections)"
   ]
  },
  {
   "cell_type": "code",
   "execution_count": 40,
   "id": "02d5a630",
   "metadata": {},
   "outputs": [
    {
     "name": "stdout",
     "output_type": "stream",
     "text": [
      "{'NNS': ('cats',), 'NN': ('cat',)}\n",
      "('cat', 'cats')\n",
      "{'NNS': ('children',), 'NN': ('child',)}\n",
      "('child', 'childs')\n",
      "{'NNS': ('mice',), 'NN': ('mouse',)}\n",
      "('mouse', 'mouses')\n",
      "{'NNS': ('books',), 'NN': ('book',)}\n",
      "('book', 'books')\n",
      "{}\n",
      "('mice', 'mices')\n"
     ]
    }
   ],
   "source": []
  },
  {
   "cell_type": "code",
   "execution_count": 41,
   "id": "f018e8c2",
   "metadata": {},
   "outputs": [
    {
     "name": "stdout",
     "output_type": "stream",
     "text": [
      "('cat', 'cats')\n",
      "('child', 'childs')\n",
      "('mouse', 'mouses')\n",
      "('book', 'book_of_account')\n"
     ]
    }
   ],
   "source": []
  },
  {
   "cell_type": "code",
   "execution_count": null,
   "id": "abd8e09b",
   "metadata": {},
   "outputs": [],
   "source": []
  }
 ],
 "metadata": {
  "kernelspec": {
   "display_name": "Python 3 (ipykernel)",
   "language": "python",
   "name": "python3"
  },
  "language_info": {
   "codemirror_mode": {
    "name": "ipython",
    "version": 3
   },
   "file_extension": ".py",
   "mimetype": "text/x-python",
   "name": "python",
   "nbconvert_exporter": "python",
   "pygments_lexer": "ipython3",
   "version": "3.11.7"
  }
 },
 "nbformat": 4,
 "nbformat_minor": 5
}
