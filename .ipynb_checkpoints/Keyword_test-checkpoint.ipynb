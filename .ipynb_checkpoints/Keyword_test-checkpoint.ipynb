{
 "cells": [
  {
   "cell_type": "markdown",
   "id": "fe9ce31e",
   "metadata": {},
   "source": [
    "### Get words from CW.xltx "
   ]
  },
  {
   "cell_type": "code",
   "execution_count": 10,
   "id": "dcdefc66",
   "metadata": {},
   "outputs": [],
   "source": [
    "import pandas as pd\n",
    "\n",
    "# read the excel file\n",
    "filename = 'CW.xltx'\n",
    "sheet_name = 'CW'\n",
    "start_row = 14\n",
    "\n",
    "words_data = pd.read_excel(filename, sheet_name=sheet_name, skiprows=start_row)\n",
    "\n",
    "#print(words_data)\n",
    "# Need to remove NaN\n",
    "# Can I make each column as a list"
   ]
  },
  {
   "cell_type": "code",
   "execution_count": null,
   "id": "7019f228",
   "metadata": {},
   "outputs": [],
   "source": []
  },
  {
   "cell_type": "markdown",
   "id": "8058b9da",
   "metadata": {},
   "source": [
    "### Terminologies from Sana's file"
   ]
  },
  {
   "cell_type": "code",
   "execution_count": null,
   "id": "6928b1ee",
   "metadata": {},
   "outputs": [],
   "source": [
    "terms = [\n",
    "    'unreported',\n",
    "    'misrepresented',\n",
    "    'logbook',\n",
    "    'false',\n",
    "    'declaration',\n",
    "    'landing',\n",
    "    'fraud',\n",
    "    'falsify',\n",
    "    'documentation',\n",
    "    'dockside',\n",
    "    'weight',\n",
    "    'fraud',\n",
    "    'catch',\n",
    "    'black market',\n",
    "    'under-declaration',\n",
    "    'harvest',\n",
    "    'transshipment',\n",
    "    'underreported',\n",
    "    'bycatch',\n",
    "    'undocumented',\n",
    "    'inflation',\n",
    "    'double bookkeeping',\n",
    "    'selective',\n",
    "    'manipulation',\n",
    "    'juvenile',\n",
    "    'invasive'\n",
    "]"
   ]
  },
  {
   "cell_type": "code",
   "execution_count": null,
   "id": "4aae6ea7",
   "metadata": {},
   "outputs": [],
   "source": []
  }
 ],
 "metadata": {
  "kernelspec": {
   "display_name": "Python 3 (ipykernel)",
   "language": "python",
   "name": "python3"
  },
  "language_info": {
   "codemirror_mode": {
    "name": "ipython",
    "version": 3
   },
   "file_extension": ".py",
   "mimetype": "text/x-python",
   "name": "python",
   "nbconvert_exporter": "python",
   "pygments_lexer": "ipython3",
   "version": "3.11.7"
  }
 },
 "nbformat": 4,
 "nbformat_minor": 5
}
