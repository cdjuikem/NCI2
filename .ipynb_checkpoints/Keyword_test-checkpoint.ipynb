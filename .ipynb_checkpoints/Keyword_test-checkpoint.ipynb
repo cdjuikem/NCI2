{
 "cells": [
  {
   "cell_type": "markdown",
   "id": "7c524568",
   "metadata": {},
   "source": [
    "### Get words from CW.xltx "
   ]
  },
  {
   "cell_type": "code",
   "execution_count": 25,
   "id": "8879b1f9",
   "metadata": {},
   "outputs": [],
   "source": [
    "import pandas as pd\n",
    "\n",
    "# read the excel file\n",
    "filename = 'CW.xltx'\n",
    "sheet_name = 'CW'\n",
    "start_row = 14\n",
    "\n",
    "words_data = pd.read_excel(filename, sheet_name=sheet_name, skiprows=start_row)\n",
    "\n",
    "#print(words_data)\n",
    "# Need to remove NaN\n",
    "# Can I make each column as a list"
   ]
  },
  {
   "cell_type": "code",
   "execution_count": 38,
   "id": "b678ca1e",
   "metadata": {},
   "outputs": [
    {
     "name": "stdout",
     "output_type": "stream",
     "text": [
      "           Column 1\n",
      "0             quota\n",
      "1        protected \n",
      "2         ecosystem\n",
      "3         shoreline\n",
      "4         protected\n",
      "5       aquaculture\n",
      "6     transgression\n",
      "7      storage area\n",
      "8              levy\n",
      "9   Shetland Black \n",
      "10         fishing \n",
      "11          dispute\n",
      "12           volume\n",
      "13      high-value \n",
      "14     South Korean\n",
      "15       Argentine \n",
      "16          altered\n",
      "17            alter\n",
      "18         altering\n",
      "19           alters\n",
      "Column '0' as list:\n",
      "['quota', 'protected ', 'ecosystem', 'shoreline', 'protected', 'aquaculture', 'transgression', 'storage area', 'levy', 'Shetland Black ', 'fishing ', 'dispute', 'volume', 'high-value ', 'South Korean', 'Argentine ', 'altered', 'alter', 'altering', 'alters', 'evading', 'evade', 'evaded', 'evades', 'unregistered', 'unregister', 'unregisters', 'unregistering', 'register', 'registers', 'registered', 'registering', 'logged', 'Shark Fin', \"Shetland'S Black Fish Scandal\"]\n"
     ]
    }
   ],
   "source": [
    "import pandas as pd\n",
    "\n",
    "def import_excel_column(file_path, sheet_name, i, start_row, max_rows):\n",
    "    try:\n",
    "\n",
    "        # Load a specific sheet into a DataFrame\n",
    "        df = pd.read_excel(file_path, sheet_name=sheet_name, usecols=[i], nrows=max_rows, skiprows=start_row - 1)\n",
    "\n",
    "        # Convert the desired column to a list\n",
    "        print(df.head(20))\n",
    "        col_name = f\"Column {i+1}\"\n",
    "        column_list = df[col_name].dropna().tolist()\n",
    "\n",
    "        return column_list\n",
    "\n",
    "    except Exception as e:\n",
    "        print(f\"An error occurred: {str(e)}\")\n",
    "        return None\n",
    "\n",
    "# Example usage:\n",
    "if __name__ == \"__main__\":\n",
    "    file_path = 'CW.xltx'  # Replace with your Excel file path\n",
    "    sheet_name = 'CW'       # Replace with your sheet name\n",
    "#    column_name = 'Column 1'     # Replace with the column name you want to import\n",
    "    i=0\n",
    "    start_row = 15\n",
    "    max_rows = 57-start_row\n",
    "    \n",
    "    column_list = import_excel_column(file_path, sheet_name, i,  start_row, max_rows)\n",
    "\n",
    "    if column_list:\n",
    "        print(f\"Column '{i}' as list:\")\n",
    "        print(column_list)\n",
    "    else:\n",
    "        print(\"Failed to import column as list.\")\n",
    "\n",
    "        \n",
    "        \n"
   ]
  },
  {
   "cell_type": "markdown",
   "id": "60d7c18a",
   "metadata": {},
   "source": [
    "### Terminologies from Sana's file"
   ]
  },
  {
   "cell_type": "code",
   "execution_count": 11,
   "id": "aba6ea23",
   "metadata": {},
   "outputs": [],
   "source": [
    "### Some terms are to be modified (especially those two-words terms. I commented them out for now.)\n",
    "terms = [\n",
    "    'unreported',\n",
    "    'misrepresented',\n",
    "    'logbook',\n",
    "    'false',\n",
    "    'declaration',\n",
    "    'landing',\n",
    "    'fraud',\n",
    "    'falsify',\n",
    "    'documentation',\n",
    "    'dockside',\n",
    "    'weight',\n",
    "    'fraud',\n",
    "    'catch',\n",
    "    'black market',\n",
    "#    'under-declaration',\n",
    "    'harvest',\n",
    "    'transshipment',\n",
    "    'underreported',\n",
    "    'bycatch',\n",
    "    'undocumented',\n",
    "    'inflation',\n",
    "#    'double bookkeeping',\n",
    "    'selective',\n",
    "    'manipulation',\n",
    "    'juvenile',\n",
    "    'invasive'\n",
    "]"
   ]
  },
  {
   "cell_type": "code",
   "execution_count": null,
   "id": "49cdc7c7",
   "metadata": {},
   "outputs": [],
   "source": []
  }
 ],
 "metadata": {
  "kernelspec": {
   "display_name": "Python 3 (ipykernel)",
   "language": "python",
   "name": "python3"
  },
  "language_info": {
   "codemirror_mode": {
    "name": "ipython",
    "version": 3
   },
   "file_extension": ".py",
   "mimetype": "text/x-python",
   "name": "python",
   "nbconvert_exporter": "python",
   "pygments_lexer": "ipython3",
   "version": "3.11.7"
  }
 },
 "nbformat": 4,
 "nbformat_minor": 5
}
