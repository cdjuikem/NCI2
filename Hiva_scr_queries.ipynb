{
 "cells": [
  {
   "cell_type": "code",
   "execution_count": 1,
   "id": "303d6f87-2ffa-4425-b5ea-265aa1dffe5a",
   "metadata": {},
   "outputs": [],
   "source": [
    "%matplotlib inline\n",
    "import pandas as pd\n",
    "import numpy as np\n",
    "import matplotlib.pyplot as plt"
   ]
  },
  {
   "cell_type": "markdown",
   "id": "958911eb-a8fa-42d6-ae54-bfe137d214b1",
   "metadata": {},
   "source": [
    "**Legend**\n",
    "\n",
    "* Broad =\tRelevant, but will probably yield general results. \n",
    "* Specific = Relevant, but will generate results for a very specifc case\n",
    "\t\n",
    "**Note**: This batch of queries is not representative of a perfect set. The ratio of broad to specific prompt topics is due to randomized prompt generation. \t"
   ]
  },
  {
   "cell_type": "code",
   "execution_count": 2,
   "id": "2a7dccda-dd8a-42f2-8433-baff2fe67f7b",
   "metadata": {},
   "outputs": [
    {
     "data": {
      "text/html": [
       "<div>\n",
       "<style scoped>\n",
       "    .dataframe tbody tr th:only-of-type {\n",
       "        vertical-align: middle;\n",
       "    }\n",
       "\n",
       "    .dataframe tbody tr th {\n",
       "        vertical-align: top;\n",
       "    }\n",
       "\n",
       "    .dataframe thead th {\n",
       "        text-align: right;\n",
       "    }\n",
       "</style>\n",
       "<table border=\"1\" class=\"dataframe\">\n",
       "  <thead>\n",
       "    <tr style=\"text-align: right;\">\n",
       "      <th></th>\n",
       "      <th>Prompt</th>\n",
       "      <th>Relevance</th>\n",
       "      <th>Unnamed: 2</th>\n",
       "      <th>Unnamed: 3</th>\n",
       "      <th>Unnamed: 4</th>\n",
       "      <th>Unnamed: 5</th>\n",
       "      <th>Unnamed: 6</th>\n",
       "      <th>Unnamed: 7</th>\n",
       "      <th>Unnamed: 8</th>\n",
       "      <th>Unnamed: 9</th>\n",
       "      <th>Unnamed: 10</th>\n",
       "      <th>Unnamed: 11</th>\n",
       "    </tr>\n",
       "  </thead>\n",
       "  <tbody>\n",
       "    <tr>\n",
       "      <th>0</th>\n",
       "      <td>Vessel caught misreporting catch amount</td>\n",
       "      <td>Broad</td>\n",
       "      <td>NaN</td>\n",
       "      <td>NaN</td>\n",
       "      <td>NaN</td>\n",
       "      <td>NaN</td>\n",
       "      <td>NaN</td>\n",
       "      <td>NaN</td>\n",
       "      <td>NaN</td>\n",
       "      <td>NaN</td>\n",
       "      <td>NaN</td>\n",
       "      <td>NaN</td>\n",
       "    </tr>\n",
       "    <tr>\n",
       "      <th>1</th>\n",
       "      <td>Vessel caught falsifying fishing logs</td>\n",
       "      <td>Broad</td>\n",
       "      <td>NaN</td>\n",
       "      <td>NaN</td>\n",
       "      <td>NaN</td>\n",
       "      <td>NaN</td>\n",
       "      <td>NaN</td>\n",
       "      <td>NaN</td>\n",
       "      <td>NaN</td>\n",
       "      <td>NaN</td>\n",
       "      <td>NaN</td>\n",
       "      <td>NaN</td>\n",
       "    </tr>\n",
       "    <tr>\n",
       "      <th>2</th>\n",
       "      <td>Vessel caught with incorrect catch reports</td>\n",
       "      <td>Broad</td>\n",
       "      <td>NaN</td>\n",
       "      <td>NaN</td>\n",
       "      <td>NaN</td>\n",
       "      <td>NaN</td>\n",
       "      <td>NaN</td>\n",
       "      <td>NaN</td>\n",
       "      <td>NaN</td>\n",
       "      <td>NaN</td>\n",
       "      <td>NaN</td>\n",
       "      <td>NaN</td>\n",
       "    </tr>\n",
       "    <tr>\n",
       "      <th>3</th>\n",
       "      <td>Vessel caught underreporting catch in North At...</td>\n",
       "      <td>Broad</td>\n",
       "      <td>NaN</td>\n",
       "      <td>NaN</td>\n",
       "      <td>NaN</td>\n",
       "      <td>NaN</td>\n",
       "      <td>NaN</td>\n",
       "      <td>NaN</td>\n",
       "      <td>NaN</td>\n",
       "      <td>NaN</td>\n",
       "      <td>NaN</td>\n",
       "      <td>NaN</td>\n",
       "    </tr>\n",
       "    <tr>\n",
       "      <th>4</th>\n",
       "      <td>Vessel caught misreporting haddock catch</td>\n",
       "      <td>Specific</td>\n",
       "      <td>NaN</td>\n",
       "      <td>NaN</td>\n",
       "      <td>NaN</td>\n",
       "      <td>NaN</td>\n",
       "      <td>NaN</td>\n",
       "      <td>NaN</td>\n",
       "      <td>NaN</td>\n",
       "      <td>NaN</td>\n",
       "      <td>NaN</td>\n",
       "      <td>NaN</td>\n",
       "    </tr>\n",
       "  </tbody>\n",
       "</table>\n",
       "</div>"
      ],
      "text/plain": [
       "                                              Prompt Relevance  Unnamed: 2  \\\n",
       "0            Vessel caught misreporting catch amount     Broad         NaN   \n",
       "1              Vessel caught falsifying fishing logs     Broad         NaN   \n",
       "2         Vessel caught with incorrect catch reports     Broad         NaN   \n",
       "3  Vessel caught underreporting catch in North At...     Broad         NaN   \n",
       "4           Vessel caught misreporting haddock catch  Specific         NaN   \n",
       "\n",
       "   Unnamed: 3  Unnamed: 4  Unnamed: 5  Unnamed: 6  Unnamed: 7  Unnamed: 8  \\\n",
       "0         NaN         NaN         NaN         NaN         NaN         NaN   \n",
       "1         NaN         NaN         NaN         NaN         NaN         NaN   \n",
       "2         NaN         NaN         NaN         NaN         NaN         NaN   \n",
       "3         NaN         NaN         NaN         NaN         NaN         NaN   \n",
       "4         NaN         NaN         NaN         NaN         NaN         NaN   \n",
       "\n",
       "   Unnamed: 9  Unnamed: 10  Unnamed: 11  \n",
       "0         NaN          NaN          NaN  \n",
       "1         NaN          NaN          NaN  \n",
       "2         NaN          NaN          NaN  \n",
       "3         NaN          NaN          NaN  \n",
       "4         NaN          NaN          NaN  "
      ]
     },
     "execution_count": 2,
     "metadata": {},
     "output_type": "execute_result"
    }
   ],
   "source": [
    "query= pd.read_csv(\"PSP.csv\")\n",
    "query.head()"
   ]
  },
  {
   "cell_type": "code",
   "execution_count": null,
   "id": "89296ebb-7fd6-4b74-a079-6f8aee5f67dd",
   "metadata": {},
   "outputs": [],
   "source": [
    "#query.columns"
   ]
  },
  {
   "cell_type": "code",
   "execution_count": 3,
   "id": "0b895b88-e284-434b-8e8e-d383e6595e64",
   "metadata": {},
   "outputs": [
    {
     "data": {
      "text/html": [
       "<div>\n",
       "<style scoped>\n",
       "    .dataframe tbody tr th:only-of-type {\n",
       "        vertical-align: middle;\n",
       "    }\n",
       "\n",
       "    .dataframe tbody tr th {\n",
       "        vertical-align: top;\n",
       "    }\n",
       "\n",
       "    .dataframe thead th {\n",
       "        text-align: right;\n",
       "    }\n",
       "</style>\n",
       "<table border=\"1\" class=\"dataframe\">\n",
       "  <thead>\n",
       "    <tr style=\"text-align: right;\">\n",
       "      <th></th>\n",
       "      <th>Prompt</th>\n",
       "      <th>Relevance</th>\n",
       "    </tr>\n",
       "  </thead>\n",
       "  <tbody>\n",
       "    <tr>\n",
       "      <th>0</th>\n",
       "      <td>Vessel caught misreporting catch amount</td>\n",
       "      <td>Broad</td>\n",
       "    </tr>\n",
       "    <tr>\n",
       "      <th>1</th>\n",
       "      <td>Vessel caught falsifying fishing logs</td>\n",
       "      <td>Broad</td>\n",
       "    </tr>\n",
       "    <tr>\n",
       "      <th>2</th>\n",
       "      <td>Vessel caught with incorrect catch reports</td>\n",
       "      <td>Broad</td>\n",
       "    </tr>\n",
       "    <tr>\n",
       "      <th>3</th>\n",
       "      <td>Vessel caught underreporting catch in North At...</td>\n",
       "      <td>Broad</td>\n",
       "    </tr>\n",
       "    <tr>\n",
       "      <th>4</th>\n",
       "      <td>Vessel caught misreporting haddock catch</td>\n",
       "      <td>Specific</td>\n",
       "    </tr>\n",
       "    <tr>\n",
       "      <th>...</th>\n",
       "      <td>...</td>\n",
       "      <td>...</td>\n",
       "    </tr>\n",
       "    <tr>\n",
       "      <th>95</th>\n",
       "      <td>Vessel caught underreporting catch for insuran...</td>\n",
       "      <td>Broad</td>\n",
       "    </tr>\n",
       "    <tr>\n",
       "      <th>96</th>\n",
       "      <td>Vessel caught with mislabeled fish species</td>\n",
       "      <td>Broad</td>\n",
       "    </tr>\n",
       "    <tr>\n",
       "      <th>97</th>\n",
       "      <td>Vessel caught falsifying catch during transport</td>\n",
       "      <td>Broad</td>\n",
       "    </tr>\n",
       "    <tr>\n",
       "      <th>98</th>\n",
       "      <td>Vessel caught misreporting catch for fishing c...</td>\n",
       "      <td>Broad</td>\n",
       "    </tr>\n",
       "    <tr>\n",
       "      <th>99</th>\n",
       "      <td>Vessel caught misreporting catch for quota man...</td>\n",
       "      <td>Broad</td>\n",
       "    </tr>\n",
       "  </tbody>\n",
       "</table>\n",
       "<p>100 rows × 2 columns</p>\n",
       "</div>"
      ],
      "text/plain": [
       "                                               Prompt Relevance\n",
       "0             Vessel caught misreporting catch amount     Broad\n",
       "1               Vessel caught falsifying fishing logs     Broad\n",
       "2          Vessel caught with incorrect catch reports     Broad\n",
       "3   Vessel caught underreporting catch in North At...     Broad\n",
       "4            Vessel caught misreporting haddock catch  Specific\n",
       "..                                                ...       ...\n",
       "95  Vessel caught underreporting catch for insuran...     Broad\n",
       "96         Vessel caught with mislabeled fish species     Broad\n",
       "97    Vessel caught falsifying catch during transport     Broad\n",
       "98  Vessel caught misreporting catch for fishing c...     Broad\n",
       "99  Vessel caught misreporting catch for quota man...     Broad\n",
       "\n",
       "[100 rows x 2 columns]"
      ]
     },
     "execution_count": 3,
     "metadata": {},
     "output_type": "execute_result"
    }
   ],
   "source": [
    "query_drop= query.drop(['Unnamed: 2', 'Unnamed: 3', 'Unnamed: 4',\n",
    "       'Unnamed: 5', 'Unnamed: 6', 'Unnamed: 7', 'Unnamed: 8', 'Unnamed: 9',\n",
    "       'Unnamed: 10', 'Unnamed: 11'], axis=1)\n",
    "query_drop"
   ]
  },
  {
   "cell_type": "code",
   "execution_count": 4,
   "id": "a631ce53-3af9-4e4c-90a7-adecf0ae469c",
   "metadata": {},
   "outputs": [
    {
     "data": {
      "text/html": [
       "<div>\n",
       "<style scoped>\n",
       "    .dataframe tbody tr th:only-of-type {\n",
       "        vertical-align: middle;\n",
       "    }\n",
       "\n",
       "    .dataframe tbody tr th {\n",
       "        vertical-align: top;\n",
       "    }\n",
       "\n",
       "    .dataframe thead th {\n",
       "        text-align: right;\n",
       "    }\n",
       "</style>\n",
       "<table border=\"1\" class=\"dataframe\">\n",
       "  <thead>\n",
       "    <tr style=\"text-align: right;\">\n",
       "      <th></th>\n",
       "      <th>Prompt</th>\n",
       "      <th>Relevance</th>\n",
       "    </tr>\n",
       "  </thead>\n",
       "  <tbody>\n",
       "    <tr>\n",
       "      <th>0</th>\n",
       "      <td>Vessel caught misreporting catch amount</td>\n",
       "      <td>Broad</td>\n",
       "    </tr>\n",
       "    <tr>\n",
       "      <th>1</th>\n",
       "      <td>Vessel caught falsifying fishing logs</td>\n",
       "      <td>Broad</td>\n",
       "    </tr>\n",
       "    <tr>\n",
       "      <th>2</th>\n",
       "      <td>Vessel caught with incorrect catch reports</td>\n",
       "      <td>Broad</td>\n",
       "    </tr>\n",
       "    <tr>\n",
       "      <th>3</th>\n",
       "      <td>Vessel caught underreporting catch in North At...</td>\n",
       "      <td>Broad</td>\n",
       "    </tr>\n",
       "    <tr>\n",
       "      <th>5</th>\n",
       "      <td>Vessel caught with inaccurate fish size records</td>\n",
       "      <td>Broad</td>\n",
       "    </tr>\n",
       "    <tr>\n",
       "      <th>...</th>\n",
       "      <td>...</td>\n",
       "      <td>...</td>\n",
       "    </tr>\n",
       "    <tr>\n",
       "      <th>95</th>\n",
       "      <td>Vessel caught underreporting catch for insuran...</td>\n",
       "      <td>Broad</td>\n",
       "    </tr>\n",
       "    <tr>\n",
       "      <th>96</th>\n",
       "      <td>Vessel caught with mislabeled fish species</td>\n",
       "      <td>Broad</td>\n",
       "    </tr>\n",
       "    <tr>\n",
       "      <th>97</th>\n",
       "      <td>Vessel caught falsifying catch during transport</td>\n",
       "      <td>Broad</td>\n",
       "    </tr>\n",
       "    <tr>\n",
       "      <th>98</th>\n",
       "      <td>Vessel caught misreporting catch for fishing c...</td>\n",
       "      <td>Broad</td>\n",
       "    </tr>\n",
       "    <tr>\n",
       "      <th>99</th>\n",
       "      <td>Vessel caught misreporting catch for quota man...</td>\n",
       "      <td>Broad</td>\n",
       "    </tr>\n",
       "  </tbody>\n",
       "</table>\n",
       "<p>92 rows × 2 columns</p>\n",
       "</div>"
      ],
      "text/plain": [
       "                                               Prompt Relevance\n",
       "0             Vessel caught misreporting catch amount     Broad\n",
       "1               Vessel caught falsifying fishing logs     Broad\n",
       "2          Vessel caught with incorrect catch reports     Broad\n",
       "3   Vessel caught underreporting catch in North At...     Broad\n",
       "5     Vessel caught with inaccurate fish size records     Broad\n",
       "..                                                ...       ...\n",
       "95  Vessel caught underreporting catch for insuran...     Broad\n",
       "96         Vessel caught with mislabeled fish species     Broad\n",
       "97    Vessel caught falsifying catch during transport     Broad\n",
       "98  Vessel caught misreporting catch for fishing c...     Broad\n",
       "99  Vessel caught misreporting catch for quota man...     Broad\n",
       "\n",
       "[92 rows x 2 columns]"
      ]
     },
     "execution_count": 4,
     "metadata": {},
     "output_type": "execute_result"
    }
   ],
   "source": [
    "qb= query_drop[query_drop[\"Relevance\"]== \"Broad\" ]\n",
    "qb"
   ]
  },
  {
   "cell_type": "code",
   "execution_count": null,
   "id": "94757abf-2a5f-4bc4-a258-a80c8590e937",
   "metadata": {},
   "outputs": [],
   "source": [
    "#qb[\"Prompt\"]"
   ]
  },
  {
   "cell_type": "code",
   "execution_count": 5,
   "id": "a442ea09-0ddb-4f5c-8cff-da37c3a8bd2c",
   "metadata": {},
   "outputs": [
    {
     "data": {
      "text/html": [
       "<div>\n",
       "<style scoped>\n",
       "    .dataframe tbody tr th:only-of-type {\n",
       "        vertical-align: middle;\n",
       "    }\n",
       "\n",
       "    .dataframe tbody tr th {\n",
       "        vertical-align: top;\n",
       "    }\n",
       "\n",
       "    .dataframe thead th {\n",
       "        text-align: right;\n",
       "    }\n",
       "</style>\n",
       "<table border=\"1\" class=\"dataframe\">\n",
       "  <thead>\n",
       "    <tr style=\"text-align: right;\">\n",
       "      <th></th>\n",
       "      <th>Prompt</th>\n",
       "      <th>Relevance</th>\n",
       "    </tr>\n",
       "  </thead>\n",
       "  <tbody>\n",
       "    <tr>\n",
       "      <th>4</th>\n",
       "      <td>Vessel caught misreporting haddock catch</td>\n",
       "      <td>Specific</td>\n",
       "    </tr>\n",
       "    <tr>\n",
       "      <th>7</th>\n",
       "      <td>Vessel caught misreporting tuna catch quantities</td>\n",
       "      <td>Specific</td>\n",
       "    </tr>\n",
       "    <tr>\n",
       "      <th>15</th>\n",
       "      <td>Vessel caught underreporting salmon catch</td>\n",
       "      <td>Specific</td>\n",
       "    </tr>\n",
       "    <tr>\n",
       "      <th>17</th>\n",
       "      <td>Vessel caught misreporting bluefin tuna catch</td>\n",
       "      <td>Specific</td>\n",
       "    </tr>\n",
       "    <tr>\n",
       "      <th>26</th>\n",
       "      <td>Vessel caught underreporting sardine catch</td>\n",
       "      <td>Specific</td>\n",
       "    </tr>\n",
       "    <tr>\n",
       "      <th>35</th>\n",
       "      <td>Vessel caught misreporting hake catch</td>\n",
       "      <td>Specific</td>\n",
       "    </tr>\n",
       "    <tr>\n",
       "      <th>82</th>\n",
       "      <td>Vessel caught misreporting cod catch volumes</td>\n",
       "      <td>Specific</td>\n",
       "    </tr>\n",
       "    <tr>\n",
       "      <th>87</th>\n",
       "      <td>Vessel caught underreporting shrimp catch</td>\n",
       "      <td>Specific</td>\n",
       "    </tr>\n",
       "  </tbody>\n",
       "</table>\n",
       "</div>"
      ],
      "text/plain": [
       "                                              Prompt Relevance\n",
       "4           Vessel caught misreporting haddock catch  Specific\n",
       "7   Vessel caught misreporting tuna catch quantities  Specific\n",
       "15         Vessel caught underreporting salmon catch  Specific\n",
       "17     Vessel caught misreporting bluefin tuna catch  Specific\n",
       "26        Vessel caught underreporting sardine catch  Specific\n",
       "35             Vessel caught misreporting hake catch  Specific\n",
       "82      Vessel caught misreporting cod catch volumes  Specific\n",
       "87         Vessel caught underreporting shrimp catch  Specific"
      ]
     },
     "execution_count": 5,
     "metadata": {},
     "output_type": "execute_result"
    }
   ],
   "source": [
    "qs= query_drop[query_drop[\"Relevance\"]== \"Specific\" ]\n",
    "qs"
   ]
  },
  {
   "cell_type": "code",
   "execution_count": null,
   "id": "96b41e18-86ec-4b81-9152-9dfc3bc31623",
   "metadata": {},
   "outputs": [],
   "source": [
    "#qs[\"Prompt\"]"
   ]
  },
  {
   "cell_type": "code",
   "execution_count": 86,
   "id": "8dc45273-874f-47bf-83f3-f0d6b201b7e8",
   "metadata": {},
   "outputs": [],
   "source": [
    "# Enumerate rows using iterrows()\n",
    "#for index, row in enumerate(qs.iterrows(), start=1):\n",
    "   #print(f\"Row {index}: {row[1].to_dict()}\")"
   ]
  },
  {
   "cell_type": "code",
   "execution_count": 9,
   "id": "3b545dd7-bfa0-4fc5-9113-f08755fb4372",
   "metadata": {},
   "outputs": [
    {
     "data": {
      "text/plain": [
       "8"
      ]
     },
     "execution_count": 9,
     "metadata": {},
     "output_type": "execute_result"
    }
   ],
   "source": [
    "len(qs)"
   ]
  },
  {
   "cell_type": "code",
   "execution_count": null,
   "id": "5070edac-c8c0-4d3b-b1b7-a2f564652b0d",
   "metadata": {},
   "outputs": [],
   "source": [
    "#for index, row in enumerate(qs.iterrows(), start=1):\n",
    "    #print(f\"{row[1].to_dict()}\")"
   ]
  },
  {
   "cell_type": "code",
   "execution_count": null,
   "id": "d45d3b79-cf71-4948-86a5-055c180a42f6",
   "metadata": {},
   "outputs": [],
   "source": [
    "#one= row[1].to_dict()\n",
    "#one.keys(), \n",
    "#one.values(), \n",
    "#one[\"Prompt\"]"
   ]
  },
  {
   "cell_type": "code",
   "execution_count": 87,
   "id": "d0a6c9e5-e821-4aa1-93c1-8e2c7b8199bc",
   "metadata": {},
   "outputs": [],
   "source": [
    "#for index, row in enumerate(qs.iterrows(), start=1):\n",
    "    #j_1= row[1][\"Prompt\"]\n",
    "    #j_2= row[1][\"Relevance\"]\n",
    "    #print(f\"{(j_1, j_2 )}\")"
   ]
  },
  {
   "cell_type": "code",
   "execution_count": 10,
   "id": "28f6e1b9-2a74-4941-8bec-8ed515af95f1",
   "metadata": {},
   "outputs": [
    {
     "data": {
      "text/plain": [
       "4             Vessel caught misreporting haddock catch\n",
       "7     Vessel caught misreporting tuna catch quantities\n",
       "15           Vessel caught underreporting salmon catch\n",
       "17       Vessel caught misreporting bluefin tuna catch\n",
       "26          Vessel caught underreporting sardine catch\n",
       "35               Vessel caught misreporting hake catch\n",
       "82        Vessel caught misreporting cod catch volumes\n",
       "87           Vessel caught underreporting shrimp catch\n",
       "Name: Prompt, dtype: object"
      ]
     },
     "execution_count": 10,
     "metadata": {},
     "output_type": "execute_result"
    }
   ],
   "source": [
    "qs[\"Prompt\"]"
   ]
  },
  {
   "cell_type": "code",
   "execution_count": 88,
   "id": "426bc9dd-812a-4954-bf97-353174ee2b42",
   "metadata": {},
   "outputs": [],
   "source": [
    "# first function:\n",
    "#def print_prompt_relevance_pairs(qs):\n",
    "    #\"\"\"\n",
    "    #Function to iterate through qs rows and print pairs of 'Prompt' and 'Relevance' fields.\n",
    "    #Parameters:\n",
    "    #df (pandas.DataFrame): The input DataFrame containing 'Prompt' and 'Relevance' columns.\n",
    "    #\"\"\"\n",
    "    #for index, row in enumerate(qs.iterrows(), start=1):\n",
    "        #j_1 = row[1][\"Prompt\"]\n",
    "        #j_2 = row[1][\"Relevance\"]\n",
    "        #print(f\"{(j_1, j_2)}\")\n",
    "        \n",
    "#print_prompt_relevance_pairs(qs)      "
   ]
  },
  {
   "cell_type": "code",
   "execution_count": 11,
   "id": "46dd091f-5a49-4641-93c5-5775cfb2d5e0",
   "metadata": {},
   "outputs": [
    {
     "data": {
      "text/plain": [
       "'Vessel caught misreporting haddock catch'"
      ]
     },
     "execution_count": 11,
     "metadata": {},
     "output_type": "execute_result"
    }
   ],
   "source": [
    "qs[\"Prompt\"].iloc[0]"
   ]
  },
  {
   "cell_type": "markdown",
   "id": "382f16ac-edc4-490c-aabe-6f3d6ee3a25d",
   "metadata": {},
   "source": [
    "**For qs:**"
   ]
  },
  {
   "cell_type": "code",
   "execution_count": 6,
   "id": "3c06dc8a-e781-4540-8967-6bd77762400b",
   "metadata": {},
   "outputs": [],
   "source": [
    "word1 = 'misreporting'\n",
    "word2 = 'Specific'\n",
    "def check_words_in_rows(qs):\n",
    "    t=0\n",
    "    while t< len(qs):\n",
    "            \n",
    "            j_1 = qs[\"Prompt\"].iloc[t]\n",
    "            j_2 = qs[\"Relevance\"].iloc[t]\n",
    "            t=t+1\n",
    "            #print(j_1,'|',j_2)\n",
    "            \n",
    "            if (word1 in j_1) and (word2 in j_2):\n",
    "                print(\"WoW! \")\n",
    "                    #continue\n",
    "            else:\n",
    "            \n",
    "                print(\"Oops! \")\n",
    "           \n",
    "                \n",
    "            "
   ]
  },
  {
   "cell_type": "code",
   "execution_count": 13,
   "id": "43c0ba37-3919-4f6a-aed6-3c4e4e706743",
   "metadata": {},
   "outputs": [
    {
     "name": "stdout",
     "output_type": "stream",
     "text": [
      "WoW! \n",
      "WoW! \n",
      "Oops! \n",
      "WoW! \n",
      "Oops! \n",
      "WoW! \n",
      "WoW! \n",
      "Oops! \n",
      "None\n"
     ]
    }
   ],
   "source": [
    "print(check_words_in_rows(qs))"
   ]
  },
  {
   "cell_type": "markdown",
   "id": "e7e67e56-615e-47a7-91fa-d2cd23dda9d5",
   "metadata": {},
   "source": [
    "**For qb:**"
   ]
  },
  {
   "cell_type": "code",
   "execution_count": 7,
   "id": "66f77ae6-190c-4186-b7cb-0b5f1c617026",
   "metadata": {},
   "outputs": [],
   "source": [
    "word1 = 'underreporting'\n",
    "word2 = 'Broad'\n",
    "def check_words_in_rows(qb):\n",
    "    t=0\n",
    "    count1 = [0]  \n",
    "    count2 = [0] \n",
    "    while t< len(qb):\n",
    "            \n",
    "            j_1 = qb[\"Prompt\"].iloc[t]\n",
    "            j_2 = qb[\"Relevance\"].iloc[t]\n",
    "            t+=1\n",
    "            #print(j_1,'|',j_2)\n",
    "            \n",
    "            if (word1 in j_1) and (word2 in j_2):\n",
    "                count1.append(1)\n",
    "                \n",
    "            else:\n",
    "                count2.append(1)\n",
    "\n",
    "            \n",
    "    print(\"Count1:\", count1)\n",
    "    print(\"Count2:\", count2)           \n",
    "                     "
   ]
  },
  {
   "cell_type": "code",
   "execution_count": 15,
   "id": "67c1f7ae-a5ec-4663-a4c2-c49521d5023f",
   "metadata": {},
   "outputs": [
    {
     "name": "stdout",
     "output_type": "stream",
     "text": [
      "Count1: [0, 1, 1, 1, 1, 1, 1, 1, 1, 1, 1, 1, 1, 1, 1, 1, 1, 1, 1]\n",
      "Count2: [0, 1, 1, 1, 1, 1, 1, 1, 1, 1, 1, 1, 1, 1, 1, 1, 1, 1, 1, 1, 1, 1, 1, 1, 1, 1, 1, 1, 1, 1, 1, 1, 1, 1, 1, 1, 1, 1, 1, 1, 1, 1, 1, 1, 1, 1, 1, 1, 1, 1, 1, 1, 1, 1, 1, 1, 1, 1, 1, 1, 1, 1, 1, 1, 1, 1, 1, 1, 1, 1, 1, 1, 1, 1, 1]\n",
      "None\n"
     ]
    }
   ],
   "source": [
    "print(check_words_in_rows(qb))"
   ]
  },
  {
   "cell_type": "code",
   "execution_count": 8,
   "id": "435a0b0d-4501-4017-880c-48d9281fa90b",
   "metadata": {},
   "outputs": [
    {
     "name": "stdout",
     "output_type": "stream",
     "text": [
      "18\n"
     ]
    }
   ],
   "source": [
    "count1= [0, 1, 1, 1, 1, 1, 1, 1, 1, 1, 1, 1, 1, 1, 1, 1, 1, 1, 1]\n",
    "Sum = sum(count1)\n",
    "print(Sum)"
   ]
  },
  {
   "cell_type": "code",
   "execution_count": 9,
   "id": "c0c3974f-e133-4f59-bc5a-abac1cc98a62",
   "metadata": {},
   "outputs": [
    {
     "name": "stdout",
     "output_type": "stream",
     "text": [
      "74\n"
     ]
    }
   ],
   "source": [
    "count2= [0, 1, 1, 1, 1, 1, 1, 1, 1, 1, 1, \n",
    "         1, 1, 1, 1, 1, 1, 1, 1, 1, 1, 1, 1, 1, 1, 1, \n",
    "         1, 1, 1, 1, 1, 1, 1, 1, 1, 1, 1, 1, 1, 1, 1, 1, 1, 1, \n",
    "         1, 1, 1, 1, 1, 1, 1, 1, 1, 1, 1, 1, 1, 1, 1, 1, 1, 1, 1, 1, 1, 1, 1, 1, 1, 1, 1, 1, 1, 1, 1]\n",
    "Sum = sum(count2)\n",
    "print(Sum)"
   ]
  },
  {
   "cell_type": "code",
   "execution_count": null,
   "id": "dba8e8f6-40a1-46ad-a991-5b3ad0e4aeed",
   "metadata": {},
   "outputs": [],
   "source": []
  },
  {
   "cell_type": "markdown",
   "id": "44a488ab-8ba7-407d-a001-da5d1293e3e5",
   "metadata": {},
   "source": [
    "**For: query_drop**"
   ]
  },
  {
   "cell_type": "code",
   "execution_count": 10,
   "id": "dfe15f8b-3a84-494e-9897-e2ef9b62ccc6",
   "metadata": {},
   "outputs": [],
   "source": [
    "\n",
    "word1 = 'Specific'\n",
    "Word2 = 'Broad'\n",
    "word3 = 'misreporting'\n",
    "word4 = 'underreporting'\n",
    "\n",
    "def check_words_in_rows(query_drop):\n",
    "    t=0\n",
    "    count1 = [0]  \n",
    "    count2 = [0] \n",
    "    count3 = [0]  \n",
    "    count4 = [0]\n",
    "    while t< len(query_drop):\n",
    "            \n",
    "            j_1 = query_drop[\"Prompt\"].iloc[t]\n",
    "            j_2 = query_drop[\"Relevance\"].iloc[t]\n",
    "            t+=1\n",
    "            #print(j_1,'|',j_2)\n",
    "            \n",
    "            if (word1 in j_1) and (word2 in j_2):\n",
    "                count1.append(1)\n",
    "                \n",
    "            if (word1 in j_1) and (word4 in j_2):\n",
    "                count2.append(1)\n",
    "                \n",
    "            if (word3 in j_1) and (word2 in j_2):\n",
    "                count3.append(1)\n",
    "                \n",
    "            if (word3 in j_1) and (word4 in j_2):\n",
    "                count4.append(1)\n",
    "\n",
    "            \n",
    "    print(\"The number of pair (Underreporting, Broad):\", count1)\n",
    "    print(\"The number of pair (Underreporting, Specific):\", count2) \n",
    "    print(\"The number of pair (misreporting, Broad):\", count3)\n",
    "    print(\"The number of pair (misreporting, Specific):\", count4)\n"
   ]
  },
  {
   "cell_type": "code",
   "execution_count": 11,
   "id": "d0867d24-601f-42fd-8be8-40729a1d1e9f",
   "metadata": {},
   "outputs": [
    {
     "name": "stdout",
     "output_type": "stream",
     "text": [
      "The number of pair (Underreporting, Broad): [0]\n",
      "The number of pair (Underreporting, Specific): [0]\n",
      "The number of pair (misreporting, Broad): [0, 1, 1, 1, 1, 1, 1, 1, 1, 1, 1, 1, 1, 1, 1, 1, 1, 1, 1, 1, 1, 1]\n",
      "The number of pair (misreporting, Specific): [0]\n",
      "None\n"
     ]
    }
   ],
   "source": [
    "print(check_words_in_rows(query_drop))"
   ]
  },
  {
   "cell_type": "markdown",
   "id": "65574368-5800-4869-8878-f3f37672c146",
   "metadata": {},
   "source": [
    "**Finding the key words that did not mention in the previous code** "
   ]
  },
  {
   "cell_type": "code",
   "execution_count": 361,
   "id": "96f20c8f-0b82-4b59-903a-0507d4186c08",
   "metadata": {},
   "outputs": [],
   "source": [
    "word5 = 'falsifying'\n",
    "word6 = 'incorrec'\n",
    "word7 = 'mislabeled'\n",
    "word8 = 'undisclosed'\n",
    "word9 = 'altered'\n",
    "word10 = 'hidden'\n",
    "word11 = 'false'\n",
    "word12 = 'non-disclosed'\n",
    "word13 = 'non-compliant'\n",
    "word14 = 'undeclared'\n",
    "word15 = 'fake'\n",
    "word16 = 'unreported'\n",
    "word17 = 'inaccurate'\n",
    "word18 = 'unrecorded'\n",
    "word19 = 'bypassing'\n",
    "word20 = 'illegal'\n",
    "word21 = 'banned'\n",
    "word22 = 'manipulated'\n",
    "word23 = 'exceeding'\n",
    "word24 = 'unregistered'\n",
    "word25 = 'underreported'\n",
    "word26 = 'falsified'\n",
    "word27 = 'evading'\n",
    "word28 = 'hiding'\n",
    "word29 = 'doctored'\n",
    "word30 = 'contraband'"
   ]
  },
  {
   "cell_type": "code",
   "execution_count": 213,
   "id": "e4c273b6-b836-421a-9f5d-e74dce50d04d",
   "metadata": {},
   "outputs": [
    {
     "name": "stdout",
     "output_type": "stream",
     "text": [
      "The number of pair (misreporting, Specific): 5\n",
      "The number of pair (misreporting, Broad): 21\n",
      "The number of pair (underreporting, Specific): 3\n",
      "The number of pair (underreporting, Broad): 18\n",
      "The number of pair (falsifying, Specific): 0\n",
      "The number of pair (falsifying, Broad): 17\n",
      "The number of pair (incorrec, Specific): 0\n",
      "The number of pair (incorrec, Broad): 4\n",
      "The number of pair (mislabeled, Specific): 0\n",
      "The number of pair (mislabeled, Broad): 2\n",
      "The number of pair (undisclosed, Specific): 0\n",
      "The number of pair (undisclosed, Broad): 2\n",
      "The number of pair (altered, Specific): 0\n",
      "The number of pair (altered, Broad): 1\n",
      "The number of pair (hidden, Specific): 0\n",
      "The number of pair (hidden, Broad): 2\n",
      "The number of pair (false, Specific): 0\n",
      "The number of pair (false, Broad): 2\n",
      "The number of pair (non-disclosed, Specific): 0\n",
      "The number of pair (non-disclosed, Broad): 1\n",
      "The number of pair (non-compliant, Specific): 0\n",
      "The number of pair (non-compliant, Broad): 1\n",
      "The number of pair (undeclared, Specific): 0\n",
      "The number of pair (undeclared, Broad): 1\n",
      "The number of pair (fake, Specific): 0\n",
      "The number of pair (fake, Broad): 2\n",
      "The number of pair (unreported, Specific): 0\n",
      "The number of pair (unreported, Broad): 2\n",
      "The number of pair (inaccurate, Specific): 0\n",
      "The number of pair (inaccurate, Broad): 1\n",
      "The number of pair (unrecorded, Specific): 0\n",
      "The number of pair (unrecorded, Broad): 1\n",
      "The number of pair (bypassing, Specific): 0\n",
      "The number of pair (bypassing, Broad): 2\n",
      "The number of pair (illegal, Specific): 0\n",
      "The number of pair (illegal, Broad): 2\n",
      "The number of pair (banned, Specific): 0\n",
      "The number of pair (banned, Broad): 1\n",
      "The number of pair (manipulated, Specific): 0\n",
      "The number of pair (manipulated, Broad): 1\n",
      "The number of pair (exceeding, Specific): 0\n",
      "The number of pair (exceeding, Broad): 1\n",
      "The number of pair (unregistered, Specific): 0\n",
      "The number of pair (unregistered, Broad): 1\n",
      "The number of pair (underreported, Specific): 0\n",
      "The number of pair (underreported, Broad): 1\n",
      "The number of pair (falsified, Specific): 0\n",
      "The number of pair (falsified, Broad): 1\n",
      "The number of pair (evading, Specific): 0\n",
      "The number of pair (evading, Broad): 1\n",
      "The number of pair (hiding, Specific): 0\n",
      "The number of pair (hiding, Broad): 1\n",
      "The number of pair (doctored, Specific): 0\n",
      "The number of pair (doctored, Broad): 1\n",
      "The number of pair (contraband, Specific): 0\n",
      "The number of pair (contraband, Broad): 1\n"
     ]
    }
   ],
   "source": [
    "# List of words\n",
    "relevance_words = ['Specific', 'Broad']\n",
    "prompt_words = [\n",
    "    'misreporting', 'underreporting', 'falsifying', 'incorrec', 'mislabeled', 'undisclosed', \n",
    "    'altered', 'hidden', 'false', 'non-disclosed', 'non-compliant', 'undeclared', 'fake', \n",
    "    'unreported', 'inaccurate', 'unrecorded', 'bypassing', 'illegal', 'banned', \n",
    "    'manipulated', 'exceeding', 'unregistered', 'underreported', 'falsified', 'evading', \n",
    "    'hiding', 'doctored', 'contraband', 'mislabeled'\n",
    "]\n",
    "\n",
    "def check_words_in_rows(query_drop):\n",
    "    # Initialize a dictionary to count occurrences of each pair\n",
    "    pair_counts = {f\"({p}, {r})\": 0 for p in prompt_words for r in relevance_words}\n",
    "\n",
    "    # Iterate over each row in the DataFrame(query_drop)\n",
    "    for t in range(len(query_drop)):\n",
    "        j_1 = query_drop[\"Prompt\"].iloc[t]\n",
    "        j_2 = query_drop[\"Relevance\"].iloc[t]\n",
    "\n",
    "        # Check each pair of words \n",
    "        # here we check all possibility of pairs, so for each element of prompt_words we have 2 options, means that we have 60 options over all.\n",
    "        for p_word in prompt_words:\n",
    "            for r_word in relevance_words:\n",
    "                if p_word in j_1 and r_word in j_2:\n",
    "                    pair_counts[f\"({p_word}, {r_word})\"] += 1\n",
    "\n",
    "    # Print the counts for each pair\n",
    "    for pair, count in pair_counts.items():\n",
    "        print(f\"The number of pair {pair}: {count}\")\n",
    "\n",
    "\n",
    "check_words_in_rows(query_drop)"
   ]
  },
  {
   "cell_type": "code",
   "execution_count": 337,
   "id": "a7a2fcf7-31d6-400a-a629-6cb546de1d80",
   "metadata": {},
   "outputs": [],
   "source": [
    "#new_dict= dict(pair_counts.items())\n",
    "#new_dict"
   ]
  },
  {
   "cell_type": "markdown",
   "id": "068d2bb5-6aa2-4627-b745-0bcd48b19160",
   "metadata": {},
   "source": [
    "### Plot of excel queries"
   ]
  },
  {
   "cell_type": "code",
   "execution_count": 214,
   "id": "95584684-b657-46a0-acf6-059151511636",
   "metadata": {},
   "outputs": [
    {
     "name": "stdout",
     "output_type": "stream",
     "text": [
      "The number of pair (misreporting, Specific): 5\n",
      "The number of pair (misreporting, Broad): 21\n",
      "The number of pair (underreporting, Specific): 3\n",
      "The number of pair (underreporting, Broad): 18\n",
      "The number of pair (falsifying, Specific): 0\n",
      "The number of pair (falsifying, Broad): 17\n",
      "The number of pair (incorrec, Specific): 0\n",
      "The number of pair (incorrec, Broad): 4\n",
      "The number of pair (mislabeled, Specific): 0\n",
      "The number of pair (mislabeled, Broad): 2\n",
      "The number of pair (undisclosed, Specific): 0\n",
      "The number of pair (undisclosed, Broad): 2\n",
      "The number of pair (altered, Specific): 0\n",
      "The number of pair (altered, Broad): 2\n",
      "The number of pair (hidden, Specific): 0\n",
      "The number of pair (hidden, Broad): 2\n",
      "The number of pair (false, Specific): 0\n",
      "The number of pair (false, Broad): 2\n",
      "The number of pair (non-disclosed, Specific): 0\n",
      "The number of pair (non-disclosed, Broad): 1\n",
      "The number of pair (non-compliant, Specific): 0\n",
      "The number of pair (non-compliant, Broad): 1\n",
      "The number of pair (undeclared, Specific): 0\n",
      "The number of pair (undeclared, Broad): 1\n",
      "The number of pair (fake, Specific): 0\n",
      "The number of pair (fake, Broad): 2\n",
      "The number of pair (unreported, Specific): 0\n",
      "The number of pair (unreported, Broad): 2\n",
      "The number of pair (inaccurate, Specific): 0\n",
      "The number of pair (inaccurate, Broad): 1\n",
      "The number of pair (unrecorded, Specific): 0\n",
      "The number of pair (unrecorded, Broad): 1\n",
      "The number of pair (bypassing, Specific): 0\n",
      "The number of pair (bypassing, Broad): 2\n",
      "The number of pair (illegal, Specific): 0\n",
      "The number of pair (illegal, Broad): 2\n",
      "The number of pair (banned, Specific): 0\n",
      "The number of pair (banned, Broad): 1\n",
      "The number of pair (manipulated, Specific): 0\n",
      "The number of pair (manipulated, Broad): 1\n",
      "The number of pair (exceeding, Specific): 0\n",
      "The number of pair (exceeding, Broad): 1\n",
      "The number of pair (unregistered, Specific): 0\n",
      "The number of pair (unregistered, Broad): 1\n",
      "The number of pair (underreported, Specific): 0\n",
      "The number of pair (underreported, Broad): 1\n",
      "The number of pair (falsified, Specific): 0\n",
      "The number of pair (falsified, Broad): 1\n",
      "The number of pair (evading, Specific): 0\n",
      "The number of pair (evading, Broad): 1\n",
      "The number of pair (hiding, Specific): 0\n",
      "The number of pair (hiding, Broad): 1\n",
      "The number of pair (doctored, Specific): 0\n",
      "The number of pair (doctored, Broad): 1\n",
      "The number of pair (contraband, Specific): 0\n",
      "The number of pair (contraband, Broad): 1\n"
     ]
    },
    {
     "data": {
      "image/png": "[encoded data removed]",
      "text/plain": [
       "<Figure size 1200x800 with 1 Axes>"
      ]
     },
     "metadata": {},
     "output_type": "display_data"
    }
   ],
   "source": [
    "import pandas as pd\n",
    "import matplotlib.pyplot as plt\n",
    "\n",
    "# List of words\n",
    "relevance_words = ['Specific', 'Broad']\n",
    "prompt_words = [\n",
    "    'misreporting', 'underreporting', 'falsifying', 'incorrec', 'mislabeled', 'undisclosed', \n",
    "    'altered', 'hidden', 'false', 'non-disclosed', 'non-compliant', 'undeclared', 'fake', \n",
    "    'unreported', 'inaccurate', 'unrecorded', 'bypassing', 'illegal', 'banned', \n",
    "    'manipulated', 'exceeding', 'unregistered', 'underreported', 'falsified', 'evading', \n",
    "    'hiding', 'doctored', 'contraband', 'altered', 'mislabeled'\n",
    "]\n",
    "\n",
    "def check_words_in_rows(query_drop):\n",
    "    # Initialize a dictionary to count occurrences of each pair\n",
    "    pair_counts = {f\"({p}, {r})\": 0 for p in prompt_words for r in relevance_words}\n",
    "\n",
    "    # Iterate over each row in the DataFrame(query_drop)\n",
    "    for t in range(len(query_drop)):\n",
    "        j_1 = query_drop[\"Prompt\"].iloc[t]\n",
    "        j_2 = query_drop[\"Relevance\"].iloc[t]\n",
    "\n",
    "        # Check each pair of words\n",
    "        for p_word in prompt_words:\n",
    "            for r_word in relevance_words:\n",
    "                if p_word in j_1 and r_word in j_2:\n",
    "                    pair_counts[f\"({p_word}, {r_word})\"] += 1\n",
    "\n",
    "    # Print the counts for each pair\n",
    "    for pair, count in pair_counts.items():\n",
    "        print(f\"The number of pair {pair}: {count}\")\n",
    "\n",
    "    # Plotting\n",
    "    pairs = list(pair_counts.keys())\n",
    "    counts = list(pair_counts.values())\n",
    "\n",
    "    plt.figure(figsize=(12, 8))\n",
    "    plt.barh(pairs, counts, color='skyblue')\n",
    "    plt.xlabel('Count')\n",
    "    plt.ylabel('Word Pairs')\n",
    "    plt.title('Count of Word Pairs in query_drop')\n",
    "    plt.tight_layout()\n",
    "    plt.show()\n",
    "\n",
    "\n",
    "check_words_in_rows(query_drop)\n"
   ]
  },
  {
   "cell_type": "code",
   "execution_count": null,
   "id": "36be3674-df16-4b94-a258-660ebd464c68",
   "metadata": {},
   "outputs": [],
   "source": []
  },
  {
   "cell_type": "code",
   "execution_count": 14,
   "id": "f6cbbe93-a685-48a0-9d78-8c90ee37550c",
   "metadata": {},
   "outputs": [
    {
     "data": {
      "text/html": [
       "<div>\n",
       "<style scoped>\n",
       "    .dataframe tbody tr th:only-of-type {\n",
       "        vertical-align: middle;\n",
       "    }\n",
       "\n",
       "    .dataframe tbody tr th {\n",
       "        vertical-align: top;\n",
       "    }\n",
       "\n",
       "    .dataframe thead th {\n",
       "        text-align: right;\n",
       "    }\n",
       "</style>\n",
       "<table border=\"1\" class=\"dataframe\">\n",
       "  <thead>\n",
       "    <tr style=\"text-align: right;\">\n",
       "      <th></th>\n",
       "      <th>Prompt</th>\n",
       "      <th>Relevance</th>\n",
       "    </tr>\n",
       "  </thead>\n",
       "  <tbody>\n",
       "    <tr>\n",
       "      <th>0</th>\n",
       "      <td>Vessel caught underreporting haddock catch</td>\n",
       "      <td>Broad</td>\n",
       "    </tr>\n",
       "    <tr>\n",
       "      <th>1</th>\n",
       "      <td>Another event of falsifying records</td>\n",
       "      <td>Specific</td>\n",
       "    </tr>\n",
       "    <tr>\n",
       "      <th>2</th>\n",
       "      <td>Mislabeled products found in the market</td>\n",
       "      <td>General</td>\n",
       "    </tr>\n",
       "    <tr>\n",
       "      <th>3</th>\n",
       "      <td>Hiding illegal substances in shipments</td>\n",
       "      <td>Broad</td>\n",
       "    </tr>\n",
       "    <tr>\n",
       "      <th>4</th>\n",
       "      <td>Broad issue with non-disclosed activities</td>\n",
       "      <td>Specific</td>\n",
       "    </tr>\n",
       "  </tbody>\n",
       "</table>\n",
       "</div>"
      ],
      "text/plain": [
       "                                       Prompt Relevance\n",
       "0  Vessel caught underreporting haddock catch     Broad\n",
       "1         Another event of falsifying records  Specific\n",
       "2     Mislabeled products found in the market   General\n",
       "3      Hiding illegal substances in shipments     Broad\n",
       "4   Broad issue with non-disclosed activities  Specific"
      ]
     },
     "execution_count": 14,
     "metadata": {},
     "output_type": "execute_result"
    }
   ],
   "source": [
    "# Example DataFrame\n",
    "data = {\n",
    "    'Prompt': [\n",
    "        'Vessel caught underreporting haddock catch',\n",
    "        'Another event of falsifying records',\n",
    "        'Mislabeled products found in the market',\n",
    "        'Hiding illegal substances in shipments',\n",
    "        'Broad issue with non-disclosed activities'\n",
    "    ],\n",
    "    'Relevance': ['Broad', 'Specific', 'General', 'Broad', 'Specific']\n",
    "}\n",
    "\n",
    "PR = pd.DataFrame(data)\n",
    "PR"
   ]
  },
  {
   "cell_type": "code",
   "execution_count": 36,
   "id": "17588a44-459f-4ee6-98c0-076c718ce6c6",
   "metadata": {},
   "outputs": [
    {
     "name": "stdout",
     "output_type": "stream",
     "text": [
      "Collecting nltk\n",
      "  Using cached nltk-3.8.1-py3-none-any.whl.metadata (2.8 kB)\n",
      "Collecting click (from nltk)\n",
      "  Using cached click-8.1.7-py3-none-any.whl.metadata (3.0 kB)\n",
      "Requirement already satisfied: joblib in ./env/lib/python3.12/site-packages (from nltk) (1.4.0)\n",
      "Collecting regex>=2021.8.3 (from nltk)\n",
      "  Downloading regex-2024.5.15-cp312-cp312-macosx_11_0_arm64.whl.metadata (40 kB)\n",
      "\u001b[2K     \u001b[90m━━━━━━━━━━━━━━━━━━━━━━━━━━━━━━━━━━━━━━━\u001b[0m \u001b[32m40.9/40.9 kB\u001b[0m \u001b[31m559.0 kB/s\u001b[0m eta \u001b[36m0:00:00\u001b[0m \u001b[36m0:00:01\u001b[0m\n",
      "\u001b[?25hCollecting tqdm (from nltk)\n",
      "  Downloading tqdm-4.66.4-py3-none-any.whl.metadata (57 kB)\n",
      "\u001b[2K     \u001b[90m━━━━━━━━━━━━━━━━━━━━━━━━━━━━━━━━━━━━━━━━\u001b[0m \u001b[32m57.6/57.6 kB\u001b[0m \u001b[31m2.4 MB/s\u001b[0m eta \u001b[36m0:00:00\u001b[0m\n",
      "\u001b[?25hUsing cached nltk-3.8.1-py3-none-any.whl (1.5 MB)\n",
      "Downloading regex-2024.5.15-cp312-cp312-macosx_11_0_arm64.whl (278 kB)\n",
      "\u001b[2K   \u001b[90m━━━━━━━━━━━━━━━━━━━━━━━━━━━━━━━━━━━━━━━━\u001b[0m \u001b[32m278.5/278.5 kB\u001b[0m \u001b[31m3.1 MB/s\u001b[0m eta \u001b[36m0:00:00\u001b[0m00:01\u001b[0m00:01\u001b[0m\n",
      "\u001b[?25hUsing cached click-8.1.7-py3-none-any.whl (97 kB)\n",
      "Downloading tqdm-4.66.4-py3-none-any.whl (78 kB)\n",
      "\u001b[2K   \u001b[90m━━━━━━━━━━━━━━━━━━━━━━━━━━━━━━━━━━━━━━━━\u001b[0m \u001b[32m78.3/78.3 kB\u001b[0m \u001b[31m6.8 MB/s\u001b[0m eta \u001b[36m0:00:00\u001b[0m\n",
      "\u001b[?25hInstalling collected packages: tqdm, regex, click, nltk\n",
      "Successfully installed click-8.1.7 nltk-3.8.1 regex-2024.5.15 tqdm-4.66.4\n"
     ]
    }
   ],
   "source": [
    "!pip install nltk"
   ]
  },
  {
   "cell_type": "code",
   "execution_count": 15,
   "id": "fc05ccb0-7e79-4dda-9e9e-a9efddcd9e69",
   "metadata": {},
   "outputs": [
    {
     "name": "stderr",
     "output_type": "stream",
     "text": [
      "[nltk_data] Downloading package wordnet to\n",
      "[nltk_data]     /Users/hivagheisari/nltk_data...\n",
      "[nltk_data]   Package wordnet is already up-to-date!\n",
      "[nltk_data] Downloading package omw-1.4 to\n",
      "[nltk_data]     /Users/hivagheisari/nltk_data...\n",
      "[nltk_data]   Package omw-1.4 is already up-to-date!\n"
     ]
    },
    {
     "data": {
      "text/plain": [
       "True"
      ]
     },
     "execution_count": 15,
     "metadata": {},
     "output_type": "execute_result"
    }
   ],
   "source": [
    "import nltk\n",
    "nltk.download('wordnet')\n",
    "nltk.download('omw-1.4')"
   ]
  },
  {
   "cell_type": "markdown",
   "id": "e484b966-5f2f-4a08-91d6-6045af9f6851",
   "metadata": {},
   "source": [
    "<< Merriam-Webster Thesaurus API >> has better packages!"
   ]
  },
  {
   "cell_type": "markdown",
   "id": "3f26bd4a-c451-4791-a680-08bcda8b5705",
   "metadata": {},
   "source": [
    "**I wanna find synonyms and collocations that may be used instead of our keyword + the other form of the keywords like the past tense or adj, adv form of the keywords.**\n",
    "\n",
    "prompt_words = ['misreporting', 'underreporting', 'falsifying', 'incorrec', 'mislabeled', 'undisclosed', \n",
    "    'altered', 'hidden', 'false', 'non-disclosed', 'non-compliant', 'undeclared', 'fake', \n",
    "    'unreported', 'inaccurate', 'unrecorded', 'bypassing', 'illegal', 'banned', \n",
    "    'manipulated', 'exceeding', 'unregistered', 'underreported', 'falsified', 'evading', \n",
    "    'hiding', 'doctored', 'contraband', 'altered', 'mislabeled'\n",
    "]"
   ]
  },
  {
   "cell_type": "markdown",
   "id": "fb2597dc-697d-453b-8b21-1f7f8c0b90df",
   "metadata": {},
   "source": [
    "### In Progress..."
   ]
  },
  {
   "cell_type": "code",
   "execution_count": 215,
   "id": "776b4be8-6203-4986-8959-131d4b6881b9",
   "metadata": {},
   "outputs": [
    {
     "name": "stdout",
     "output_type": "stream",
     "text": [
      "set()\n"
     ]
    }
   ],
   "source": [
    "from nltk.corpus import wordnet\n",
    "\n",
    "# Get synonyms for a word\n",
    "def get_synonyms(word):\n",
    "    synonyms = set()\n",
    "    for syn in wordnet.synsets(word):\n",
    "        for lemma in syn.lemmas():\n",
    "            synonyms.add(lemma.name())\n",
    "    return synonyms\n",
    "\n",
    "word = \"misreporting\"\n",
    "synonyms = get_synonyms(word)\n",
    "print(synonyms)"
   ]
  },
  {
   "cell_type": "markdown",
   "id": "06563b61-776a-4bc1-9b4c-c219749dd4cf",
   "metadata": {},
   "source": [
    "****************************************\n",
    "**********************\n",
    "**************"
   ]
  },
  {
   "cell_type": "markdown",
   "id": "74ef62e5-e1d9-4c02-a8b8-355d24828a73",
   "metadata": {},
   "source": [
    "**This function retrieves the synonyms of the given query word:** "
   ]
  },
  {
   "cell_type": "code",
   "execution_count": 122,
   "id": "4a94498e-8272-4ab3-8a16-b20cfab59833",
   "metadata": {},
   "outputs": [
    {
     "name": "stdout",
     "output_type": "stream",
     "text": [
      "Synonyms for report: ['account', 'paper', 'cover', 'study', 'story', 'composition', 'describe', 'theme', 'reputation', 'turn in', 'write up', 'report card', 'news report']\n"
     ]
    },
    {
     "data": {
      "text/plain": [
       "13"
      ]
     },
     "execution_count": 122,
     "metadata": {},
     "output_type": "execute_result"
    }
   ],
   "source": [
    "import requests\n",
    "\n",
    "def get_synonyms(word):\n",
    "    url = f\"https://api.datamuse.com/words?rel_syn={word}\"\n",
    "    response = requests.get(url)\n",
    "    if response.status_code == 200:\n",
    "        data = response.json()\n",
    "        synonyms = [entry['word'] for entry in data]\n",
    "        return synonyms\n",
    "    else:\n",
    "        print(\"Error:\", response.status_code)\n",
    "        return []\n",
    "\n",
    "word = \"report\"\n",
    "synonyms = get_synonyms(word)\n",
    "print(\"Synonyms for\", word + \":\", synonyms)\n",
    "len(synonyms)"
   ]
  },
  {
   "cell_type": "markdown",
   "id": "67e0aeb1-ae93-49dc-93d8-8259d59ee467",
   "metadata": {},
   "source": [
    "**This function retrieves words with meanings similar to the given query word:** "
   ]
  },
  {
   "cell_type": "code",
   "execution_count": 79,
   "id": "dacbe4fb-abf1-4e74-b413-684bedee1993",
   "metadata": {},
   "outputs": [],
   "source": [
    "import requests\n",
    "\n",
    "def get_related_words(word):\n",
    "    url = f\"https://api.datamuse.com/words?ml={word}\"\n",
    "    response = requests.get(url)\n",
    "    \n",
    "    if response.status_code == 200:\n",
    "        data = response.json()\n",
    "        related_words = [entry['word'] for entry in data]\n",
    "        return related_words\n",
    "    else:\n",
    "        print(\"Error:\", response.status_code)\n",
    "        return []"
   ]
  },
  {
   "cell_type": "code",
   "execution_count": 127,
   "id": "4ec1b4a8-1309-44d4-95e9-a30929419019",
   "metadata": {},
   "outputs": [
    {
     "name": "stdout",
     "output_type": "stream",
     "text": [
      "Words related to false: ['mendacious', 'untrue', 'insincere', 'wrong', 'dishonorable', 'specious', 'faux', 'treasonably', 'sham', 'faithlessly', 'incorrect', 'off-key', 'fake', 'traitorously', 'inharmonious', 'trumped-up', 'inconstant', 'treacherously', 'mistaken', 'artificial', 'invalid', 'unharmonious', 'assumed', 'pretended', 'unreal', 'counterfeit', 'simulated', 'delusive', 'dishonest', 'fictitious', 'imitative', 'imitation', 'fictive', 'unrealistic', 'sour', 'hollow', 'put on', 'bogus', 'erroneous', 'falsey', 'true', 'fraudulent', 'falsehood', 'spurious', 'misleading', 'falsity', 'fals', 'deceptive', 'falsified', 'baseless', 'phony', 'untruthful', 'inaccurate', 'unsubstantiated', 'misrepresentative', 'illusory', 'unverifiable', 'misrepresentation', 'delusory', 'fallacious', 'falsehoods', 'exaggerations', 'unfounded', 'perjurious', 'pretenses', 'illusionary', 'exaggerated', 'falsities', 'falso', 'deceitful', 'unsupportable', 'misrepresentations', 'dubious', 'factitious', 'falsify', 'negative', 'untruth', 'exaggerative', 'ungenuine', 'falsification', 'falsifying', 'nonsense', 'faked', 'contradicting', 'truthful', 'absurd', 'falsifications', 'slanderous', 'nonfactual', 'erroneousness', 'unplausible', 'falsifies', 'nonexisting', 'pretences', 'illusional', 'accusation', 'ridiculous', 'fatuous', 'falsifier', 'ludicrous']\n"
     ]
    },
    {
     "data": {
      "text/plain": [
       "100"
      ]
     },
     "execution_count": 127,
     "metadata": {},
     "output_type": "execute_result"
    }
   ],
   "source": [
    "word = \"false\"\n",
    "related_words = get_related_words(word)\n",
    "print(\"Words related to\", word + \":\", related_words)\n",
    "len(related_words)"
   ]
  },
  {
   "cell_type": "code",
   "execution_count": 128,
   "id": "2b3cf822-72ff-4dd0-a45b-64f0abffbc53",
   "metadata": {},
   "outputs": [],
   "source": [
    "import requests\n",
    "\n",
    "def get_related_words(word, limit=50):\n",
    "    url = f\"https://api.datamuse.com/words?ml={word}\"\n",
    "    response = requests.get(url)\n",
    "    \n",
    "    if response.status_code == 200:\n",
    "        data = response.json()\n",
    "        related_words = [entry['word'] for entry in data[:limit]]\n",
    "        return related_words\n",
    "    else:\n",
    "        print(\"Error:\", response.status_code)\n",
    "        return []"
   ]
  },
  {
   "cell_type": "code",
   "execution_count": 129,
   "id": "a77ee731-2954-48ff-b3ff-eb19c92d0d69",
   "metadata": {},
   "outputs": [
    {
     "name": "stdout",
     "output_type": "stream",
     "text": [
      "Words related to false: ['mendacious', 'untrue', 'insincere', 'wrong', 'dishonorable', 'specious', 'faux', 'treasonably', 'sham', 'faithlessly', 'incorrect', 'off-key', 'fake', 'traitorously', 'inharmonious', 'trumped-up', 'inconstant', 'treacherously', 'mistaken', 'artificial', 'invalid', 'unharmonious', 'assumed', 'pretended', 'unreal', 'counterfeit', 'simulated', 'delusive', 'dishonest', 'fictitious', 'imitative', 'imitation', 'fictive', 'unrealistic', 'sour', 'hollow', 'put on', 'bogus', 'erroneous', 'falsey', 'true', 'fraudulent', 'falsehood', 'spurious', 'misleading', 'falsity', 'fals', 'deceptive', 'falsified', 'baseless']\n"
     ]
    },
    {
     "data": {
      "text/plain": [
       "50"
      ]
     },
     "execution_count": 129,
     "metadata": {},
     "output_type": "execute_result"
    }
   ],
   "source": [
    "word = \"false\"\n",
    "related_words = get_related_words(word)\n",
    "print(\"Words related to\", word + \":\", related_words)\n",
    "len(related_words)"
   ]
  },
  {
   "cell_type": "code",
   "execution_count": 130,
   "id": "1d8bebb3-2f11-41b5-90dd-111eec6fdef7",
   "metadata": {},
   "outputs": [],
   "source": [
    "import requests\n",
    "\n",
    "def get_related_words(word, limit=50, topics=None):\n",
    "    # Construct the URL with additional parameters for optimization\n",
    "    url = f\"https://api.datamuse.com/words?ml={word}&max={limit}\"\n",
    "    \n",
    "    if topics:\n",
    "        url += f\"&topics={topics}\"\n",
    "    \n",
    "    response = requests.get(url)\n",
    "    \n",
    "    if response.status_code == 200:\n",
    "        data = response.json()\n",
    "        related_words = [entry['word'] for entry in data]\n",
    "        return related_words\n",
    "    else:\n",
    "        print(\"Error:\", response.status_code)\n",
    "        return []\n",
    "\n",
    "def check_word_in_list(word, word_list):\n",
    "    if word in word_list:\n",
    "        return f\"'{word}' is in the list.\"\n",
    "    else:\n",
    "        return f\"'{word}' is not in the list.\"\n"
   ]
  },
  {
   "cell_type": "code",
   "execution_count": 220,
   "id": "113cb5c2-5b97-430e-b4ac-00e8fcc4ea5e",
   "metadata": {},
   "outputs": [
    {
     "name": "stdout",
     "output_type": "stream",
     "text": [
      "[('imitation', []), ('imitative', []), ('falsehood', []), ('falsity', []), ('dishonest', []), ('mendacious', []), ('unreal', []), ('sham', []), ('delusive', []), ('assumed', []), ('insincere', []), ('pretended', []), ('fraudulent', []), ('artificial', []), ('untrue', []), ('wrong', []), ('hollow', []), ('put on', []), ('counterfeit', []), ('bogus', []), ('dishonorable', []), ('simulated', []), ('faux', []), ('erroneous', []), ('deceptive', []), ('specious', []), ('baseless', []), ('misleading', []), ('unrealistic', []), ('true', []), ('falsified', []), ('fictive', []), ('spurious', []), ('invalid', []), ('fictitious', []), ('mistaken', []), ('sour', []), ('fake', []), ('incorrect', []), ('inconstant', []), ('treacherously', []), ('treasonably', []), ('faithlessly', []), ('off-key', []), ('traitorously', []), ('inharmonious', []), ('trumped-up', []), ('unharmonious', []), ('falsey', []), ('fals', [])]\n"
     ]
    }
   ],
   "source": [
    "word = \"false\"\n",
    "related_words = get_related_words(word, topics=\"education,teaching\")\n",
    "print(related_words)"
   ]
  },
  {
   "cell_type": "code",
   "execution_count": 222,
   "id": "d3a1ca98-ea72-48e1-9dae-b50bb5d6afb4",
   "metadata": {},
   "outputs": [
    {
     "name": "stdout",
     "output_type": "stream",
     "text": [
      "'falsify' is not in the list.\n"
     ]
    }
   ],
   "source": [
    "related_words = get_related_words(word, topics=\"education,teaching\")\n",
    "word_to_check = \"falsify\"\n",
    "print(check_word_in_list(word_to_check, related_words))"
   ]
  },
  {
   "cell_type": "code",
   "execution_count": 136,
   "id": "04d5a862-9593-4d1b-b676-5d8bb0befe30",
   "metadata": {},
   "outputs": [],
   "source": [
    "import requests\n",
    "\n",
    "def get_related_words(word, limit=100, topics=None):\n",
    "    url = f\"https://api.datamuse.com/words?ml={word}&max={limit}\"\n",
    "    \n",
    "    if topics:\n",
    "        url += f\"&topics={topics}\"\n",
    "    \n",
    "    response = requests.get(url)\n",
    "    \n",
    "    if response.status_code == 200:\n",
    "        data = response.json()\n",
    "        related_words = [entry['word'] for entry in data]\n",
    "        return related_words\n",
    "    else:\n",
    "        print(\"Error:\", response.status_code)\n",
    "        return []\n",
    "\n",
    "def check_word_in_list(word, word_list):\n",
    "    if word in word_list:\n",
    "        return f\"'{word}' is in the list.\"\n",
    "    else:\n",
    "        return f\"'{word}' is not in the list.\""
   ]
  },
  {
   "cell_type": "code",
   "execution_count": 223,
   "id": "e9bc5f72-860f-483f-b163-b50ad7bae1b7",
   "metadata": {},
   "outputs": [
    {
     "name": "stdout",
     "output_type": "stream",
     "text": [
      "'falsifying' is not in the list.\n"
     ]
    }
   ],
   "source": [
    "word = \"false\"\n",
    "related_words = get_related_words(word, topics=\"education,learning\")\n",
    "word_to_check = \"falsifying\"\n",
    "\n",
    "print(check_word_in_list(word_to_check, related_words))"
   ]
  },
  {
   "cell_type": "code",
   "execution_count": 138,
   "id": "d494cf12-428f-41d2-a1fb-93013600151e",
   "metadata": {},
   "outputs": [],
   "source": [
    "import requests\n",
    "\n",
    "def get_related_words(word, limit=50, topics=None):\n",
    "    url = f\"https://api.datamuse.com/words?ml={word}&max={limit}&md=f\"  # Adding 'md=f' to get word forms\n",
    "    \n",
    "    if topics:\n",
    "        url += f\"&topics={topics}\"\n",
    "    \n",
    "    response = requests.get(url)\n",
    "    \n",
    "    if response.status_code == 200:\n",
    "        data = response.json()\n",
    "        related_words = [(entry['word'], entry.get('forms', [])) for entry in data]  # Including word forms\n",
    "        return related_words\n",
    "    else:\n",
    "        print(\"Error:\", response.status_code)\n",
    "        return []"
   ]
  },
  {
   "cell_type": "code",
   "execution_count": 139,
   "id": "064b5a10-c729-4b4e-abf7-ef5ff8a4d05d",
   "metadata": {},
   "outputs": [
    {
     "name": "stdout",
     "output_type": "stream",
     "text": [
      "Word: mendacious, Forms: []\n",
      "Word: untrue, Forms: []\n",
      "Word: insincere, Forms: []\n",
      "Word: wrong, Forms: []\n",
      "Word: dishonorable, Forms: []\n",
      "Word: specious, Forms: []\n",
      "Word: faux, Forms: []\n",
      "Word: treasonably, Forms: []\n",
      "Word: sham, Forms: []\n",
      "Word: faithlessly, Forms: []\n",
      "Word: incorrect, Forms: []\n",
      "Word: off-key, Forms: []\n",
      "Word: fake, Forms: []\n",
      "Word: traitorously, Forms: []\n",
      "Word: inharmonious, Forms: []\n",
      "Word: trumped-up, Forms: []\n",
      "Word: inconstant, Forms: []\n",
      "Word: treacherously, Forms: []\n",
      "Word: mistaken, Forms: []\n",
      "Word: artificial, Forms: []\n",
      "Word: invalid, Forms: []\n",
      "Word: unharmonious, Forms: []\n",
      "Word: assumed, Forms: []\n",
      "Word: pretended, Forms: []\n",
      "Word: unreal, Forms: []\n",
      "Word: counterfeit, Forms: []\n",
      "Word: simulated, Forms: []\n",
      "Word: delusive, Forms: []\n",
      "Word: dishonest, Forms: []\n",
      "Word: fictitious, Forms: []\n",
      "Word: imitative, Forms: []\n",
      "Word: imitation, Forms: []\n",
      "Word: fictive, Forms: []\n",
      "Word: unrealistic, Forms: []\n",
      "Word: sour, Forms: []\n",
      "Word: hollow, Forms: []\n",
      "Word: put on, Forms: []\n",
      "Word: bogus, Forms: []\n",
      "Word: erroneous, Forms: []\n",
      "Word: falsey, Forms: []\n",
      "Word: true, Forms: []\n",
      "Word: fraudulent, Forms: []\n",
      "Word: falsehood, Forms: []\n",
      "Word: spurious, Forms: []\n",
      "Word: misleading, Forms: []\n",
      "Word: falsity, Forms: []\n",
      "Word: fals, Forms: []\n",
      "Word: deceptive, Forms: []\n",
      "Word: falsified, Forms: []\n",
      "Word: baseless, Forms: []\n"
     ]
    }
   ],
   "source": [
    "# Example usage\n",
    "word = \"false\"\n",
    "related_words = get_related_words(word)\n",
    "for word, forms in related_words:\n",
    "    print(f\"Word: {word}, Forms: {forms}\")"
   ]
  },
  {
   "cell_type": "code",
   "execution_count": 140,
   "id": "7792d849-3fc9-4e35-a84a-fb7482ac22fd",
   "metadata": {},
   "outputs": [],
   "source": [
    "import requests\n",
    "\n",
    "def get_related_word_forms(word, limit=50):\n",
    "    url = f\"https://api.datamuse.com/words?ml={word}&max={limit}&md=f\"\n",
    "    \n",
    "    response = requests.get(url)\n",
    "    \n",
    "    if response.status_code == 200:\n",
    "        data = response.json()\n",
    "        related_words = [(entry['word'], entry.get('forms', [])) for entry in data]\n",
    "        \n",
    "        # Filter out only the forms related to the root word\n",
    "        filtered_words = []\n",
    "        for word, forms in related_words:\n",
    "            if word.startswith('fals'):\n",
    "                filtered_words.append((word, forms))\n",
    "        \n",
    "        return filtered_words\n",
    "    else:\n",
    "        print(\"Error:\", response.status_code)\n",
    "        return []"
   ]
  },
  {
   "cell_type": "code",
   "execution_count": 142,
   "id": "7f767ac5-b240-43ee-8464-d18b416819a1",
   "metadata": {},
   "outputs": [
    {
     "name": "stdout",
     "output_type": "stream",
     "text": [
      "Word: falsey, Forms: []\n",
      "Word: falsehood, Forms: []\n",
      "Word: falsity, Forms: []\n",
      "Word: fals, Forms: []\n",
      "Word: falsified, Forms: []\n"
     ]
    }
   ],
   "source": [
    "word = \"false\"\n",
    "related_words = get_related_word_forms(word)\n",
    "for word, forms in related_words:\n",
    "    print(f\"Word: {word}, Forms: {forms}\")\n"
   ]
  },
  {
   "cell_type": "code",
   "execution_count": 144,
   "id": "2a88947a-45a6-4009-8c81-0b9570d09f9f",
   "metadata": {},
   "outputs": [
    {
     "name": "stdout",
     "output_type": "stream",
     "text": [
      "Collecting inflect\n",
      "  Downloading inflect-7.2.1-py3-none-any.whl.metadata (21 kB)\n",
      "Collecting more-itertools (from inflect)\n",
      "  Downloading more_itertools-10.3.0-py3-none-any.whl.metadata (36 kB)\n",
      "Collecting typeguard>=4.0.1 (from inflect)\n",
      "  Downloading typeguard-4.3.0-py3-none-any.whl.metadata (3.7 kB)\n",
      "Requirement already satisfied: typing-extensions in ./env/lib/python3.12/site-packages (from inflect) (4.11.0)\n",
      "Downloading inflect-7.2.1-py3-none-any.whl (34 kB)\n",
      "Downloading typeguard-4.3.0-py3-none-any.whl (35 kB)\n",
      "Downloading more_itertools-10.3.0-py3-none-any.whl (59 kB)\n",
      "\u001b[2K   \u001b[90m━━━━━━━━━━━━━━━━━━━━━━━━━━━━━━━━━━━━━━━━\u001b[0m \u001b[32m59.2/59.2 kB\u001b[0m \u001b[31m4.6 MB/s\u001b[0m eta \u001b[36m0:00:00\u001b[0m\n",
      "\u001b[?25hInstalling collected packages: typeguard, more-itertools, inflect\n",
      "Successfully installed inflect-7.2.1 more-itertools-10.3.0 typeguard-4.3.0\n"
     ]
    }
   ],
   "source": [
    "!pip install inflect"
   ]
  },
  {
   "cell_type": "code",
   "execution_count": 145,
   "id": "bf7544ad-a47b-4896-aff0-66f5ec4a7ddd",
   "metadata": {},
   "outputs": [],
   "source": [
    "import requests\n",
    "import inflect\n",
    "\n",
    "def get_related_word_forms(word, limit=50):\n",
    "    p = inflect.engine()\n",
    "    \n",
    "    # Fetch related words from Datamuse API\n",
    "    url = f\"https://api.datamuse.com/words?ml={word}&max={limit}&md=f\"\n",
    "    response = requests.get(url)\n",
    "    \n",
    "    if response.status_code == 200:\n",
    "        data = response.json()\n",
    "        related_words = [(entry['word'], entry.get('forms', [])) for entry in data]\n",
    "        \n",
    "        # Include inflected forms of the base word\n",
    "        inflected_forms = [\n",
    "            p.present_participle(word),\n",
    "            p.past(word),\n",
    "            p.plural(word)\n",
    "        ]\n",
    "        \n",
    "        # Filter and add unique forms\n",
    "        filtered_words = []\n",
    "        seen_words = set()\n",
    "        for word, forms in related_words:\n",
    "            if word.startswith('fals'):\n",
    "                if word not in seen_words:\n",
    "                    filtered_words.append((word, forms))\n",
    "                    seen_words.add(word)\n",
    "                for form in forms:\n",
    "                    if form.startswith('fals') and form not in seen_words:\n",
    "                        filtered_words.append((form, []))\n",
    "                        seen_words.add(form)\n",
    "        \n",
    "        # Add manually generated inflected forms\n",
    "        for form in inflected_forms:\n",
    "            if form.startswith('fals') and form not in seen_words:\n",
    "                filtered_words.append((form, []))\n",
    "                seen_words.add(form)\n",
    "        \n",
    "        return filtered_words\n",
    "    else:\n",
    "        print(\"Error:\", response.status_code)\n",
    "        return []\n",
    "\n"
   ]
  },
  {
   "cell_type": "code",
   "execution_count": 146,
   "id": "f48c5946-7aa5-401e-a606-d43b5b11b33f",
   "metadata": {},
   "outputs": [
    {
     "ename": "AttributeError",
     "evalue": "'engine' object has no attribute 'past'",
     "output_type": "error",
     "traceback": [
      "\u001b[0;31m---------------------------------------------------------------------------\u001b[0m",
      "\u001b[0;31mAttributeError\u001b[0m                            Traceback (most recent call last)",
      "Cell \u001b[0;32mIn[146], line 3\u001b[0m\n\u001b[1;32m      1\u001b[0m \u001b[38;5;66;03m# Example usage\u001b[39;00m\n\u001b[1;32m      2\u001b[0m word \u001b[38;5;241m=\u001b[39m \u001b[38;5;124m\"\u001b[39m\u001b[38;5;124mfalsify\u001b[39m\u001b[38;5;124m\"\u001b[39m\n\u001b[0;32m----> 3\u001b[0m related_words \u001b[38;5;241m=\u001b[39m get_related_word_forms(word)\n\u001b[1;32m      4\u001b[0m \u001b[38;5;28;01mfor\u001b[39;00m word, forms \u001b[38;5;129;01min\u001b[39;00m related_words:\n\u001b[1;32m      5\u001b[0m     \u001b[38;5;28mprint\u001b[39m(\u001b[38;5;124mf\u001b[39m\u001b[38;5;124m\"\u001b[39m\u001b[38;5;124mWord: \u001b[39m\u001b[38;5;132;01m{\u001b[39;00mword\u001b[38;5;132;01m}\u001b[39;00m\u001b[38;5;124m, Forms: \u001b[39m\u001b[38;5;132;01m{\u001b[39;00mforms\u001b[38;5;132;01m}\u001b[39;00m\u001b[38;5;124m\"\u001b[39m)\n",
      "Cell \u001b[0;32mIn[145], line 18\u001b[0m, in \u001b[0;36mget_related_word_forms\u001b[0;34m(word, limit)\u001b[0m\n\u001b[1;32m     13\u001b[0m related_words \u001b[38;5;241m=\u001b[39m [(entry[\u001b[38;5;124m'\u001b[39m\u001b[38;5;124mword\u001b[39m\u001b[38;5;124m'\u001b[39m], entry\u001b[38;5;241m.\u001b[39mget(\u001b[38;5;124m'\u001b[39m\u001b[38;5;124mforms\u001b[39m\u001b[38;5;124m'\u001b[39m, [])) \u001b[38;5;28;01mfor\u001b[39;00m entry \u001b[38;5;129;01min\u001b[39;00m data]\n\u001b[1;32m     15\u001b[0m \u001b[38;5;66;03m# Include inflected forms of the base word\u001b[39;00m\n\u001b[1;32m     16\u001b[0m inflected_forms \u001b[38;5;241m=\u001b[39m [\n\u001b[1;32m     17\u001b[0m     p\u001b[38;5;241m.\u001b[39mpresent_participle(word),\n\u001b[0;32m---> 18\u001b[0m     p\u001b[38;5;241m.\u001b[39mpast(word),\n\u001b[1;32m     19\u001b[0m     p\u001b[38;5;241m.\u001b[39mplural(word)\n\u001b[1;32m     20\u001b[0m ]\n\u001b[1;32m     22\u001b[0m \u001b[38;5;66;03m# Filter and add unique forms\u001b[39;00m\n\u001b[1;32m     23\u001b[0m filtered_words \u001b[38;5;241m=\u001b[39m []\n",
      "\u001b[0;31mAttributeError\u001b[0m: 'engine' object has no attribute 'past'"
     ]
    }
   ],
   "source": [
    "# Example usage\n",
    "word = \"falsify\"\n",
    "related_words = get_related_word_forms(word)\n",
    "for word, forms in related_words:\n",
    "    print(f\"Word: {word}, Forms: {forms}\")\n"
   ]
  },
  {
   "cell_type": "code",
   "execution_count": 152,
   "id": "bdeee806-9fd7-4704-9e4c-12ec6f3cb978",
   "metadata": {},
   "outputs": [],
   "source": [
    "#!pip install pattern"
   ]
  },
  {
   "cell_type": "code",
   "execution_count": null,
   "id": "cc58b031-546c-4490-81b5-f6f4e9fe7aa3",
   "metadata": {},
   "outputs": [],
   "source": [
    "# did not work since the pattern does not have a past attribute so I changed the approach!\n",
    "\n",
    "import requests\n",
    "from pattern.en import conjugate, lemma, lexeme\n",
    "\n",
    "def get_related_word_forms(word, limit=50):\n",
    "    # Fetch related words from Datamuse API\n",
    "    url = f\"https://api.datamuse.com/words?ml={word}&max={limit}&md=f\"\n",
    "    response = requests.get(url)\n",
    "    \n",
    "    if response.status_code == 200:\n",
    "        data = response.json()\n",
    "        related_words = [(entry['word'], entry.get('forms', [])) for entry in data]\n",
    "        \n",
    "        # Include inflected forms of the base word using pattern\n",
    "        inflected_forms = lexeme(word)\n",
    "        \n",
    "        # Filter and add unique forms\n",
    "        filtered_words = []\n",
    "        seen_words = set()\n",
    "        for word, forms in related_words:\n",
    "            if word.startswith('fals'):\n",
    "                if word not in seen_words:\n",
    "                    filtered_words.append((word, forms))\n",
    "                    seen_words.add(word)\n",
    "                for form in forms:\n",
    "                    if form.startswith('fals') and form not in seen_words:\n",
    "                        filtered_words.append((form, []))\n",
    "                        seen_words.add(form)\n",
    "        \n",
    "        # Add manually generated inflected forms\n",
    "        for form in inflected_forms:\n",
    "            if form.startswith('fals') and form not in seen_words:\n",
    "                filtered_words.append((form, []))\n",
    "                seen_words.add(form)\n",
    "        \n",
    "        return filtered_words\n",
    "    else:\n",
    "        print(\"Error:\", response.status_code)\n",
    "        return []\n"
   ]
  },
  {
   "cell_type": "code",
   "execution_count": null,
   "id": "57f63bdb-6efb-4f28-9ecc-1c8547bc95af",
   "metadata": {},
   "outputs": [],
   "source": [
    "# did not work!\n",
    "word = \"false\"\n",
    "related_words = get_related_word_forms(word)\n",
    "for word, forms in related_words:\n",
    "    print(f\"Word: {word}, Forms: {forms}\")"
   ]
  },
  {
   "cell_type": "code",
   "execution_count": 153,
   "id": "f9e104b4-a54c-41a6-b2c0-220e6b90fdcb",
   "metadata": {},
   "outputs": [
    {
     "name": "stdout",
     "output_type": "stream",
     "text": [
      "Collecting spacy\n",
      "  Downloading spacy-3.7.5-cp312-cp312-macosx_11_0_arm64.whl.metadata (27 kB)\n",
      "Collecting spacy-legacy<3.1.0,>=3.0.11 (from spacy)\n",
      "  Downloading spacy_legacy-3.0.12-py2.py3-none-any.whl.metadata (2.8 kB)\n",
      "Collecting spacy-loggers<2.0.0,>=1.0.0 (from spacy)\n",
      "  Downloading spacy_loggers-1.0.5-py3-none-any.whl.metadata (23 kB)\n",
      "Collecting murmurhash<1.1.0,>=0.28.0 (from spacy)\n",
      "  Downloading murmurhash-1.0.10-cp312-cp312-macosx_11_0_arm64.whl.metadata (2.0 kB)\n",
      "Collecting cymem<2.1.0,>=2.0.2 (from spacy)\n",
      "  Downloading cymem-2.0.8-cp312-cp312-macosx_11_0_arm64.whl.metadata (8.4 kB)\n",
      "Collecting preshed<3.1.0,>=3.0.2 (from spacy)\n",
      "  Downloading preshed-3.0.9-cp312-cp312-macosx_11_0_arm64.whl.metadata (2.2 kB)\n",
      "Collecting thinc<8.3.0,>=8.2.2 (from spacy)\n",
      "  Downloading thinc-8.2.4-cp312-cp312-macosx_11_0_arm64.whl.metadata (15 kB)\n",
      "Collecting wasabi<1.2.0,>=0.9.1 (from spacy)\n",
      "  Downloading wasabi-1.1.3-py3-none-any.whl.metadata (28 kB)\n",
      "Collecting srsly<3.0.0,>=2.4.3 (from spacy)\n",
      "  Downloading srsly-2.4.8-cp312-cp312-macosx_11_0_arm64.whl.metadata (20 kB)\n",
      "Collecting catalogue<2.1.0,>=2.0.6 (from spacy)\n",
      "  Downloading catalogue-2.0.10-py3-none-any.whl.metadata (14 kB)\n",
      "Collecting weasel<0.5.0,>=0.1.0 (from spacy)\n",
      "  Downloading weasel-0.4.1-py3-none-any.whl.metadata (4.6 kB)\n",
      "Collecting typer<1.0.0,>=0.3.0 (from spacy)\n",
      "  Downloading typer-0.12.3-py3-none-any.whl.metadata (15 kB)\n",
      "Requirement already satisfied: tqdm<5.0.0,>=4.38.0 in ./env/lib/python3.12/site-packages (from spacy) (4.66.4)\n",
      "Requirement already satisfied: requests<3.0.0,>=2.13.0 in ./env/lib/python3.12/site-packages (from spacy) (2.32.2)\n",
      "Collecting pydantic!=1.8,!=1.8.1,<3.0.0,>=1.7.4 (from spacy)\n",
      "  Downloading pydantic-2.7.4-py3-none-any.whl.metadata (109 kB)\n",
      "\u001b[2K     \u001b[90m━━━━━━━━━━━━━━━━━━━━━━━━━━━━━━━━━━━━━━━\u001b[0m \u001b[32m109.4/109.4 kB\u001b[0m \u001b[31m3.0 MB/s\u001b[0m eta \u001b[36m0:00:00\u001b[0m\n",
      "\u001b[?25hRequirement already satisfied: jinja2 in ./env/lib/python3.12/site-packages (from spacy) (3.1.4)\n",
      "Requirement already satisfied: setuptools in ./env/lib/python3.12/site-packages (from spacy) (69.5.1)\n",
      "Requirement already satisfied: packaging>=20.0 in ./env/lib/python3.12/site-packages (from spacy) (23.2)\n",
      "Collecting langcodes<4.0.0,>=3.2.0 (from spacy)\n",
      "  Downloading langcodes-3.4.0-py3-none-any.whl.metadata (29 kB)\n",
      "Requirement already satisfied: numpy>=1.19.0 in ./env/lib/python3.12/site-packages (from spacy) (1.26.4)\n",
      "Collecting language-data>=1.2 (from langcodes<4.0.0,>=3.2.0->spacy)\n",
      "  Downloading language_data-1.2.0-py3-none-any.whl.metadata (4.3 kB)\n",
      "Collecting annotated-types>=0.4.0 (from pydantic!=1.8,!=1.8.1,<3.0.0,>=1.7.4->spacy)\n",
      "  Downloading annotated_types-0.7.0-py3-none-any.whl.metadata (15 kB)\n",
      "Collecting pydantic-core==2.18.4 (from pydantic!=1.8,!=1.8.1,<3.0.0,>=1.7.4->spacy)\n",
      "  Downloading pydantic_core-2.18.4-cp312-cp312-macosx_11_0_arm64.whl.metadata (6.5 kB)\n",
      "Requirement already satisfied: typing-extensions>=4.6.1 in ./env/lib/python3.12/site-packages (from pydantic!=1.8,!=1.8.1,<3.0.0,>=1.7.4->spacy) (4.11.0)\n",
      "Requirement already satisfied: charset-normalizer<4,>=2 in ./env/lib/python3.12/site-packages (from requests<3.0.0,>=2.13.0->spacy) (2.0.4)\n",
      "Requirement already satisfied: idna<4,>=2.5 in ./env/lib/python3.12/site-packages (from requests<3.0.0,>=2.13.0->spacy) (3.7)\n",
      "Requirement already satisfied: urllib3<3,>=1.21.1 in ./env/lib/python3.12/site-packages (from requests<3.0.0,>=2.13.0->spacy) (2.2.1)\n",
      "Requirement already satisfied: certifi>=2017.4.17 in ./env/lib/python3.12/site-packages (from requests<3.0.0,>=2.13.0->spacy) (2024.6.2)\n",
      "Collecting blis<0.8.0,>=0.7.8 (from thinc<8.3.0,>=8.2.2->spacy)\n",
      "  Downloading blis-0.7.11-cp312-cp312-macosx_11_0_arm64.whl.metadata (7.4 kB)\n",
      "Collecting confection<1.0.0,>=0.0.1 (from thinc<8.3.0,>=8.2.2->spacy)\n",
      "  Downloading confection-0.1.5-py3-none-any.whl.metadata (19 kB)\n",
      "Requirement already satisfied: click>=8.0.0 in ./env/lib/python3.12/site-packages (from typer<1.0.0,>=0.3.0->spacy) (8.1.7)\n",
      "Collecting shellingham>=1.3.0 (from typer<1.0.0,>=0.3.0->spacy)\n",
      "  Downloading shellingham-1.5.4-py2.py3-none-any.whl.metadata (3.5 kB)\n",
      "Collecting rich>=10.11.0 (from typer<1.0.0,>=0.3.0->spacy)\n",
      "  Downloading rich-13.7.1-py3-none-any.whl.metadata (18 kB)\n",
      "Collecting cloudpathlib<1.0.0,>=0.7.0 (from weasel<0.5.0,>=0.1.0->spacy)\n",
      "  Downloading cloudpathlib-0.18.1-py3-none-any.whl.metadata (14 kB)\n",
      "Collecting smart-open<8.0.0,>=5.2.1 (from weasel<0.5.0,>=0.1.0->spacy)\n",
      "  Downloading smart_open-7.0.4-py3-none-any.whl.metadata (23 kB)\n",
      "Requirement already satisfied: MarkupSafe>=2.0 in ./env/lib/python3.12/site-packages (from jinja2->spacy) (2.1.3)\n",
      "Collecting marisa-trie>=0.7.7 (from language-data>=1.2->langcodes<4.0.0,>=3.2.0->spacy)\n",
      "  Downloading marisa_trie-1.2.0-cp312-cp312-macosx_11_0_arm64.whl.metadata (8.7 kB)\n",
      "Collecting markdown-it-py>=2.2.0 (from rich>=10.11.0->typer<1.0.0,>=0.3.0->spacy)\n",
      "  Downloading markdown_it_py-3.0.0-py3-none-any.whl.metadata (6.9 kB)\n",
      "Requirement already satisfied: pygments<3.0.0,>=2.13.0 in ./env/lib/python3.12/site-packages (from rich>=10.11.0->typer<1.0.0,>=0.3.0->spacy) (2.15.1)\n",
      "Collecting wrapt (from smart-open<8.0.0,>=5.2.1->weasel<0.5.0,>=0.1.0->spacy)\n",
      "  Downloading wrapt-1.16.0-cp312-cp312-macosx_11_0_arm64.whl.metadata (6.6 kB)\n",
      "Collecting mdurl~=0.1 (from markdown-it-py>=2.2.0->rich>=10.11.0->typer<1.0.0,>=0.3.0->spacy)\n",
      "  Downloading mdurl-0.1.2-py3-none-any.whl.metadata (1.6 kB)\n",
      "Downloading spacy-3.7.5-cp312-cp312-macosx_11_0_arm64.whl (6.1 MB)\n",
      "\u001b[2K   \u001b[90m━━━━━━━━━━━━━━━━━━━━━━━━━━━━━━━━━━━━━━━━\u001b[0m \u001b[32m6.1/6.1 MB\u001b[0m \u001b[31m36.1 MB/s\u001b[0m eta \u001b[36m0:00:00\u001b[0ma \u001b[36m0:00:01\u001b[0m\n",
      "\u001b[?25hDownloading catalogue-2.0.10-py3-none-any.whl (17 kB)\n",
      "Downloading cymem-2.0.8-cp312-cp312-macosx_11_0_arm64.whl (41 kB)\n",
      "\u001b[2K   \u001b[90m━━━━━━━━━━━━━━━━━━━━━━━━━━━━━━━━━━━━━━━━\u001b[0m \u001b[32m41.4/41.4 kB\u001b[0m \u001b[31m3.9 MB/s\u001b[0m eta \u001b[36m0:00:00\u001b[0m\n",
      "\u001b[?25hDownloading langcodes-3.4.0-py3-none-any.whl (182 kB)\n",
      "\u001b[2K   \u001b[90m━━━━━━━━━━━━━━━━━━━━━━━━━━━━━━━━━━━━━━━━\u001b[0m \u001b[32m182.0/182.0 kB\u001b[0m \u001b[31m25.2 MB/s\u001b[0m eta \u001b[36m0:00:00\u001b[0m\n",
      "\u001b[?25hDownloading murmurhash-1.0.10-cp312-cp312-macosx_11_0_arm64.whl (26 kB)\n",
      "Downloading preshed-3.0.9-cp312-cp312-macosx_11_0_arm64.whl (128 kB)\n",
      "\u001b[2K   \u001b[90m━━━━━━━━━━━━━━━━━━━━━━━━━━━━━━━━━━━━━━━━\u001b[0m \u001b[32m128.6/128.6 kB\u001b[0m \u001b[31m14.2 MB/s\u001b[0m eta \u001b[36m0:00:00\u001b[0m\n",
      "\u001b[?25hDownloading pydantic-2.7.4-py3-none-any.whl (409 kB)\n",
      "\u001b[2K   \u001b[90m━━━━━━━━━━━━━━━━━━━━━━━━━━━━━━━━━━━━━━━━\u001b[0m \u001b[32m409.0/409.0 kB\u001b[0m \u001b[31m33.8 MB/s\u001b[0m eta \u001b[36m0:00:00\u001b[0m\n",
      "\u001b[?25hDownloading pydantic_core-2.18.4-cp312-cp312-macosx_11_0_arm64.whl (1.8 MB)\n",
      "\u001b[2K   \u001b[90m━━━━━━━━━━━━━━━━━━━━━━━━━━━━━━━━━━━━━━━━\u001b[0m \u001b[32m1.8/1.8 MB\u001b[0m \u001b[31m90.9 MB/s\u001b[0m eta \u001b[36m0:00:00\u001b[0m\n",
      "\u001b[?25hDownloading spacy_legacy-3.0.12-py2.py3-none-any.whl (29 kB)\n",
      "Downloading spacy_loggers-1.0.5-py3-none-any.whl (22 kB)\n",
      "Downloading srsly-2.4.8-cp312-cp312-macosx_11_0_arm64.whl (486 kB)\n",
      "\u001b[2K   \u001b[90m━━━━━━━━━━━━━━━━━━━━━━━━━━━━━━━━━━━━━━━━\u001b[0m \u001b[32m486.4/486.4 kB\u001b[0m \u001b[31m50.4 MB/s\u001b[0m eta \u001b[36m0:00:00\u001b[0m\n",
      "\u001b[?25hDownloading thinc-8.2.4-cp312-cp312-macosx_11_0_arm64.whl (760 kB)\n",
      "\u001b[2K   \u001b[90m━━━━━━━━━━━━━━━━━━━━━━━━━━━━━━━━━━━━━━━━\u001b[0m \u001b[32m760.5/760.5 kB\u001b[0m \u001b[31m56.5 MB/s\u001b[0m eta \u001b[36m0:00:00\u001b[0m\n",
      "\u001b[?25hDownloading typer-0.12.3-py3-none-any.whl (47 kB)\n",
      "\u001b[2K   \u001b[90m━━━━━━━━━━━━━━━━━━━━━━━━━━━━━━━━━━━━━━━━\u001b[0m \u001b[32m47.2/47.2 kB\u001b[0m \u001b[31m4.7 MB/s\u001b[0m eta \u001b[36m0:00:00\u001b[0m\n",
      "\u001b[?25hDownloading wasabi-1.1.3-py3-none-any.whl (27 kB)\n",
      "Downloading weasel-0.4.1-py3-none-any.whl (50 kB)\n",
      "\u001b[2K   \u001b[90m━━━━━━━━━━━━━━━━━━━━━━━━━━━━━━━━━━━━━━━━\u001b[0m \u001b[32m50.3/50.3 kB\u001b[0m \u001b[31m4.8 MB/s\u001b[0m eta \u001b[36m0:00:00\u001b[0m\n",
      "\u001b[?25hDownloading annotated_types-0.7.0-py3-none-any.whl (13 kB)\n",
      "Downloading blis-0.7.11-cp312-cp312-macosx_11_0_arm64.whl (1.1 MB)\n",
      "\u001b[2K   \u001b[90m━━━━━━━━━━━━━━━━━━━━━━━━━━━━━━━━━━━━━━━━\u001b[0m \u001b[32m1.1/1.1 MB\u001b[0m \u001b[31m72.1 MB/s\u001b[0m eta \u001b[36m0:00:00\u001b[0m\n",
      "\u001b[?25hDownloading cloudpathlib-0.18.1-py3-none-any.whl (47 kB)\n",
      "\u001b[2K   \u001b[90m━━━━━━━━━━━━━━━━━━━━━━━━━━━━━━━━━━━━━━━━\u001b[0m \u001b[32m47.3/47.3 kB\u001b[0m \u001b[31m5.5 MB/s\u001b[0m eta \u001b[36m0:00:00\u001b[0m\n",
      "\u001b[?25hDownloading confection-0.1.5-py3-none-any.whl (35 kB)\n",
      "Downloading language_data-1.2.0-py3-none-any.whl (5.4 MB)\n",
      "\u001b[2K   \u001b[90m━━━━━━━━━━━━━━━━━━━━━━━━━━━━━━━━━━━━━━━━\u001b[0m \u001b[32m5.4/5.4 MB\u001b[0m \u001b[31m94.2 MB/s\u001b[0m eta \u001b[36m0:00:00\u001b[0mta \u001b[36m0:00:01\u001b[0m\n",
      "\u001b[?25hDownloading rich-13.7.1-py3-none-any.whl (240 kB)\n",
      "\u001b[2K   \u001b[90m━━━━━━━━━━━━━━━━━━━━━━━━━━━━━━━━━━━━━━━━\u001b[0m \u001b[32m240.7/240.7 kB\u001b[0m \u001b[31m26.5 MB/s\u001b[0m eta \u001b[36m0:00:00\u001b[0m\n",
      "\u001b[?25hDownloading shellingham-1.5.4-py2.py3-none-any.whl (9.8 kB)\n",
      "Downloading smart_open-7.0.4-py3-none-any.whl (61 kB)\n",
      "\u001b[2K   \u001b[90m━━━━━━━━━━━━━━━━━━━━━━━━━━━━━━━━━━━━━━━━\u001b[0m \u001b[32m61.2/61.2 kB\u001b[0m \u001b[31m6.6 MB/s\u001b[0m eta \u001b[36m0:00:00\u001b[0m\n",
      "\u001b[?25hDownloading marisa_trie-1.2.0-cp312-cp312-macosx_11_0_arm64.whl (173 kB)\n",
      "\u001b[2K   \u001b[90m━━━━━━━━━━━━━━━━━━━━━━━━━━━━━━━━━━━━━━━━\u001b[0m \u001b[32m173.6/173.6 kB\u001b[0m \u001b[31m21.8 MB/s\u001b[0m eta \u001b[36m0:00:00\u001b[0m\n",
      "\u001b[?25hDownloading markdown_it_py-3.0.0-py3-none-any.whl (87 kB)\n",
      "\u001b[2K   \u001b[90m━━━━━━━━━━━━━━━━━━━━━━━━━━━━━━━━━━━━━━━━\u001b[0m \u001b[32m87.5/87.5 kB\u001b[0m \u001b[31m11.0 MB/s\u001b[0m eta \u001b[36m0:00:00\u001b[0m\n",
      "\u001b[?25hDownloading wrapt-1.16.0-cp312-cp312-macosx_11_0_arm64.whl (38 kB)\n",
      "Downloading mdurl-0.1.2-py3-none-any.whl (10.0 kB)\n",
      "Installing collected packages: cymem, wrapt, wasabi, spacy-loggers, spacy-legacy, shellingham, pydantic-core, murmurhash, mdurl, marisa-trie, cloudpathlib, catalogue, blis, annotated-types, srsly, smart-open, pydantic, preshed, markdown-it-py, language-data, rich, langcodes, confection, typer, thinc, weasel, spacy\n",
      "Successfully installed annotated-types-0.7.0 blis-0.7.11 catalogue-2.0.10 cloudpathlib-0.18.1 confection-0.1.5 cymem-2.0.8 langcodes-3.4.0 language-data-1.2.0 marisa-trie-1.2.0 markdown-it-py-3.0.0 mdurl-0.1.2 murmurhash-1.0.10 preshed-3.0.9 pydantic-2.7.4 pydantic-core-2.18.4 rich-13.7.1 shellingham-1.5.4 smart-open-7.0.4 spacy-3.7.5 spacy-legacy-3.0.12 spacy-loggers-1.0.5 srsly-2.4.8 thinc-8.2.4 typer-0.12.3 wasabi-1.1.3 weasel-0.4.1 wrapt-1.16.0\n"
     ]
    }
   ],
   "source": [
    "# Install spaCy\n",
    "!pip install spacy"
   ]
  },
  {
   "cell_type": "code",
   "execution_count": 154,
   "id": "6ee62902-9119-4dd6-811e-8e37305769ae",
   "metadata": {},
   "outputs": [
    {
     "name": "stdout",
     "output_type": "stream",
     "text": [
      "Collecting en-core-web-sm==3.7.1\n",
      "  Downloading https://github.com/explosion/spacy-models/releases/download/en_core_web_sm-3.7.1/en_core_web_sm-3.7.1-py3-none-any.whl (12.8 MB)\n",
      "\u001b[2K     \u001b[90m━━━━━━━━━━━━━━━━━━━━━━━━━━━━━━━━━━━━━━━━\u001b[0m \u001b[32m12.8/12.8 MB\u001b[0m \u001b[31m75.5 MB/s\u001b[0m eta \u001b[36m0:00:00\u001b[0m00:01\u001b[0m00:01\u001b[0m\n",
      "\u001b[?25hRequirement already satisfied: spacy<3.8.0,>=3.7.2 in ./env/lib/python3.12/site-packages (from en-core-web-sm==3.7.1) (3.7.5)\n",
      "Requirement already satisfied: spacy-legacy<3.1.0,>=3.0.11 in ./env/lib/python3.12/site-packages (from spacy<3.8.0,>=3.7.2->en-core-web-sm==3.7.1) (3.0.12)\n",
      "Requirement already satisfied: spacy-loggers<2.0.0,>=1.0.0 in ./env/lib/python3.12/site-packages (from spacy<3.8.0,>=3.7.2->en-core-web-sm==3.7.1) (1.0.5)\n",
      "Requirement already satisfied: murmurhash<1.1.0,>=0.28.0 in ./env/lib/python3.12/site-packages (from spacy<3.8.0,>=3.7.2->en-core-web-sm==3.7.1) (1.0.10)\n",
      "Requirement already satisfied: cymem<2.1.0,>=2.0.2 in ./env/lib/python3.12/site-packages (from spacy<3.8.0,>=3.7.2->en-core-web-sm==3.7.1) (2.0.8)\n",
      "Requirement already satisfied: preshed<3.1.0,>=3.0.2 in ./env/lib/python3.12/site-packages (from spacy<3.8.0,>=3.7.2->en-core-web-sm==3.7.1) (3.0.9)\n",
      "Requirement already satisfied: thinc<8.3.0,>=8.2.2 in ./env/lib/python3.12/site-packages (from spacy<3.8.0,>=3.7.2->en-core-web-sm==3.7.1) (8.2.4)\n",
      "Requirement already satisfied: wasabi<1.2.0,>=0.9.1 in ./env/lib/python3.12/site-packages (from spacy<3.8.0,>=3.7.2->en-core-web-sm==3.7.1) (1.1.3)\n",
      "Requirement already satisfied: srsly<3.0.0,>=2.4.3 in ./env/lib/python3.12/site-packages (from spacy<3.8.0,>=3.7.2->en-core-web-sm==3.7.1) (2.4.8)\n",
      "Requirement already satisfied: catalogue<2.1.0,>=2.0.6 in ./env/lib/python3.12/site-packages (from spacy<3.8.0,>=3.7.2->en-core-web-sm==3.7.1) (2.0.10)\n",
      "Requirement already satisfied: weasel<0.5.0,>=0.1.0 in ./env/lib/python3.12/site-packages (from spacy<3.8.0,>=3.7.2->en-core-web-sm==3.7.1) (0.4.1)\n",
      "Requirement already satisfied: typer<1.0.0,>=0.3.0 in ./env/lib/python3.12/site-packages (from spacy<3.8.0,>=3.7.2->en-core-web-sm==3.7.1) (0.12.3)\n",
      "Requirement already satisfied: tqdm<5.0.0,>=4.38.0 in ./env/lib/python3.12/site-packages (from spacy<3.8.0,>=3.7.2->en-core-web-sm==3.7.1) (4.66.4)\n",
      "Requirement already satisfied: requests<3.0.0,>=2.13.0 in ./env/lib/python3.12/site-packages (from spacy<3.8.0,>=3.7.2->en-core-web-sm==3.7.1) (2.32.2)\n",
      "Requirement already satisfied: pydantic!=1.8,!=1.8.1,<3.0.0,>=1.7.4 in ./env/lib/python3.12/site-packages (from spacy<3.8.0,>=3.7.2->en-core-web-sm==3.7.1) (2.7.4)\n",
      "Requirement already satisfied: jinja2 in ./env/lib/python3.12/site-packages (from spacy<3.8.0,>=3.7.2->en-core-web-sm==3.7.1) (3.1.4)\n",
      "Requirement already satisfied: setuptools in ./env/lib/python3.12/site-packages (from spacy<3.8.0,>=3.7.2->en-core-web-sm==3.7.1) (69.5.1)\n",
      "Requirement already satisfied: packaging>=20.0 in ./env/lib/python3.12/site-packages (from spacy<3.8.0,>=3.7.2->en-core-web-sm==3.7.1) (23.2)\n",
      "Requirement already satisfied: langcodes<4.0.0,>=3.2.0 in ./env/lib/python3.12/site-packages (from spacy<3.8.0,>=3.7.2->en-core-web-sm==3.7.1) (3.4.0)\n",
      "Requirement already satisfied: numpy>=1.19.0 in ./env/lib/python3.12/site-packages (from spacy<3.8.0,>=3.7.2->en-core-web-sm==3.7.1) (1.26.4)\n",
      "Requirement already satisfied: language-data>=1.2 in ./env/lib/python3.12/site-packages (from langcodes<4.0.0,>=3.2.0->spacy<3.8.0,>=3.7.2->en-core-web-sm==3.7.1) (1.2.0)\n",
      "Requirement already satisfied: annotated-types>=0.4.0 in ./env/lib/python3.12/site-packages (from pydantic!=1.8,!=1.8.1,<3.0.0,>=1.7.4->spacy<3.8.0,>=3.7.2->en-core-web-sm==3.7.1) (0.7.0)\n",
      "Requirement already satisfied: pydantic-core==2.18.4 in ./env/lib/python3.12/site-packages (from pydantic!=1.8,!=1.8.1,<3.0.0,>=1.7.4->spacy<3.8.0,>=3.7.2->en-core-web-sm==3.7.1) (2.18.4)\n",
      "Requirement already satisfied: typing-extensions>=4.6.1 in ./env/lib/python3.12/site-packages (from pydantic!=1.8,!=1.8.1,<3.0.0,>=1.7.4->spacy<3.8.0,>=3.7.2->en-core-web-sm==3.7.1) (4.11.0)\n",
      "Requirement already satisfied: charset-normalizer<4,>=2 in ./env/lib/python3.12/site-packages (from requests<3.0.0,>=2.13.0->spacy<3.8.0,>=3.7.2->en-core-web-sm==3.7.1) (2.0.4)\n",
      "Requirement already satisfied: idna<4,>=2.5 in ./env/lib/python3.12/site-packages (from requests<3.0.0,>=2.13.0->spacy<3.8.0,>=3.7.2->en-core-web-sm==3.7.1) (3.7)\n",
      "Requirement already satisfied: urllib3<3,>=1.21.1 in ./env/lib/python3.12/site-packages (from requests<3.0.0,>=2.13.0->spacy<3.8.0,>=3.7.2->en-core-web-sm==3.7.1) (2.2.1)\n",
      "Requirement already satisfied: certifi>=2017.4.17 in ./env/lib/python3.12/site-packages (from requests<3.0.0,>=2.13.0->spacy<3.8.0,>=3.7.2->en-core-web-sm==3.7.1) (2024.6.2)\n",
      "Requirement already satisfied: blis<0.8.0,>=0.7.8 in ./env/lib/python3.12/site-packages (from thinc<8.3.0,>=8.2.2->spacy<3.8.0,>=3.7.2->en-core-web-sm==3.7.1) (0.7.11)\n",
      "Requirement already satisfied: confection<1.0.0,>=0.0.1 in ./env/lib/python3.12/site-packages (from thinc<8.3.0,>=8.2.2->spacy<3.8.0,>=3.7.2->en-core-web-sm==3.7.1) (0.1.5)\n",
      "Requirement already satisfied: click>=8.0.0 in ./env/lib/python3.12/site-packages (from typer<1.0.0,>=0.3.0->spacy<3.8.0,>=3.7.2->en-core-web-sm==3.7.1) (8.1.7)\n",
      "Requirement already satisfied: shellingham>=1.3.0 in ./env/lib/python3.12/site-packages (from typer<1.0.0,>=0.3.0->spacy<3.8.0,>=3.7.2->en-core-web-sm==3.7.1) (1.5.4)\n",
      "Requirement already satisfied: rich>=10.11.0 in ./env/lib/python3.12/site-packages (from typer<1.0.0,>=0.3.0->spacy<3.8.0,>=3.7.2->en-core-web-sm==3.7.1) (13.7.1)\n",
      "Requirement already satisfied: cloudpathlib<1.0.0,>=0.7.0 in ./env/lib/python3.12/site-packages (from weasel<0.5.0,>=0.1.0->spacy<3.8.0,>=3.7.2->en-core-web-sm==3.7.1) (0.18.1)\n",
      "Requirement already satisfied: smart-open<8.0.0,>=5.2.1 in ./env/lib/python3.12/site-packages (from weasel<0.5.0,>=0.1.0->spacy<3.8.0,>=3.7.2->en-core-web-sm==3.7.1) (7.0.4)\n",
      "Requirement already satisfied: MarkupSafe>=2.0 in ./env/lib/python3.12/site-packages (from jinja2->spacy<3.8.0,>=3.7.2->en-core-web-sm==3.7.1) (2.1.3)\n",
      "Requirement already satisfied: marisa-trie>=0.7.7 in ./env/lib/python3.12/site-packages (from language-data>=1.2->langcodes<4.0.0,>=3.2.0->spacy<3.8.0,>=3.7.2->en-core-web-sm==3.7.1) (1.2.0)\n",
      "Requirement already satisfied: markdown-it-py>=2.2.0 in ./env/lib/python3.12/site-packages (from rich>=10.11.0->typer<1.0.0,>=0.3.0->spacy<3.8.0,>=3.7.2->en-core-web-sm==3.7.1) (3.0.0)\n",
      "Requirement already satisfied: pygments<3.0.0,>=2.13.0 in ./env/lib/python3.12/site-packages (from rich>=10.11.0->typer<1.0.0,>=0.3.0->spacy<3.8.0,>=3.7.2->en-core-web-sm==3.7.1) (2.15.1)\n",
      "Requirement already satisfied: wrapt in ./env/lib/python3.12/site-packages (from smart-open<8.0.0,>=5.2.1->weasel<0.5.0,>=0.1.0->spacy<3.8.0,>=3.7.2->en-core-web-sm==3.7.1) (1.16.0)\n",
      "Requirement already satisfied: mdurl~=0.1 in ./env/lib/python3.12/site-packages (from markdown-it-py>=2.2.0->rich>=10.11.0->typer<1.0.0,>=0.3.0->spacy<3.8.0,>=3.7.2->en-core-web-sm==3.7.1) (0.1.2)\n",
      "Installing collected packages: en-core-web-sm\n",
      "Successfully installed en-core-web-sm-3.7.1\n",
      "\u001b[38;5;2m✔ Download and installation successful\u001b[0m\n",
      "You can now load the package via spacy.load('en_core_web_sm')\n"
     ]
    }
   ],
   "source": [
    "# Download the English language model for spaCy\n",
    "!python -m spacy download en_core_web_sm\n"
   ]
  },
  {
   "cell_type": "code",
   "execution_count": 156,
   "id": "eafb31d4-3608-4bfc-bc3e-8cd67bbca46d",
   "metadata": {},
   "outputs": [],
   "source": [
    "import spacy\n",
    "\n",
    "# Load the spaCy model\n",
    "nlp = spacy.load(\"en_core_web_sm\")\n",
    "\n",
    "def get_inflected_forms(word):\n",
    "    doc = nlp(word)\n",
    "    token = doc[0]\n",
    "    inflections = [token.lemma_, token.text]\n",
    "    \n",
    "    # Generate forms\n",
    "    if token.tag_ in ('VB', 'VBP', 'VBZ'):\n",
    "        inflections.append(token.lemma_ + 'ing')  # Present participle\n",
    "        inflections.append(token.lemma_ + 'ed')   # Past tense\n",
    "    elif token.tag_ == 'NN':\n",
    "        inflections.append(token.lemma_ + 's')    # Plural\n",
    "    \n",
    "    return list(set(inflections))  # Remove duplicates"
   ]
  },
  {
   "cell_type": "code",
   "execution_count": 157,
   "id": "517ed40c-cd92-49e1-851c-e5414a8bacef",
   "metadata": {},
   "outputs": [
    {
     "name": "stdout",
     "output_type": "stream",
     "text": [
      "['falsifying', 'falsifyed', 'falsify']\n"
     ]
    }
   ],
   "source": [
    "# Example usage\n",
    "word = \"falsify\"\n",
    "inflected_forms = get_inflected_forms(word)\n",
    "print(inflected_forms)"
   ]
  },
  {
   "cell_type": "markdown",
   "id": "dd1d8425-88e6-4fe9-aed0-b44b606379e0",
   "metadata": {},
   "source": [
    "**Spacy**: by spacy I think we can find the other form of the words (verbs here) that we manually picked from queries!"
   ]
  },
  {
   "cell_type": "markdown",
   "id": "80b81fd3-408d-405a-9ea0-6333be7a152d",
   "metadata": {},
   "source": [
    "Here we use the prompt_words that we picked before:"
   ]
  },
  {
   "cell_type": "code",
   "execution_count": 159,
   "id": "a489351d-8ea7-44a5-be37-b7186175a367",
   "metadata": {},
   "outputs": [],
   "source": [
    "prompt_words = [\n",
    "    'misreporting', 'underreporting', 'falsifying', 'incorrect', 'mislabeled', 'undisclosed', \n",
    "    'altered', 'hidden', 'false', 'non-disclosed', 'non-compliant', 'undeclared', 'fake', \n",
    "    'unreported', 'inaccurate', 'unrecorded', 'bypassing', 'illegal', 'banned', \n",
    "    'manipulated', 'exceeding', 'unregistered', 'underreported', 'falsified', 'evading', \n",
    "    'hiding', 'doctored', 'contraband', 'mislabeled'\n",
    "]"
   ]
  },
  {
   "cell_type": "code",
   "execution_count": 197,
   "id": "01a480df-66ad-423a-a37b-85729e581063",
   "metadata": {},
   "outputs": [
    {
     "name": "stdout",
     "output_type": "stream",
     "text": [
      "['falsifying', 'falsifyed', 'falsify']\n"
     ]
    }
   ],
   "source": [
    "word = \"falsifying\"\n",
    "inflected_forms = get_inflected_forms(word)\n",
    "print(inflected_forms)"
   ]
  },
  {
   "cell_type": "code",
   "execution_count": 198,
   "id": "743ae391-a00a-4422-835e-448aa9b4a2d2",
   "metadata": {},
   "outputs": [
    {
     "name": "stdout",
     "output_type": "stream",
     "text": [
      "['misreporting', 'misreporte', 'misreporteing', 'misreported']\n"
     ]
    }
   ],
   "source": [
    "word = \"misreporting\"\n",
    "inflected_forms = get_inflected_forms(word)\n",
    "print(inflected_forms)"
   ]
  },
  {
   "cell_type": "code",
   "execution_count": 199,
   "id": "415d330b-4530-48fb-b0d1-117eb87e7d5c",
   "metadata": {},
   "outputs": [
    {
     "name": "stdout",
     "output_type": "stream",
     "text": [
      "['underreported', 'underreporteing', 'underreporte', 'underreporting']\n"
     ]
    }
   ],
   "source": [
    "word = \"underreporting\"\n",
    "inflected_forms = get_inflected_forms(word)\n",
    "print(inflected_forms)"
   ]
  },
  {
   "cell_type": "code",
   "execution_count": 200,
   "id": "159ea61a-5ef3-4eda-b693-4deb2647dc4f",
   "metadata": {},
   "outputs": [
    {
     "name": "stdout",
     "output_type": "stream",
     "text": [
      "['mislabeling', 'mislabeleing', 'mislabeled', 'mislabele']\n"
     ]
    }
   ],
   "source": [
    "word = \"mislabeling\"\n",
    "inflected_forms = get_inflected_forms(word)\n",
    "print(inflected_forms)"
   ]
  },
  {
   "cell_type": "code",
   "execution_count": 201,
   "id": "2578d10a-34b1-4270-ad19-7ea3dcb3ce45",
   "metadata": {},
   "outputs": [
    {
     "name": "stdout",
     "output_type": "stream",
     "text": [
      "['undisclose', 'undisclosed', 'undiscloseing', 'undisclosing']\n"
     ]
    }
   ],
   "source": [
    "word = \"undisclosing\"\n",
    "inflected_forms = get_inflected_forms(word)\n",
    "print(inflected_forms)"
   ]
  },
  {
   "cell_type": "code",
   "execution_count": 202,
   "id": "2dd8d5f6-2b53-42cc-9626-cebdf29049fa",
   "metadata": {},
   "outputs": [
    {
     "name": "stdout",
     "output_type": "stream",
     "text": [
      "['altered', 'alter', 'altering']\n"
     ]
    }
   ],
   "source": [
    "word = \"altering\"\n",
    "inflected_forms = get_inflected_forms(word)\n",
    "print(inflected_forms)"
   ]
  },
  {
   "cell_type": "code",
   "execution_count": 178,
   "id": "25e3f12e-02af-463a-8185-63eb714af0d2",
   "metadata": {},
   "outputs": [
    {
     "name": "stdout",
     "output_type": "stream",
     "text": [
      "['hided', 'hideing', 'hide', 'hidden']\n"
     ]
    }
   ],
   "source": [
    "word = \"hidden\"\n",
    "inflected_forms = get_inflected_forms(word)\n",
    "print(inflected_forms)"
   ]
  },
  {
   "cell_type": "code",
   "execution_count": 203,
   "id": "777c04b6-f6bb-41e2-a5f9-b11aa05626a1",
   "metadata": {},
   "outputs": [
    {
     "name": "stdout",
     "output_type": "stream",
     "text": [
      "['undeclare', 'undeclareing', 'undeclaring', 'undeclared']\n"
     ]
    }
   ],
   "source": [
    "word = \"undeclaring\"\n",
    "inflected_forms = get_inflected_forms(word)\n",
    "print(inflected_forms)"
   ]
  },
  {
   "cell_type": "code",
   "execution_count": 204,
   "id": "716a38df-e5f2-46c9-a7c2-5af790be6e17",
   "metadata": {},
   "outputs": [
    {
     "name": "stdout",
     "output_type": "stream",
     "text": [
      "['unreported', 'unreporteing', 'unreporte', 'unreporting']\n"
     ]
    }
   ],
   "source": [
    "word = \"unreporting\"\n",
    "inflected_forms = get_inflected_forms(word)\n",
    "print(inflected_forms)"
   ]
  },
  {
   "cell_type": "code",
   "execution_count": 196,
   "id": "bec9f85e-c755-4f56-9058-75cf9186f9b0",
   "metadata": {},
   "outputs": [
    {
     "name": "stdout",
     "output_type": "stream",
     "text": [
      "['unrecorde', 'unrecorded', 'unrecordeing', 'unrecording']\n"
     ]
    }
   ],
   "source": [
    "word = \"unrecording\"\n",
    "inflected_forms = get_inflected_forms(word)\n",
    "print(inflected_forms)"
   ]
  },
  {
   "cell_type": "code",
   "execution_count": 195,
   "id": "5707e0a8-ba63-4d5e-bc3a-cee4502d6c3d",
   "metadata": {},
   "outputs": [
    {
     "name": "stdout",
     "output_type": "stream",
     "text": [
      "['bypass', 'bypassing', 'bypassed']\n"
     ]
    }
   ],
   "source": [
    "word = \"bypassing\"\n",
    "inflected_forms = get_inflected_forms(word)\n",
    "print(inflected_forms)"
   ]
  },
  {
   "cell_type": "code",
   "execution_count": 194,
   "id": "d96b8489-abc8-4197-8792-c284301421b3",
   "metadata": {},
   "outputs": [
    {
     "name": "stdout",
     "output_type": "stream",
     "text": [
      "['unrecorde', 'unrecorded', 'unrecordeing', 'unrecording']\n"
     ]
    }
   ],
   "source": [
    "word = \"unrecording\"\n",
    "inflected_forms = get_inflected_forms(word)\n",
    "print(inflected_forms)"
   ]
  },
  {
   "cell_type": "code",
   "execution_count": 193,
   "id": "023655f8-2fc2-4055-b475-e6b008bd54ea",
   "metadata": {},
   "outputs": [
    {
     "name": "stdout",
     "output_type": "stream",
     "text": [
      "['ban', 'banning', 'baned', 'baning']\n"
     ]
    }
   ],
   "source": [
    "word = \"banning\"\n",
    "inflected_forms = get_inflected_forms(word)\n",
    "print(inflected_forms)"
   ]
  },
  {
   "cell_type": "code",
   "execution_count": 190,
   "id": "36c2e9cb-d979-43aa-a07f-88a1bf6b01dc",
   "metadata": {},
   "outputs": [
    {
     "name": "stdout",
     "output_type": "stream",
     "text": [
      "['manipulateing', 'manipulate', 'manipulating', 'manipulated']\n"
     ]
    }
   ],
   "source": [
    "word = \"manipulating\"\n",
    "inflected_forms = get_inflected_forms(word)\n",
    "print(inflected_forms)"
   ]
  },
  {
   "cell_type": "code",
   "execution_count": 189,
   "id": "8bea2356-751b-4dca-934b-9850f3000d16",
   "metadata": {},
   "outputs": [
    {
     "name": "stdout",
     "output_type": "stream",
     "text": [
      "['unrecorde', 'unrecorded', 'unrecordeing', 'unrecording']\n"
     ]
    }
   ],
   "source": [
    "word = \"unrecording\"\n",
    "inflected_forms = get_inflected_forms(word)\n",
    "print(inflected_forms)"
   ]
  },
  {
   "cell_type": "code",
   "execution_count": 188,
   "id": "dee17985-707b-46be-adea-6f3dba77cde7",
   "metadata": {},
   "outputs": [
    {
     "name": "stdout",
     "output_type": "stream",
     "text": [
      "['unregistered', 'unregistereing', 'unregistere']\n"
     ]
    }
   ],
   "source": [
    "word = \"unregistered\"\n",
    "inflected_forms = get_inflected_forms(word)\n",
    "print(inflected_forms)"
   ]
  },
  {
   "cell_type": "code",
   "execution_count": 206,
   "id": "f2abec1d-735f-47de-840f-3b813fcb5b65",
   "metadata": {},
   "outputs": [
    {
     "name": "stdout",
     "output_type": "stream",
     "text": [
      "['evadeing', 'evading', 'evaded', 'evade']\n"
     ]
    }
   ],
   "source": [
    "word = \"evading\"\n",
    "inflected_forms = get_inflected_forms(word)\n",
    "print(inflected_forms)"
   ]
  },
  {
   "cell_type": "code",
   "execution_count": 212,
   "id": "f7b6e80c-c14a-47ac-b92c-c75c6f2a7897",
   "metadata": {},
   "outputs": [
    {
     "name": "stdout",
     "output_type": "stream",
     "text": [
      "['doctored', 'doctoring', 'doctor']\n"
     ]
    }
   ],
   "source": [
    "word = \"doctored\"\n",
    "inflected_forms = get_inflected_forms(word)\n",
    "print(inflected_forms)"
   ]
  },
  {
   "cell_type": "markdown",
   "id": "e69921d3-4766-4fc8-852b-7c13583553f9",
   "metadata": {},
   "source": [
    "*************\n",
    "************\n",
    "************"
   ]
  },
  {
   "cell_type": "markdown",
   "id": "dd02a499-fcb6-4e6a-a7e4-4ab75937f71f",
   "metadata": {},
   "source": [
    "**This function retrieves words with meanings similar to the given query word & synonyms:**"
   ]
  },
  {
   "cell_type": "code",
   "execution_count": 78,
   "id": "16a7031f-741e-4ad4-a74e-cca540f4ebf3",
   "metadata": {},
   "outputs": [],
   "source": [
    "import requests\n",
    "\n",
    "def get_related_words_and_synonyms(word):\n",
    "     # the first url is for related words\n",
    "    url1 = f\"https://api.datamuse.com/words?ml={word}\"\n",
    "    response1 = requests.get(url1)\n",
    "    # the second url is for synonym of word\n",
    "    url2 = f\"https://api.datamuse.com/words?rel_syn={word}\"\n",
    "    response2 = requests.get(url2)\n",
    "    \n",
    "    if response1.status_code == 200 and response2.status_code == 200:\n",
    "        data1 = response1.json()\n",
    "        data2 = response2.json()\n",
    "        \n",
    "        # Extract 'word' from each dictionary in data1\n",
    "        words1 = [entry['word'] for entry in data1]\n",
    "        \n",
    "        # Extract 'word' from each dictionary in data2\n",
    "        words2 = [entry['word'] for entry in data2]\n",
    "        \n",
    "        # Combine the two lists of words\n",
    "        related_words_and_synonyms = words1 + words2\n",
    "        \n",
    "        return related_words_and_synonyms\n",
    "    else:\n",
    "        print(\"Error:\", response1.status_code, response2.status_code)\n",
    "        return []\n"
   ]
  },
  {
   "cell_type": "code",
   "execution_count": 124,
   "id": "6923f836-d80f-4fcd-a87c-9c82d1b72043",
   "metadata": {},
   "outputs": [
    {
     "name": "stdout",
     "output_type": "stream",
     "text": [
      "Related words and synonyms for report: ['describe', 'write up', 'composition', 'study', 'news report', 'account', 'story', 'report card', 'theme', 'turn in', 'reputation', 'paper', 'cover', 'summary', 'findings', 'article', 'briefing', 'review', 'survey', 'document', 'analysis', 'statement', 'detailed', 'summarized', 'investigation', 'assessment', 'memo', 'summaries', 'note', 'reportings', 'summarize', 'synopsis', 'summarizing', 'complaint', 'summarizes', 'writeup', 'documented', 'published', 'post', 'evaluation', 'description', 'preliminary', 'analyses', 'corroborate', 'corroborates', 'reporter', 'present', 'overview', 'concludes', 'corroborated', 'update', 'followup', 'notes', 'results', 'interview', 'noted', 'rebuttal', 'statistics', 'headline', 'information', 'cited', 'damning', 'summarising', 'substantiated', 'summarised', 'snippet', 'publication', 'comment', 'research', 'documentation', 'data', 'concluded', 'presentencing', 'whitepaper', 'news', 'inquiry', 'warning', 'presentation', 'relate', 'narrate', 'tell of', 'represent', 'tell', 'report back', 'account for', 'transmit', 'record', 'detail', 'communicate', 'coreport', 'call in', 'follow', 'relay', 'inform on', 'forthtell', 'disclose', 'outline', 'write', 'register', 'file', 'account', 'paper', 'cover', 'study', 'story', 'composition', 'describe', 'theme', 'reputation', 'turn in', 'write up', 'report card', 'news report']\n"
     ]
    },
    {
     "data": {
      "text/plain": [
       "113"
      ]
     },
     "execution_count": 124,
     "metadata": {},
     "output_type": "execute_result"
    }
   ],
   "source": [
    "word = \"report\"\n",
    "related_words_and_synonyms = get_related_words_and_synonyms(word)\n",
    "print(\"Related words and synonyms for\", word + \":\", related_words_and_synonyms)\n",
    "len(related_words_and_synonyms)"
   ]
  },
  {
   "cell_type": "code",
   "execution_count": 104,
   "id": "d0943222-22a4-4512-b94b-7b296ec80fd7",
   "metadata": {},
   "outputs": [],
   "source": [
    "import requests\n",
    "\n",
    "def search_bing(query):\n",
    "    # Bing Web Search API subscription key\n",
    "    # (this is our key for the repository: AunCMbLft0sd8sAgdMW4psOajxJb4_kzbo7l__tisJ_rrcz9ZOxW4OaTSW2dKEZW)\n",
    "    subscription_key = 'YOUR_SUBSCRIPTION_KEY'  \n",
    "    url = f'https://www.bing.com/search?q={query}'\n",
    "    # we need it for authorization\n",
    "    headers = {'Ocp-Apim-Subscription-Key': subscription_key}\n",
    "    \n",
    "    response = requests.get(url, headers=headers)\n",
    "    if response.status_code == 200:\n",
    "        data = response.json()\n",
    "        links = [result['url'] for result in data['webPages']['value']]\n",
    "        return links\n",
    "    else:\n",
    "        print(\"Error:\", response.status_code)\n",
    "        return []\n",
    "\n"
   ]
  },
  {
   "cell_type": "code",
   "execution_count": 125,
   "id": "81e86536-a3c5-48e0-ab86-f69186466bef",
   "metadata": {},
   "outputs": [],
   "source": [
    "#query = 'https://www.fisheries.noaa.gov/national/sustainable-seafood/seafood-fraud'\n",
    "#search_results = search_bing(query)\n",
    "#print(\"Search results for\", query + \":\", search_results)"
   ]
  },
  {
   "cell_type": "code",
   "execution_count": null,
   "id": "016f12f8-48c7-4477-bdea-be524b4462d2",
   "metadata": {},
   "outputs": [],
   "source": []
  }
 ],
 "metadata": {
  "kernelspec": {
   "display_name": "Python 3 (ipykernel)",
   "language": "python",
   "name": "python3"
  },
  "language_info": {
   "codemirror_mode": {
    "name": "ipython",
    "version": 3
   },
   "file_extension": ".py",
   "mimetype": "text/x-python",
   "name": "python",
   "nbconvert_exporter": "python",
   "pygments_lexer": "ipython3",
   "version": "3.12.3"
  }
 },
 "nbformat": 4,
 "nbformat_minor": 5
}
