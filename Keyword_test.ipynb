{
 "cells": [
  {
   "cell_type": "markdown",
   "id": "815ef043",
   "metadata": {},
   "source": [
    "### Terminologies from Sana's file"
   ]
  },
  {
   "cell_type": "code",
   "execution_count": 48,
   "id": "0277b321",
   "metadata": {},
   "outputs": [],
   "source": [
    "### Some terms are to be modified (especially those two-words terms. I commented them out for now.)\n",
    "terms = [\n",
    "    'unreported',\n",
    "    'misrepresented',\n",
    "    'logbook',\n",
    "    'false',\n",
    "    'declaration',\n",
    "    'landing',\n",
    "    'fraud',\n",
    "    'falsify',\n",
    "    'documentation',\n",
    "    'dockside',\n",
    "    'weight',\n",
    "    'fraud',\n",
    "    'catch',\n",
    "#    'black market',\n",
    "#    'under-declaration',\n",
    "    'harvest',\n",
    "    'transshipment',\n",
    "    'underreported',\n",
    "    'bycatch',\n",
    "    'undocumented',\n",
    "    'inflation',\n",
    "#    'double bookkeeping',\n",
    "    'selective',\n",
    "    'manipulation',\n",
    "    'juvenile',\n",
    "    'invasive'\n",
    "]\n"
   ]
  },
  {
   "cell_type": "code",
   "execution_count": 47,
   "id": "d72cf64c",
   "metadata": {},
   "outputs": [],
   "source": [
    "##### List of synonyms and derived form (manually done)\n",
    "terms_groups = [\n",
    "    ['unreport', 'unreported', 'unreporting', 'unreports'],\n",
    "    ['misrepresent', 'misrepresented', 'misrepresenting', 'misreports'],\n",
    "    ['logbook'],\n",
    "    ['false', 'falsify', 'falsifies', 'falsifying', 'falsifies', 'falsified', 'falsification', 'fake', 'manipulated', 'manipulate', 'manipulates'],\n",
    "    ['declaration', 'declare', 'declares', 'declared', 'declaring', 'underdeclaration', 'under-declaration'],\n",
    "    ['landing'],\n",
    "    ['fraud', 'fraudulence', 'hoax'],\n",
    "    ['catch', 'bycatch', 'harvest', 'juvenile', 'invasive'],\n",
    "    ['transshipment'],\n",
    "    ['underreport', 'underreports', 'underreported', 'underreporting'],\n",
    "    ['undocumented', 'undocument', 'undocumenting', 'undocuments'],\n",
    "    ['selective'],\n",
    "    ['inflation']\n",
    "]"
   ]
  },
  {
   "cell_type": "markdown",
   "id": "4b0bd61a",
   "metadata": {},
   "source": [
    "### Get words from CW.xltx "
   ]
  },
  {
   "cell_type": "code",
   "execution_count": 70,
   "id": "e9279306",
   "metadata": {},
   "outputs": [],
   "source": [
    "# hand picked words from Hiva's list\n",
    "\n",
    "words = [\n",
    "    'volume',\n",
    "    'quota',\n",
    "    'ocean',\n",
    "    'commercial',\n",
    "    'farmed',\n",
    "    'port',\n",
    "    'offend',\n",
    "    'regulation',\n",
    "    'violation',\n",
    "    'alter',\n",
    "    'register',\n",
    "    'exploit',\n",
    "    'impose',\n",
    "    'inspector',\n",
    "    'label',\n",
    "    'exceed'\n",
    "]"
   ]
  },
  {
   "cell_type": "code",
   "execution_count": 69,
   "id": "65b8f40a",
   "metadata": {},
   "outputs": [],
   "source": [
    "##### List of synonyms and derived form (manually done)\n",
    "\n",
    "words_forms = [\n",
    "    ['volume', 'quota', 'exceed', 'exceeds', 'exceeded', 'exceeding'],\n",
    "    ['ocean', 'sea', 'seas'],\n",
    "    ['commercial', 'industrial'],\n",
    "    ['farmed', 'farming'], \n",
    "    ['port'],\n",
    "    ['offend', 'offended', 'offends', 'violate', 'violates', 'violated', 'violation'],\n",
    "    ['regulation', 'regulate', 'regulated', 'regulates', 'regulating', 'regulations', 'regulates'],\n",
    "    ['alter', 'altering', 'alters'],\n",
    "    ['register', 'registers', 'registered', 'registering', 'unregister', 'unregisters', 'unregistered', 'unregistering'],\n",
    "    ['exploit', 'exploited', 'exploiting', 'exploits'],\n",
    "    ['impose', 'imposed', 'imposes', 'imposing'],\n",
    "    ['inspector', 'inspectors', 'inspect', 'inspects', 'inspected', 'inspecting','investigate', 'investigates', 'investigated','investigating','investigator'],\n",
    "    ['label', 'mislabel', 'labeling', 'labeled', 'labels', 'mislabeling', 'mislabled', 'mislables']\n",
    "]"
   ]
  },
  {
   "cell_type": "markdown",
   "id": "d3ffacd7",
   "metadata": {},
   "source": [
    "### Combined word list (roughly classified)"
   ]
  },
  {
   "cell_type": "code",
   "execution_count": 73,
   "id": "bea82155",
   "metadata": {},
   "outputs": [],
   "source": [
    "# Terms_groups and word_forms together\n",
    "\n",
    "word_groups = [\n",
    "    # About documents\n",
    "    ['unreport', 'unreported', 'unreporting', 'unreports'],\n",
    "    ['underreport', 'underreports', 'underreported', 'underreporting'],\n",
    "    ['undocumented', 'undocument', 'undocumenting', 'undocuments'],\n",
    "    ['misrepresent', 'misrepresented', 'misrepresenting', 'misreports'],\n",
    "    ['register', 'registers', 'registered', 'registering', 'unregister', 'unregisters', 'unregistered', 'unregistering'],\n",
    "    ['logbook', 'logged'],\n",
    "    ['declaration', 'declare', 'declares', 'declared', 'declaring', 'underdeclaration', 'under-declaration'],\n",
    "    ['label', 'mislabel', 'labeling', 'labeled', 'labels', 'mislabeling', 'mislabled', 'mislables'],\n",
    "    # About being false\n",
    "    ['false', 'falsify', 'falsifies', 'falsifying', 'falsifies', 'falsified', 'falsification', 'fake', 'manipulated', 'manipulate', 'manipulates'],\n",
    "    ['fraud', 'fraudulence', 'hoax'],\n",
    "    # About amounts\n",
    "    ['volume', 'quota', 'exceed', 'exceeds', 'exceeded', 'exceeding', 'inflation'],\n",
    "    # Fish, Ocean, port \n",
    "    ['catch', 'bycatch', 'harvest', 'juvenile', 'invasive'],\n",
    "    ['farmed', 'farming'], \n",
    "    ['ocean', 'sea', 'seas'],\n",
    "    ['port'],\n",
    "    ['transshipment'],\n",
    "    ['landing'],\n",
    "    ['selective'],    \n",
    "#    ['commercial', 'industrial'],\n",
    "    # Crime\n",
    "    ['offend', 'offended', 'offends', 'violate', 'violates', 'violated', 'violation'],\n",
    "    ['regulation', 'regulate', 'regulated', 'regulates', 'regulating', 'regulations', 'regulates'],\n",
    "    ['alter', 'altering', 'alters'],\n",
    "    ['exploit', 'exploited', 'exploiting', 'exploits'],\n",
    "    ['impose', 'imposed', 'imposes', 'imposing'],\n",
    "    ['inspector', 'inspectors', 'inspect', 'inspects', 'inspected', 'inspecting','investigate', 'investigates', 'investigated','investigating','investigator'],\n",
    "]\n"
   ]
  },
  {
   "cell_type": "markdown",
   "id": "2597cbed",
   "metadata": {},
   "source": [
    "### function: Cleaning word using a word groups"
   ]
  },
  {
   "cell_type": "code",
   "execution_count": 77,
   "id": "ac7a4584",
   "metadata": {},
   "outputs": [
    {
     "name": "stdout",
     "output_type": "stream",
     "text": [
      "\n",
      "    someone was involved in a fraud activity with misrepresent fish catch\n",
      "    we have false document that is false and declaration by a captain\n",
      "    the captain was also undocumented the logbook the police caught the captain in landing\n",
      "\n"
     ]
    }
   ],
   "source": [
    "import re \n",
    "\n",
    "def clean_word(text, group):\n",
    "    if len(group) == 1:\n",
    "        return text\n",
    "    elif len(group) != 1:\n",
    "        updated_text = text\n",
    "        for i in range(1,len(group)):\n",
    "            pattern = r'\\b{}\\b'.format(re.escape(group[i]))\n",
    "            updated_text = re.sub(pattern, group[0], updated_text)\n",
    "        return updated_text\n",
    "    else:\n",
    "        print(\"The word group is empty\")\n",
    "        return None\n",
    "        \n",
    "\n",
    "#### Just to test \n",
    "testtext = \"\"\"\n",
    "    someone was involved in a fraudulence activity with misrepresented fish bycatch\n",
    "    we have falsified document that is manipulated and declared by a captain\n",
    "    the captain was also undocumented the logbook the police caught the captain in landing\n",
    "\"\"\"\n",
    "\n",
    "new_text = testtext\n",
    "for i in range(len(word_groups)):\n",
    "    new_text = clean_word(new_text, word_groups[i])\n",
    "    \n",
    "print(new_text)"
   ]
  },
  {
   "cell_type": "code",
   "execution_count": null,
   "id": "50663734",
   "metadata": {},
   "outputs": [],
   "source": []
  },
  {
   "cell_type": "code",
   "execution_count": null,
   "id": "eecf7c72",
   "metadata": {},
   "outputs": [],
   "source": []
  },
  {
   "cell_type": "code",
   "execution_count": null,
   "id": "0acc2941",
   "metadata": {},
   "outputs": [],
   "source": []
  },
  {
   "cell_type": "code",
   "execution_count": null,
   "id": "c7df5f29",
   "metadata": {},
   "outputs": [],
   "source": []
  },
  {
   "cell_type": "code",
   "execution_count": null,
   "id": "3dcd29ea",
   "metadata": {},
   "outputs": [],
   "source": []
  },
  {
   "cell_type": "code",
   "execution_count": null,
   "id": "b9b0c281",
   "metadata": {},
   "outputs": [],
   "source": []
  },
  {
   "cell_type": "code",
   "execution_count": null,
   "id": "037af7a0",
   "metadata": {},
   "outputs": [],
   "source": []
  },
  {
   "cell_type": "code",
   "execution_count": 41,
   "id": "72821ade",
   "metadata": {},
   "outputs": [],
   "source": [
    "import pandas as pd\n",
    "\n",
    "# read the excel file\n",
    "filename = 'CW.xltx'\n",
    "sheet_name = 'CW'\n",
    "start_row = 14\n",
    "\n",
    "words_data = pd.read_excel(filename, sheet_name=sheet_name, skiprows=start_row)\n",
    "\n",
    "#print(words_data)\n",
    "# Need to remove NaN\n",
    "# Can I make each column as a list"
   ]
  },
  {
   "cell_type": "code",
   "execution_count": 49,
   "id": "6d853da9",
   "metadata": {},
   "outputs": [
    {
     "name": "stdout",
     "output_type": "stream",
     "text": [
      "           Column 1\n",
      "0             quota\n",
      "1        protected \n",
      "2         ecosystem\n",
      "3         shoreline\n",
      "4         protected\n",
      "5       aquaculture\n",
      "6     transgression\n",
      "7      storage area\n",
      "8              levy\n",
      "9   Shetland Black \n",
      "10         fishing \n",
      "11          dispute\n",
      "12           volume\n",
      "13      high-value \n",
      "14     South Korean\n",
      "15       Argentine \n",
      "16          altered\n",
      "17            alter\n",
      "18         altering\n",
      "19           alters\n",
      "Column '0' as list:\n",
      "['quota', 'protected ', 'ecosystem', 'shoreline', 'protected', 'aquaculture', 'transgression', 'storage area', 'levy', 'Shetland Black ', 'fishing ', 'dispute', 'volume', 'high-value ', 'South Korean', 'Argentine ', 'altered', 'alter', 'altering', 'alters', 'evading', 'evade', 'evaded', 'evades', 'unregistered', 'unregister', 'unregisters', 'unregistering', 'register', 'registers', 'registered', 'registering', 'logged', 'Shark Fin', \"Shetland'S Black Fish Scandal\"]\n"
     ]
    }
   ],
   "source": [
    "import pandas as pd\n",
    "\n",
    "def import_excel_column(file_path, sheet_name, i, start_row, max_rows):\n",
    "    try:\n",
    "\n",
    "        # Load a specific sheet into a DataFrame\n",
    "        df = pd.read_excel(file_path, sheet_name=sheet_name, usecols=[i], nrows=max_rows, skiprows=start_row - 1)\n",
    "\n",
    "        # Convert the desired column to a list\n",
    "        print(df.head(20))\n",
    "        col_name = f\"Column {i+1}\"\n",
    "        column_list = df[col_name].dropna().tolist()\n",
    "\n",
    "        return column_list\n",
    "\n",
    "    except Exception as e:\n",
    "        print(f\"An error occurred: {str(e)}\")\n",
    "        return None\n",
    "\n",
    "# Example usage:\n",
    "\n",
    "file_path = 'CW.xltx'  # Replace with your Excel file path\n",
    "sheet_name = 'CW'       # Replace with your sheet name\n",
    "#    column_name = 'Column 1'     # Replace with the column name you want to import\n",
    "i=0\n",
    "start_row = 15\n",
    "max_rows = 57-start_row\n",
    "    \n",
    "column_list = import_excel_column(file_path, sheet_name, i,  start_row, max_rows)\n",
    "\n",
    "if column_list:\n",
    "    print(f\"Column '{i}' as list:\")\n",
    "    print(column_list)\n",
    "else:\n",
    "    print(\"Failed to import column as list.\")\n",
    "\n",
    "        \n",
    "        \n"
   ]
  },
  {
   "cell_type": "markdown",
   "id": "00d92ccf",
   "metadata": {},
   "source": []
  },
  {
   "cell_type": "code",
   "execution_count": 39,
   "id": "7c9a3a09",
   "metadata": {},
   "outputs": [],
   "source": []
  },
  {
   "cell_type": "code",
   "execution_count": null,
   "id": "8ea4e12c",
   "metadata": {},
   "outputs": [],
   "source": []
  }
 ],
 "metadata": {
  "kernelspec": {
   "display_name": "Python 3 (ipykernel)",
   "language": "python",
   "name": "python3"
  },
  "language_info": {
   "codemirror_mode": {
    "name": "ipython",
    "version": 3
   },
   "file_extension": ".py",
   "mimetype": "text/x-python",
   "name": "python",
   "nbconvert_exporter": "python",
   "pygments_lexer": "ipython3",
   "version": "3.11.7"
  }
 },
 "nbformat": 4,
 "nbformat_minor": 5
}
